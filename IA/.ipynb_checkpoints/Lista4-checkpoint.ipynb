{
 "cells": [
  {
   "cell_type": "markdown",
   "metadata": {
    "id": "dSEPq3jNC7GA"
   },
   "source": [
    "Função de pertinência"
   ]
  },
  {
   "cell_type": "code",
   "execution_count": null,
   "metadata": {
    "colab": {
     "base_uri": "https://localhost:8080/"
    },
    "id": "Fu2MYfYW-PMm",
    "outputId": "7d435f32-943c-4fd4-cc9b-7c1391ea5949"
   },
   "outputs": [],
   "source": [
    "# instalando\n",
    "!pip install -U scikit-fuzzy"
   ]
  },
  {
   "cell_type": "code",
   "execution_count": null,
   "metadata": {
    "id": "6jOHE7_G-Voi"
   },
   "outputs": [],
   "source": [
    "########### Testando a instalação\n",
    "# importando a biblioteca de \"arrays\" numéricos\n",
    "import numpy as np\n",
    "# importando a biblioteca fuzzy\n",
    "import skfuzzy as fuzzy\n",
    "# importando a biblioteca para os gráficos\n",
    "import matplotlib.pyplot as plt\n",
    "\n",
    "## Definição do Universo dos Conjuntos"
   ]
  },
  {
   "cell_type": "code",
   "execution_count": null,
   "metadata": {
    "colab": {
     "base_uri": "https://localhost:8080/"
    },
    "id": "eHrGQpE3-WlB",
    "outputId": "af17049f-3c65-4f1e-c684-237d50538a73"
   },
   "outputs": [],
   "source": [
    "# Universos dos conjuntos\n",
    "print('Temperatura:')\n",
    "temperatura = np.arange(0, 29.5, 1)\n",
    "print(temperatura)\n",
    "print('Luz:')\n",
    "luz = np.arange(0, 100.5, 1)\n",
    "print(luz)\n",
    "print('Quantidade estimada de turistas:')\n",
    "turistas = np.arange(0, 100.5, 1)\n",
    "print(turistas)"
   ]
  },
  {
   "cell_type": "code",
   "execution_count": null,
   "metadata": {
    "id": "CDM0WBzF_bW1"
   },
   "outputs": [],
   "source": [
    "# Conjunto da Temperatura - Fria, Morna, Quente\n",
    "TF = fuzzy.trapmf(temperatura, [0, 0, 17, 20])\n",
    "TM = fuzzy.trapmf(temperatura, [17, 20, 26, 29])\n",
    "TQ = fuzzy.trapmf(temperatura, [26, 29, 29, 29])"
   ]
  },
  {
   "cell_type": "code",
   "execution_count": null,
   "metadata": {
    "id": "QASVIq39ASiK"
   },
   "outputs": [],
   "source": [
    "# Conjunto da Luz - Nublado, Parcialmente Ensolarado, Ensolarado\n",
    "LN = fuzzy.trapmf(luz, [-10, 0, 30, 50])\n",
    "LPE = fuzzy.trimf(luz, [30, 50, 100])\n",
    "LE = fuzzy.trapmf(luz, [50, 100, 100, 100])"
   ]
  },
  {
   "cell_type": "code",
   "execution_count": null,
   "metadata": {
    "id": "nqOGFJTXAn-I"
   },
   "outputs": [],
   "source": [
    "# Conjunto da Quantidade estimada de turistas - Baixo, Médio, Alto\n",
    "LB = fuzzy.trimf(turistas, [0, 0, 50])\n",
    "LM = fuzzy.trimf(turistas, [0, 50, 100])\n",
    "LA = fuzzy.trimf(turistas, [50, 100, 100])"
   ]
  },
  {
   "cell_type": "code",
   "execution_count": null,
   "metadata": {
    "colab": {
     "base_uri": "https://localhost:8080/",
     "height": 657
    },
    "id": "rGMH0DYtAxxQ",
    "outputId": "6fd41b02-e962-4a39-b1ca-3a5a70e4c7c5"
   },
   "outputs": [],
   "source": [
    "fig, (ax0, ax1, ax2) = plt.subplots(nrows=3, figsize=(8, 9))\n",
    "#\n",
    "ax0.plot(temperatura, TF, 'b', linewidth=1.5, label='Fria')\n",
    "ax0.plot(temperatura, TM, 'g', linewidth=1.5, label='Morna')\n",
    "ax0.plot(temperatura, TQ, 'r', linewidth=1.5, label='Quente')\n",
    "ax0.set_title('Temperatura')\n",
    "ax0.legend();\n",
    "#\n",
    "ax1.plot(luz, LN, 'b', linewidth=1.5, label='Nublado')\n",
    "ax1.plot(luz, LPE, 'g', linewidth=1.5, label='Parcialmene ensolarado')\n",
    "ax1.plot(luz, LE, 'r', linewidth=1.5, label='Ensolarado')\n",
    "ax1.set_title('Luz')\n",
    "ax1.legend();\n",
    "#\n",
    "ax2.plot(turistas, LB, 'b', linewidth=1.5, label='Baixo')\n",
    "ax2.plot(turistas, LM, 'g', linewidth=1.5, label='Médio')\n",
    "ax2.plot(turistas, LA, 'r', linewidth=1.5, label='Alto')\n",
    "ax2.set_title('Quantidade estimada de turistas')\n",
    "ax2.legend();\n",
    "#\n",
    "# Turn off top/right axes\n",
    "#for ax in (ax0, ax1, ax2):\n",
    "#    ax.spines['top'].set_visible(False)\n",
    "#    ax.spines['right'].set_visible(False)\n",
    "#    ax.get_xaxis().tick_bottom()\n",
    "#    ax.get_yaxis().tick_left()\n",
    "\n",
    "plt.tight_layout()"
   ]
  },
  {
   "cell_type": "markdown",
   "metadata": {
    "id": "AeYFPIvxDA5X"
   },
   "source": [
    "Regra Fuzzy"
   ]
  },
  {
   "cell_type": "code",
   "execution_count": null,
   "metadata": {
    "id": "i1BB7pexA4PT"
   },
   "outputs": [],
   "source": [
    "# Valores fixo\n",
    "temperatura1 = 15\n",
    "temperatura2 = 18\n",
    "temperatura3 = 23\n",
    "temperatura4 = 27\n",
    "\n",
    "luz1 = 20\n",
    "luz2 = 40\n",
    "lux3 = 60\n",
    "luz4 = 80"
   ]
  },
  {
   "cell_type": "code",
   "execution_count": null,
   "metadata": {},
   "outputs": [],
   "source": [
    "# Ativar a regras\n",
    "# Temperatura\n",
    "peso_ml = fuzzy.interp_membership(temperatura, TF, temperatura1)\n",
    "peso_le = fuzzy.interp_membership(temperatura, TM, temperatura1)\n",
    "peso_pe = fuzzy.interp_membership(temperatura, TQ, temperatura1)\n",
    "\n",
    "# sujo\n",
    "sujo_ql = fuzzy.interp_membership(luz1, LN, luz)\n",
    "sujo_su = fuzzy.interp_membership(luz1, LPE, luz)\n",
    "sujo_ms = fuzzy.interp_membership(luz1, LE, luz)"
   ]
  },
  {
   "cell_type": "code",
   "execution_count": null,
   "metadata": {},
   "outputs": [],
   "source": []
  }
 ],
 "metadata": {
  "colab": {
   "name": "Untitled1.ipynb",
   "provenance": []
  },
  "kernelspec": {
   "display_name": "Python 3 (ipykernel)",
   "language": "python",
   "name": "python3"
  },
  "language_info": {
   "name": "python"
  }
 },
 "nbformat": 4,
 "nbformat_minor": 1
}
