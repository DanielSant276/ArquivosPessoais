{
 "cells": [
  {
   "cell_type": "code",
   "execution_count": 79,
   "id": "3e2462ca",
   "metadata": {
    "execution": {
     "iopub.execute_input": "2021-10-20T16:27:42.489780Z",
     "iopub.status.busy": "2021-10-20T16:27:42.489153Z",
     "iopub.status.idle": "2021-10-20T16:27:43.363194Z",
     "shell.execute_reply": "2021-10-20T16:27:43.363760Z",
     "shell.execute_reply.started": "2021-10-20T15:31:19.204836Z"
    },
    "papermill": {
     "duration": 0.8965,
     "end_time": "2021-10-20T16:27:43.364069",
     "exception": false,
     "start_time": "2021-10-20T16:27:42.467569",
     "status": "completed"
    },
    "tags": []
   },
   "outputs": [],
   "source": [
    "import pandas as pd\n",
    "import numpy as np\n",
    "import matplotlib\n",
    "import matplotlib.pyplot as plt\n",
    "import seaborn as sns"
   ]
  },
  {
   "cell_type": "code",
   "execution_count": 80,
   "id": "d498f641",
   "metadata": {
    "execution": {
     "iopub.execute_input": "2021-10-20T16:27:43.388556Z",
     "iopub.status.busy": "2021-10-20T16:27:43.387884Z",
     "iopub.status.idle": "2021-10-20T16:27:45.535237Z",
     "shell.execute_reply": "2021-10-20T16:27:45.534526Z",
     "shell.execute_reply.started": "2021-10-20T15:31:35.849664Z"
    },
    "papermill": {
     "duration": 2.161373,
     "end_time": "2021-10-20T16:27:45.535387",
     "exception": false,
     "start_time": "2021-10-20T16:27:43.374014",
     "status": "completed"
    },
    "tags": []
   },
   "outputs": [],
   "source": [
    "df = pd.read_csv(\"./kddcup99-dataset/kddcup99.csv\")"
   ]
  },
  {
   "cell_type": "code",
   "execution_count": 81,
   "id": "31b62420",
   "metadata": {
    "execution": {
     "iopub.execute_input": "2021-10-20T16:27:45.558261Z",
     "iopub.status.busy": "2021-10-20T16:27:45.557614Z",
     "iopub.status.idle": "2021-10-20T16:27:45.564308Z",
     "shell.execute_reply": "2021-10-20T16:27:45.564754Z",
     "shell.execute_reply.started": "2021-10-20T15:31:45.629631Z"
    },
    "papermill": {
     "duration": 0.019712,
     "end_time": "2021-10-20T16:27:45.564913",
     "exception": false,
     "start_time": "2021-10-20T16:27:45.545201",
     "status": "completed"
    },
    "tags": []
   },
   "outputs": [
    {
     "data": {
      "text/plain": [
       "(494020, 42)"
      ]
     },
     "execution_count": 81,
     "metadata": {},
     "output_type": "execute_result"
    }
   ],
   "source": [
    "df.shape"
   ]
  },
  {
   "cell_type": "raw",
   "id": "56984de3",
   "metadata": {
    "papermill": {
     "duration": 0.009588,
     "end_time": "2021-10-20T16:27:45.584550",
     "exception": false,
     "start_time": "2021-10-20T16:27:45.574962",
     "status": "completed"
    },
    "tags": []
   },
   "source": [
    "df.drop_duplicates(keep= 'first', inplace=True)\n",
    "df.shape"
   ]
  },
  {
   "cell_type": "code",
   "execution_count": 82,
   "id": "81b09f6e",
   "metadata": {
    "execution": {
     "iopub.execute_input": "2021-10-20T16:27:45.607921Z",
     "iopub.status.busy": "2021-10-20T16:27:45.606987Z",
     "iopub.status.idle": "2021-10-20T16:27:45.612446Z",
     "shell.execute_reply": "2021-10-20T16:27:45.612976Z",
     "shell.execute_reply.started": "2021-10-20T15:32:03.405238Z"
    },
    "papermill": {
     "duration": 0.018734,
     "end_time": "2021-10-20T16:27:45.613135",
     "exception": false,
     "start_time": "2021-10-20T16:27:45.594401",
     "status": "completed"
    },
    "tags": []
   },
   "outputs": [
    {
     "data": {
      "text/plain": [
       "Index(['duration', 'protocol_type', 'service', 'flag', 'src_bytes',\n",
       "       'dst_bytes', 'land', 'wrong_fragment', 'urgent', 'hot',\n",
       "       'num_failed_logins', 'logged_in', 'lnum_compromised', 'lroot_shell',\n",
       "       'lsu_attempted', 'lnum_root', 'lnum_file_creations', 'lnum_shells',\n",
       "       'lnum_access_files', 'lnum_outbound_cmds', 'is_host_login',\n",
       "       'is_guest_login', 'count', 'srv_count', 'serror_rate',\n",
       "       'srv_serror_rate', 'rerror_rate', 'srv_rerror_rate', 'same_srv_rate',\n",
       "       'diff_srv_rate', 'srv_diff_host_rate', 'dst_host_count',\n",
       "       'dst_host_srv_count', 'dst_host_same_srv_rate',\n",
       "       'dst_host_diff_srv_rate', 'dst_host_same_src_port_rate',\n",
       "       'dst_host_srv_diff_host_rate', 'dst_host_serror_rate',\n",
       "       'dst_host_srv_serror_rate', 'dst_host_rerror_rate',\n",
       "       'dst_host_srv_rerror_rate', 'label'],\n",
       "      dtype='object')"
      ]
     },
     "execution_count": 82,
     "metadata": {},
     "output_type": "execute_result"
    }
   ],
   "source": [
    "df.columns"
   ]
  },
  {
   "cell_type": "code",
   "execution_count": 83,
   "id": "e34ef3d2",
   "metadata": {
    "execution": {
     "iopub.execute_input": "2021-10-20T16:27:45.636923Z",
     "iopub.status.busy": "2021-10-20T16:27:45.636025Z",
     "iopub.status.idle": "2021-10-20T16:27:45.783369Z",
     "shell.execute_reply": "2021-10-20T16:27:45.783935Z",
     "shell.execute_reply.started": "2021-10-20T15:32:16.380581Z"
    },
    "papermill": {
     "duration": 0.160874,
     "end_time": "2021-10-20T16:27:45.784099",
     "exception": false,
     "start_time": "2021-10-20T16:27:45.623225",
     "status": "completed"
    },
    "tags": []
   },
   "outputs": [
    {
     "name": "stdout",
     "output_type": "stream",
     "text": [
      "<class 'pandas.core.frame.DataFrame'>\n",
      "RangeIndex: 494020 entries, 0 to 494019\n",
      "Data columns (total 42 columns):\n",
      " #   Column                       Non-Null Count   Dtype  \n",
      "---  ------                       --------------   -----  \n",
      " 0   duration                     494020 non-null  int64  \n",
      " 1   protocol_type                494020 non-null  object \n",
      " 2   service                      494020 non-null  object \n",
      " 3   flag                         494020 non-null  object \n",
      " 4   src_bytes                    494020 non-null  int64  \n",
      " 5   dst_bytes                    494020 non-null  int64  \n",
      " 6   land                         494020 non-null  int64  \n",
      " 7   wrong_fragment               494020 non-null  int64  \n",
      " 8   urgent                       494020 non-null  int64  \n",
      " 9   hot                          494020 non-null  int64  \n",
      " 10  num_failed_logins            494020 non-null  int64  \n",
      " 11  logged_in                    494020 non-null  int64  \n",
      " 12  lnum_compromised             494020 non-null  int64  \n",
      " 13  lroot_shell                  494020 non-null  int64  \n",
      " 14  lsu_attempted                494020 non-null  int64  \n",
      " 15  lnum_root                    494020 non-null  int64  \n",
      " 16  lnum_file_creations          494020 non-null  int64  \n",
      " 17  lnum_shells                  494020 non-null  int64  \n",
      " 18  lnum_access_files            494020 non-null  int64  \n",
      " 19  lnum_outbound_cmds           494020 non-null  int64  \n",
      " 20  is_host_login                494020 non-null  int64  \n",
      " 21  is_guest_login               494020 non-null  int64  \n",
      " 22  count                        494020 non-null  int64  \n",
      " 23  srv_count                    494020 non-null  int64  \n",
      " 24  serror_rate                  494020 non-null  float64\n",
      " 25  srv_serror_rate              494020 non-null  float64\n",
      " 26  rerror_rate                  494020 non-null  float64\n",
      " 27  srv_rerror_rate              494020 non-null  float64\n",
      " 28  same_srv_rate                494020 non-null  float64\n",
      " 29  diff_srv_rate                494020 non-null  float64\n",
      " 30  srv_diff_host_rate           494020 non-null  float64\n",
      " 31  dst_host_count               494020 non-null  int64  \n",
      " 32  dst_host_srv_count           494020 non-null  int64  \n",
      " 33  dst_host_same_srv_rate       494020 non-null  float64\n",
      " 34  dst_host_diff_srv_rate       494020 non-null  float64\n",
      " 35  dst_host_same_src_port_rate  494020 non-null  float64\n",
      " 36  dst_host_srv_diff_host_rate  494020 non-null  float64\n",
      " 37  dst_host_serror_rate         494020 non-null  float64\n",
      " 38  dst_host_srv_serror_rate     494020 non-null  float64\n",
      " 39  dst_host_rerror_rate         494020 non-null  float64\n",
      " 40  dst_host_srv_rerror_rate     494020 non-null  float64\n",
      " 41  label                        494020 non-null  object \n",
      "dtypes: float64(15), int64(23), object(4)\n",
      "memory usage: 158.3+ MB\n"
     ]
    }
   ],
   "source": [
    "df.info()"
   ]
  },
  {
   "cell_type": "code",
   "execution_count": 84,
   "id": "d9db49dd",
   "metadata": {
    "execution": {
     "iopub.execute_input": "2021-10-20T16:27:45.808485Z",
     "iopub.status.busy": "2021-10-20T16:27:45.807564Z",
     "iopub.status.idle": "2021-10-20T16:27:45.855655Z",
     "shell.execute_reply": "2021-10-20T16:27:45.854705Z",
     "shell.execute_reply.started": "2021-10-20T15:32:54.704689Z"
    },
    "papermill": {
     "duration": 0.061242,
     "end_time": "2021-10-20T16:27:45.855815",
     "exception": false,
     "start_time": "2021-10-20T16:27:45.794573",
     "status": "completed"
    },
    "tags": []
   },
   "outputs": [],
   "source": [
    "input_cols = list(df.columns)[1:-1]\n",
    "target_col = 'label'\n",
    "numeric_cols = df.select_dtypes(include=np.number).columns.tolist()[:-1]"
   ]
  },
  {
   "cell_type": "code",
   "execution_count": 85,
   "id": "0289f809",
   "metadata": {},
   "outputs": [
    {
     "data": {
      "text/plain": [
       "<AxesSubplot:>"
      ]
     },
     "execution_count": 85,
     "metadata": {},
     "output_type": "execute_result"
    },
    {
     "data": {
      "image/png": "[encoded data removed]",
      "text/plain": [
       "<Figure size 432x288 with 1 Axes>"
      ]
     },
     "metadata": {
      "needs_background": "light"
     },
     "output_type": "display_data"
    }
   ],
   "source": [
    "count_labels = df['label'].value_counts()\n",
    "count_labels.plot(kind = \"barh\")\n"
   ]
  },
  {
   "cell_type": "code",
   "execution_count": 86,
   "id": "635888d5",
   "metadata": {
    "execution": {
     "iopub.execute_input": "2021-10-20T16:27:45.882809Z",
     "iopub.status.busy": "2021-10-20T16:27:45.881785Z",
     "iopub.status.idle": "2021-10-20T16:27:46.646481Z",
     "shell.execute_reply": "2021-10-20T16:27:46.645891Z",
     "shell.execute_reply.started": "2021-10-20T15:32:55.891236Z"
    },
    "papermill": {
     "duration": 0.779099,
     "end_time": "2021-10-20T16:27:46.646642",
     "exception": false,
     "start_time": "2021-10-20T16:27:45.867543",
     "status": "completed"
    },
    "tags": []
   },
   "outputs": [],
   "source": [
    "from sklearn.preprocessing import MinMaxScaler\n",
    "scaler = MinMaxScaler()\n",
    "scaler.fit(df[numeric_cols])\n",
    "df[numeric_cols] = scaler.transform(df[numeric_cols])"
   ]
  },
  {
   "cell_type": "code",
   "execution_count": 87,
   "id": "d6871149",
   "metadata": {
    "execution": {
     "iopub.execute_input": "2021-10-20T16:27:46.720094Z",
     "iopub.status.busy": "2021-10-20T16:27:46.714925Z",
     "iopub.status.idle": "2021-10-20T16:27:47.036464Z",
     "shell.execute_reply": "2021-10-20T16:27:47.035877Z",
     "shell.execute_reply.started": "2021-10-20T15:33:29.38685Z"
    },
    "papermill": {
     "duration": 0.379175,
     "end_time": "2021-10-20T16:27:47.036613",
     "exception": false,
     "start_time": "2021-10-20T16:27:46.657438",
     "status": "completed"
    },
    "tags": []
   },
   "outputs": [],
   "source": [
    "from sklearn.preprocessing import LabelEncoder\n",
    "le = LabelEncoder()\n",
    "\n",
    "target = df['label']\n",
    "df['label'] = le.fit_transform(target)\n",
    "df['protocol_type'] = le.fit_transform(df['protocol_type'])\n",
    "df['service'] = le.fit_transform(df['service'])\n",
    "df['flag'] = le.fit_transform(df['flag'])"
   ]
  },
  {
   "cell_type": "code",
   "execution_count": 88,
   "id": "cb7877c6",
   "metadata": {
    "execution": {
     "iopub.execute_input": "2021-10-20T16:27:47.062789Z",
     "iopub.status.busy": "2021-10-20T16:27:47.062138Z",
     "iopub.status.idle": "2021-10-20T16:27:47.418660Z",
     "shell.execute_reply": "2021-10-20T16:27:47.418108Z",
     "shell.execute_reply.started": "2021-10-20T15:33:48.300754Z"
    },
    "papermill": {
     "duration": 0.371651,
     "end_time": "2021-10-20T16:27:47.418805",
     "exception": false,
     "start_time": "2021-10-20T16:27:47.047154",
     "status": "completed"
    },
    "tags": []
   },
   "outputs": [
    {
     "name": "stdout",
     "output_type": "stream",
     "text": [
      "(345814, 42)\n",
      "(148206, 42)\n"
     ]
    }
   ],
   "source": [
    "from sklearn.model_selection import train_test_split\n",
    "train_df, test_df = train_test_split(df, test_size=0.3, random_state=42)\n",
    "print(train_df.shape)\n",
    "print(test_df.shape)"
   ]
  },
  {
   "cell_type": "code",
   "execution_count": 92,
   "id": "777dc667",
   "metadata": {
    "execution": {
     "iopub.execute_input": "2021-10-20T16:27:47.480847Z",
     "iopub.status.busy": "2021-10-20T16:27:47.479202Z",
     "iopub.status.idle": "2021-10-20T16:27:47.559721Z",
     "shell.execute_reply": "2021-10-20T16:27:47.559150Z",
     "shell.execute_reply.started": "2021-10-20T15:33:58.921094Z"
    },
    "papermill": {
     "duration": 0.130067,
     "end_time": "2021-10-20T16:27:47.559853",
     "exception": false,
     "start_time": "2021-10-20T16:27:47.429786",
     "status": "completed"
    },
    "tags": []
   },
   "outputs": [],
   "source": [
    "train_inputs = train_df[input_cols].copy()\n",
    "train_targets = train_df[target_col].copy()\n",
    "test_inputs = test_df[input_cols].copy()\n",
    "test_targets = test_df[target_col].copy()"
   ]
  },
  {
   "cell_type": "code",
   "execution_count": 93,
   "id": "b9b5dfa2",
   "metadata": {
    "execution": {
     "iopub.execute_input": "2021-10-20T16:27:47.588289Z",
     "iopub.status.busy": "2021-10-20T16:27:47.587522Z",
     "iopub.status.idle": "2021-10-20T16:27:48.954888Z",
     "shell.execute_reply": "2021-10-20T16:27:48.954407Z",
     "shell.execute_reply.started": "2021-10-20T15:34:09.340814Z"
    },
    "papermill": {
     "duration": 1.384063,
     "end_time": "2021-10-20T16:27:48.955025",
     "exception": false,
     "start_time": "2021-10-20T16:27:47.570962",
     "status": "completed"
    },
    "tags": []
   },
   "outputs": [
    {
     "name": "stdout",
     "output_type": "stream",
     "text": [
      "Index(['protocol_type', 'service', 'diff_srv_rate', 'dst_host_same_srv_rate'], dtype='object')\n",
      "4\n"
     ]
    }
   ],
   "source": [
    "from sklearn.ensemble import RandomForestClassifier\n",
    "from sklearn.feature_selection import SelectFromModel\n",
    "sel = SelectFromModel(RandomForestClassifier(n_estimators = 3, random_state=42))\n",
    "sel.fit(train_inputs, train_targets)\n",
    "selected_feat = train_inputs.columns[(sel.get_support())]\n",
    "print(selected_feat)\n",
    "print(len(selected_feat))"
   ]
  },
  {
   "cell_type": "code",
   "execution_count": 94,
   "id": "85a19eb0",
   "metadata": {
    "execution": {
     "iopub.execute_input": "2021-10-20T16:27:48.988526Z",
     "iopub.status.busy": "2021-10-20T16:27:48.987865Z",
     "iopub.status.idle": "2021-10-20T16:30:25.252504Z",
     "shell.execute_reply": "2021-10-20T16:30:25.252998Z",
     "shell.execute_reply.started": "2021-10-20T15:34:58.966713Z"
    },
    "papermill": {
     "duration": 156.287048,
     "end_time": "2021-10-20T16:30:25.253197",
     "exception": false,
     "start_time": "2021-10-20T16:27:48.966149",
     "status": "completed"
    },
    "tags": []
   },
   "outputs": [
    {
     "data": {
      "text/plain": [
       "0.9913498778726907"
      ]
     },
     "execution_count": 94,
     "metadata": {},
     "output_type": "execute_result"
    }
   ],
   "source": [
    "from sklearn.ensemble import RandomForestClassifier\n",
    "rf = RandomForestClassifier(n_estimators = 500, random_state = 42)\n",
    "rf.fit(train_inputs[selected_feat], train_targets)\n",
    "preds_rf = rf.predict(test_inputs[selected_feat])\n",
    "from sklearn.metrics import accuracy_score\n",
    "score_rf = accuracy_score(test_targets, preds_rf)\n",
    "score_rf\n"
   ]
  },
  {
   "cell_type": "code",
   "execution_count": 95,
   "id": "4ff4c449",
   "metadata": {
    "execution": {
     "iopub.execute_input": "2021-10-20T16:30:25.286743Z",
     "iopub.status.busy": "2021-10-20T16:30:25.286064Z",
     "iopub.status.idle": "2021-10-20T16:30:25.640761Z",
     "shell.execute_reply": "2021-10-20T16:30:25.640115Z",
     "shell.execute_reply.started": "2021-10-20T15:38:11.512481Z"
    },
    "papermill": {
     "duration": 0.376447,
     "end_time": "2021-10-20T16:30:25.640903",
     "exception": false,
     "start_time": "2021-10-20T16:30:25.264456",
     "status": "completed"
    },
    "tags": []
   },
   "outputs": [
    {
     "data": {
      "text/plain": [
       "0.9911339621877657"
      ]
     },
     "execution_count": 95,
     "metadata": {},
     "output_type": "execute_result"
    }
   ],
   "source": [
    "from sklearn.tree import DecisionTreeClassifier\n",
    "dc = DecisionTreeClassifier()\n",
    "dc.fit(train_inputs[selected_feat], train_targets)\n",
    "preds_dc = dc.predict(test_inputs[selected_feat])\n",
    "score_dc = accuracy_score(test_targets, preds_dc)\n",
    "score_dc"
   ]
  },
  {
   "cell_type": "code",
   "execution_count": 96,
   "id": "05854aea",
   "metadata": {
    "execution": {
     "iopub.execute_input": "2021-10-20T16:30:25.675051Z",
     "iopub.status.busy": "2021-10-20T16:30:25.674351Z",
     "iopub.status.idle": "2021-10-20T16:36:36.323422Z",
     "shell.execute_reply": "2021-10-20T16:36:36.323980Z",
     "shell.execute_reply.started": "2021-10-20T15:45:55.465276Z"
    },
    "papermill": {
     "duration": 370.671854,
     "end_time": "2021-10-20T16:36:36.324539",
     "exception": false,
     "start_time": "2021-10-20T16:30:25.652685",
     "status": "completed"
    },
    "tags": []
   },
   "outputs": [
    {
     "data": {
      "text/plain": [
       "0.9892177104840559"
      ]
     },
     "execution_count": 96,
     "metadata": {},
     "output_type": "execute_result"
    }
   ],
   "source": [
    "from sklearn.neighbors import KNeighborsClassifier\n",
    "knn = KNeighborsClassifier(n_neighbors=7)\n",
    "knn.fit(train_inputs[selected_feat], train_targets)\n",
    "preds_knn = knn.predict(test_inputs[selected_feat])\n",
    "score_knn = accuracy_score(test_targets, preds_knn)\n",
    "score_knn"
   ]
  },
  {
   "cell_type": "code",
   "execution_count": 98,
   "id": "36eed203",
   "metadata": {},
   "outputs": [
    {
     "ename": "ValueError",
     "evalue": "Length of values (4) does not match length of index (40)",
     "output_type": "error",
     "traceback": [
      "\u001b[1;31m---------------------------------------------------------------------------\u001b[0m",
      "\u001b[1;31mValueError\u001b[0m                                Traceback (most recent call last)",
      "\u001b[1;32me:\\Daniel\\PDFs\\SI\\IA\\Projeto\\intrusion-detection-using-ml-99-accuracy.ipynb Célula: 17\u001b[0m in \u001b[0;36m<cell line: 6>\u001b[1;34m()\u001b[0m\n\u001b[0;32m      <a href='vscode-notebook-cell:/e%3A/Daniel/PDFs/SI/IA/Projeto/intrusion-detection-using-ml-99-accuracy.ipynb#X22sZmlsZQ%3D%3D?line=3'>4</a>\u001b[0m model \u001b[39m=\u001b[39m RandomForestClassifier()\n\u001b[0;32m      <a href='vscode-notebook-cell:/e%3A/Daniel/PDFs/SI/IA/Projeto/intrusion-detection-using-ml-99-accuracy.ipynb#X22sZmlsZQ%3D%3D?line=4'>5</a>\u001b[0m model\u001b[39m.\u001b[39mfit(train_inputs[selected_feat], train_targets)\n\u001b[1;32m----> <a href='vscode-notebook-cell:/e%3A/Daniel/PDFs/SI/IA/Projeto/intrusion-detection-using-ml-99-accuracy.ipynb#X22sZmlsZQ%3D%3D?line=5'>6</a>\u001b[0m (pd\u001b[39m.\u001b[39;49mSeries(model\u001b[39m.\u001b[39;49mfeature_importances_, index\u001b[39m=\u001b[39;49mtrain_inputs\u001b[39m.\u001b[39;49mcolumns)\n\u001b[0;32m      <a href='vscode-notebook-cell:/e%3A/Daniel/PDFs/SI/IA/Projeto/intrusion-detection-using-ml-99-accuracy.ipynb#X22sZmlsZQ%3D%3D?line=6'>7</a>\u001b[0m    \u001b[39m.\u001b[39mnlargest(\u001b[39m15\u001b[39m)\n\u001b[0;32m      <a href='vscode-notebook-cell:/e%3A/Daniel/PDFs/SI/IA/Projeto/intrusion-detection-using-ml-99-accuracy.ipynb#X22sZmlsZQ%3D%3D?line=7'>8</a>\u001b[0m    \u001b[39m.\u001b[39mplot(kind\u001b[39m=\u001b[39m\u001b[39m'\u001b[39m\u001b[39mbarh\u001b[39m\u001b[39m'\u001b[39m))\n",
      "File \u001b[1;32mc:\\Users\\Daniel\\anaconda3\\lib\\site-packages\\pandas\\core\\series.py:442\u001b[0m, in \u001b[0;36mSeries.__init__\u001b[1;34m(self, data, index, dtype, name, copy, fastpath)\u001b[0m\n\u001b[0;32m    440\u001b[0m     index \u001b[39m=\u001b[39m default_index(\u001b[39mlen\u001b[39m(data))\n\u001b[0;32m    441\u001b[0m \u001b[39melif\u001b[39;00m is_list_like(data):\n\u001b[1;32m--> 442\u001b[0m     com\u001b[39m.\u001b[39;49mrequire_length_match(data, index)\n\u001b[0;32m    444\u001b[0m \u001b[39m# create/copy the manager\u001b[39;00m\n\u001b[0;32m    445\u001b[0m \u001b[39mif\u001b[39;00m \u001b[39misinstance\u001b[39m(data, (SingleBlockManager, SingleArrayManager)):\n",
      "File \u001b[1;32mc:\\Users\\Daniel\\anaconda3\\lib\\site-packages\\pandas\\core\\common.py:557\u001b[0m, in \u001b[0;36mrequire_length_match\u001b[1;34m(data, index)\u001b[0m\n\u001b[0;32m    553\u001b[0m \u001b[39m\"\"\"\u001b[39;00m\n\u001b[0;32m    554\u001b[0m \u001b[39mCheck the length of data matches the length of the index.\u001b[39;00m\n\u001b[0;32m    555\u001b[0m \u001b[39m\"\"\"\u001b[39;00m\n\u001b[0;32m    556\u001b[0m \u001b[39mif\u001b[39;00m \u001b[39mlen\u001b[39m(data) \u001b[39m!=\u001b[39m \u001b[39mlen\u001b[39m(index):\n\u001b[1;32m--> 557\u001b[0m     \u001b[39mraise\u001b[39;00m \u001b[39mValueError\u001b[39;00m(\n\u001b[0;32m    558\u001b[0m         \u001b[39m\"\u001b[39m\u001b[39mLength of values \u001b[39m\u001b[39m\"\u001b[39m\n\u001b[0;32m    559\u001b[0m         \u001b[39mf\u001b[39m\u001b[39m\"\u001b[39m\u001b[39m(\u001b[39m\u001b[39m{\u001b[39;00m\u001b[39mlen\u001b[39m(data)\u001b[39m}\u001b[39;00m\u001b[39m) \u001b[39m\u001b[39m\"\u001b[39m\n\u001b[0;32m    560\u001b[0m         \u001b[39m\"\u001b[39m\u001b[39mdoes not match length of index \u001b[39m\u001b[39m\"\u001b[39m\n\u001b[0;32m    561\u001b[0m         \u001b[39mf\u001b[39m\u001b[39m\"\u001b[39m\u001b[39m(\u001b[39m\u001b[39m{\u001b[39;00m\u001b[39mlen\u001b[39m(index)\u001b[39m}\u001b[39;00m\u001b[39m)\u001b[39m\u001b[39m\"\u001b[39m\n\u001b[0;32m    562\u001b[0m     )\n",
      "\u001b[1;31mValueError\u001b[0m: Length of values (4) does not match length of index (40)"
     ]
    }
   ],
   "source": [
    "# visto nesse site\n",
    "# https://blog.jovian.ai/intrusion-detection-in-kdd99-dataset-using-machine-learning-ad25e6c07c25\n",
    "\n",
    "model = RandomForestClassifier()\n",
    "model.fit(train_inputs[selected_feat], train_targets)\n",
    "(pd.Series(model.feature_importances_, index=train_inputs.columns)\n",
    "   .nlargest(15)\n",
    "   .plot(kind='barh')) "
   ]
  },
  {
   "cell_type": "code",
   "execution_count": 17,
   "id": "cd37604f",
   "metadata": {},
   "outputs": [],
   "source": [
    "# sites para olhar\n",
    "# https://blog.jovian.ai/intrusion-detection-in-kdd99-dataset-using-machine-learning-ad25e6c07c25\n",
    "# https://medium.com/geekculture/network-intrusion-detection-using-deep-learning-bcc91e9b999d\n",
    "# https://core.ac.uk/download/pdf/301297960.pdf"
   ]
  },
  {
   "cell_type": "markdown",
   "id": "2a3baf95",
   "metadata": {},
   "source": [
    "Fazendo com apenas 4 neurônios"
   ]
  },
  {
   "cell_type": "code",
   "execution_count": 103,
   "id": "3fe73114",
   "metadata": {},
   "outputs": [
    {
     "data": {
      "text/plain": [
       "0.9913498778726907"
      ]
     },
     "execution_count": 103,
     "metadata": {},
     "output_type": "execute_result"
    }
   ],
   "source": [
    "df4 = pd.read_csv(\"./kddcup99-dataset/kddcup99.csv\")\n",
    "\n",
    "from sklearn.preprocessing import MinMaxScaler\n",
    "\n",
    "scaler = MinMaxScaler()\n",
    "scaler.fit(df4[numeric_cols])\n",
    "df4[numeric_cols] = scaler.transform(df4[numeric_cols])\n",
    "\n",
    "from sklearn.preprocessing import LabelEncoder\n",
    "le = LabelEncoder()\n",
    "\n",
    "target = df4['label']\n",
    "df4['label'] = le.fit_transform(target)\n",
    "df4['protocol_type'] = le.fit_transform(df4['protocol_type'])\n",
    "df4['service'] = le.fit_transform(df4['service'])\n",
    "\n",
    "from sklearn.model_selection import train_test_split\n",
    "train_df4, test_df4 = train_test_split(df4, test_size=0.3, random_state=42)\n",
    "\n",
    "train_inputs = train_df4[selected_feat].copy()\n",
    "train_targets = train_df4[target_col].copy()\n",
    "test_inputs = test_df4[selected_feat].copy()\n",
    "test_targets = test_df4[target_col].copy()\n",
    "\n",
    "from sklearn.ensemble import RandomForestClassifier\n",
    "rf = RandomForestClassifier(n_estimators = 500, random_state = 42)\n",
    "rf.fit(train_inputs[selected_feat], train_targets)\n",
    "preds_rf = rf.predict(test_inputs[selected_feat])\n",
    "from sklearn.metrics import accuracy_score\n",
    "score_rf = accuracy_score(test_targets, preds_rf)\n",
    "score_rf\n"
   ]
  },
  {
   "cell_type": "code",
   "execution_count": 108,
   "id": "a34e3b39",
   "metadata": {},
   "outputs": [
    {
     "data": {
      "text/html": [
       "<div>\n",
       "<style scoped>\n",
       "    .dataframe tbody tr th:only-of-type {\n",
       "        vertical-align: middle;\n",
       "    }\n",
       "\n",
       "    .dataframe tbody tr th {\n",
       "        vertical-align: top;\n",
       "    }\n",
       "\n",
       "    .dataframe thead th {\n",
       "        text-align: right;\n",
       "    }\n",
       "</style>\n",
       "<table border=\"1\" class=\"dataframe\">\n",
       "  <thead>\n",
       "    <tr style=\"text-align: right;\">\n",
       "      <th></th>\n",
       "      <th>protocol_type</th>\n",
       "      <th>service</th>\n",
       "      <th>diff_srv_rate</th>\n",
       "      <th>dst_host_same_srv_rate</th>\n",
       "      <th>label</th>\n",
       "    </tr>\n",
       "  </thead>\n",
       "  <tbody>\n",
       "    <tr>\n",
       "      <th>317920</th>\n",
       "      <td>0</td>\n",
       "      <td>14</td>\n",
       "      <td>0.00</td>\n",
       "      <td>1.00</td>\n",
       "      <td>18</td>\n",
       "    </tr>\n",
       "    <tr>\n",
       "      <th>171422</th>\n",
       "      <td>0</td>\n",
       "      <td>14</td>\n",
       "      <td>0.00</td>\n",
       "      <td>1.00</td>\n",
       "      <td>18</td>\n",
       "    </tr>\n",
       "    <tr>\n",
       "      <th>381807</th>\n",
       "      <td>1</td>\n",
       "      <td>45</td>\n",
       "      <td>0.15</td>\n",
       "      <td>0.04</td>\n",
       "      <td>9</td>\n",
       "    </tr>\n",
       "    <tr>\n",
       "      <th>87346</th>\n",
       "      <td>1</td>\n",
       "      <td>22</td>\n",
       "      <td>0.00</td>\n",
       "      <td>1.00</td>\n",
       "      <td>11</td>\n",
       "    </tr>\n",
       "    <tr>\n",
       "      <th>57449</th>\n",
       "      <td>1</td>\n",
       "      <td>45</td>\n",
       "      <td>0.06</td>\n",
       "      <td>0.01</td>\n",
       "      <td>9</td>\n",
       "    </tr>\n",
       "    <tr>\n",
       "      <th>...</th>\n",
       "      <td>...</td>\n",
       "      <td>...</td>\n",
       "      <td>...</td>\n",
       "      <td>...</td>\n",
       "      <td>...</td>\n",
       "    </tr>\n",
       "    <tr>\n",
       "      <th>390162</th>\n",
       "      <td>1</td>\n",
       "      <td>45</td>\n",
       "      <td>0.05</td>\n",
       "      <td>0.07</td>\n",
       "      <td>9</td>\n",
       "    </tr>\n",
       "    <tr>\n",
       "      <th>86378</th>\n",
       "      <td>1</td>\n",
       "      <td>50</td>\n",
       "      <td>0.00</td>\n",
       "      <td>0.37</td>\n",
       "      <td>11</td>\n",
       "    </tr>\n",
       "    <tr>\n",
       "      <th>219136</th>\n",
       "      <td>0</td>\n",
       "      <td>14</td>\n",
       "      <td>0.00</td>\n",
       "      <td>1.00</td>\n",
       "      <td>18</td>\n",
       "    </tr>\n",
       "    <tr>\n",
       "      <th>49930</th>\n",
       "      <td>0</td>\n",
       "      <td>14</td>\n",
       "      <td>0.00</td>\n",
       "      <td>1.00</td>\n",
       "      <td>18</td>\n",
       "    </tr>\n",
       "    <tr>\n",
       "      <th>58733</th>\n",
       "      <td>1</td>\n",
       "      <td>45</td>\n",
       "      <td>0.06</td>\n",
       "      <td>0.07</td>\n",
       "      <td>9</td>\n",
       "    </tr>\n",
       "  </tbody>\n",
       "</table>\n",
       "<p>148206 rows × 5 columns</p>\n",
       "</div>"
      ],
      "text/plain": [
       "        protocol_type  service  diff_srv_rate  dst_host_same_srv_rate  label\n",
       "317920              0       14           0.00                    1.00     18\n",
       "171422              0       14           0.00                    1.00     18\n",
       "381807              1       45           0.15                    0.04      9\n",
       "87346               1       22           0.00                    1.00     11\n",
       "57449               1       45           0.06                    0.01      9\n",
       "...               ...      ...            ...                     ...    ...\n",
       "390162              1       45           0.05                    0.07      9\n",
       "86378               1       50           0.00                    0.37     11\n",
       "219136              0       14           0.00                    1.00     18\n",
       "49930               0       14           0.00                    1.00     18\n",
       "58733               1       45           0.06                    0.07      9\n",
       "\n",
       "[148206 rows x 5 columns]"
      ]
     },
     "execution_count": 108,
     "metadata": {},
     "output_type": "execute_result"
    }
   ],
   "source": [
    "df4_new = test_inputs\n",
    "df4_new['label'] = test_targets\n",
    "df4_new"
   ]
  },
  {
   "cell_type": "code",
   "execution_count": 118,
   "id": "7ef42e16",
   "metadata": {},
   "outputs": [],
   "source": [
    "df5 = pd.read_csv(\"./kddcup99-dataset/kddcup99.csv\")"
   ]
  },
  {
   "cell_type": "code",
   "execution_count": 125,
   "id": "d2ed7c4e",
   "metadata": {},
   "outputs": [
    {
     "data": {
      "text/plain": [
       "array(['tcp', 'udp', 'icmp'], dtype=object)"
      ]
     },
     "execution_count": 125,
     "metadata": {},
     "output_type": "execute_result"
    }
   ],
   "source": [
    "df5['protocol_type'].unique()"
   ]
  }
 ],
 "metadata": {
  "kernelspec": {
   "display_name": "Python 3.9.12 ('base')",
   "language": "python",
   "name": "python3"
  },
  "language_info": {
   "codemirror_mode": {
    "name": "ipython",
    "version": 3
   },
   "file_extension": ".py",
   "mimetype": "text/x-python",
   "name": "python",
   "nbconvert_exporter": "python",
   "pygments_lexer": "ipython3",
   "version": "3.9.12"
  },
  "papermill": {
   "default_parameters": {},
   "duration": 542.978325,
   "end_time": "2021-10-20T16:36:37.151895",
   "environment_variables": {},
   "exception": null,
   "input_path": "__notebook__.ipynb",
   "output_path": "__notebook__.ipynb",
   "parameters": {},
   "start_time": "2021-10-20T16:27:34.173570",
   "version": "2.3.3"
  },
  "vscode": {
   "interpreter": {
    "hash": "92d1c8824dd9ed58f2e2fe7d35df9188f2132fcf69312c535170a29d4fbf29a8"
   }
  }
 },
 "nbformat": 4,
 "nbformat_minor": 5
}
