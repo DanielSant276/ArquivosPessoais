{
 "cells": [
  {
   "cell_type": "code",
   "execution_count": 2,
   "id": "223b8ede",
   "metadata": {},
   "outputs": [],
   "source": [
    "import pandas as pd\n",
    "import numpy as np\n",
    "import matplotlib\n",
    "import matplotlib.pyplot as plt\n",
    "import seaborn as sns"
   ]
  },
  {
   "cell_type": "code",
   "execution_count": 3,
   "id": "6c9ed0f0",
   "metadata": {},
   "outputs": [
    {
     "data": {
      "text/plain": [
       "(494020, 42)"
      ]
     },
     "execution_count": 3,
     "metadata": {},
     "output_type": "execute_result"
    }
   ],
   "source": [
    "df = pd.read_csv(\"./kddcup99-dataset/kddcup99.csv\")\n",
    "\n",
    "# mostra tamanho da base de dados\n",
    "df.shape"
   ]
  },
  {
   "cell_type": "code",
   "execution_count": 4,
   "id": "4064a3b5",
   "metadata": {},
   "outputs": [
    {
     "data": {
      "text/plain": [
       "Index(['duration', 'protocol_type', 'service', 'flag', 'src_bytes',\n",
       "       'dst_bytes', 'land', 'wrong_fragment', 'urgent', 'hot',\n",
       "       'num_failed_logins', 'logged_in', 'lnum_compromised', 'lroot_shell',\n",
       "       'lsu_attempted', 'lnum_root', 'lnum_file_creations', 'lnum_shells',\n",
       "       'lnum_access_files', 'lnum_outbound_cmds', 'is_host_login',\n",
       "       'is_guest_login', 'count', 'srv_count', 'serror_rate',\n",
       "       'srv_serror_rate', 'rerror_rate', 'srv_rerror_rate', 'same_srv_rate',\n",
       "       'diff_srv_rate', 'srv_diff_host_rate', 'dst_host_count',\n",
       "       'dst_host_srv_count', 'dst_host_same_srv_rate',\n",
       "       'dst_host_diff_srv_rate', 'dst_host_same_src_port_rate',\n",
       "       'dst_host_srv_diff_host_rate', 'dst_host_serror_rate',\n",
       "       'dst_host_srv_serror_rate', 'dst_host_rerror_rate',\n",
       "       'dst_host_srv_rerror_rate', 'label'],\n",
       "      dtype='object')"
      ]
     },
     "execution_count": 4,
     "metadata": {},
     "output_type": "execute_result"
    }
   ],
   "source": [
    "# mostra todas as colunas\n",
    "df.columns"
   ]
  },
  {
   "cell_type": "code",
   "execution_count": 5,
   "id": "bca9464e",
   "metadata": {},
   "outputs": [
    {
     "name": "stdout",
     "output_type": "stream",
     "text": [
      "<class 'pandas.core.frame.DataFrame'>\n",
      "RangeIndex: 494020 entries, 0 to 494019\n",
      "Data columns (total 42 columns):\n",
      " #   Column                       Non-Null Count   Dtype  \n",
      "---  ------                       --------------   -----  \n",
      " 0   duration                     494020 non-null  int64  \n",
      " 1   protocol_type                494020 non-null  object \n",
      " 2   service                      494020 non-null  object \n",
      " 3   flag                         494020 non-null  object \n",
      " 4   src_bytes                    494020 non-null  int64  \n",
      " 5   dst_bytes                    494020 non-null  int64  \n",
      " 6   land                         494020 non-null  int64  \n",
      " 7   wrong_fragment               494020 non-null  int64  \n",
      " 8   urgent                       494020 non-null  int64  \n",
      " 9   hot                          494020 non-null  int64  \n",
      " 10  num_failed_logins            494020 non-null  int64  \n",
      " 11  logged_in                    494020 non-null  int64  \n",
      " 12  lnum_compromised             494020 non-null  int64  \n",
      " 13  lroot_shell                  494020 non-null  int64  \n",
      " 14  lsu_attempted                494020 non-null  int64  \n",
      " 15  lnum_root                    494020 non-null  int64  \n",
      " 16  lnum_file_creations          494020 non-null  int64  \n",
      " 17  lnum_shells                  494020 non-null  int64  \n",
      " 18  lnum_access_files            494020 non-null  int64  \n",
      " 19  lnum_outbound_cmds           494020 non-null  int64  \n",
      " 20  is_host_login                494020 non-null  int64  \n",
      " 21  is_guest_login               494020 non-null  int64  \n",
      " 22  count                        494020 non-null  int64  \n",
      " 23  srv_count                    494020 non-null  int64  \n",
      " 24  serror_rate                  494020 non-null  float64\n",
      " 25  srv_serror_rate              494020 non-null  float64\n",
      " 26  rerror_rate                  494020 non-null  float64\n",
      " 27  srv_rerror_rate              494020 non-null  float64\n",
      " 28  same_srv_rate                494020 non-null  float64\n",
      " 29  diff_srv_rate                494020 non-null  float64\n",
      " 30  srv_diff_host_rate           494020 non-null  float64\n",
      " 31  dst_host_count               494020 non-null  int64  \n",
      " 32  dst_host_srv_count           494020 non-null  int64  \n",
      " 33  dst_host_same_srv_rate       494020 non-null  float64\n",
      " 34  dst_host_diff_srv_rate       494020 non-null  float64\n",
      " 35  dst_host_same_src_port_rate  494020 non-null  float64\n",
      " 36  dst_host_srv_diff_host_rate  494020 non-null  float64\n",
      " 37  dst_host_serror_rate         494020 non-null  float64\n",
      " 38  dst_host_srv_serror_rate     494020 non-null  float64\n",
      " 39  dst_host_rerror_rate         494020 non-null  float64\n",
      " 40  dst_host_srv_rerror_rate     494020 non-null  float64\n",
      " 41  label                        494020 non-null  object \n",
      "dtypes: float64(15), int64(23), object(4)\n",
      "memory usage: 158.3+ MB\n"
     ]
    }
   ],
   "source": [
    "# mostra as informações das colunas\n",
    "df.info()"
   ]
  },
  {
   "cell_type": "code",
   "execution_count": 6,
   "id": "6a55cf55",
   "metadata": {},
   "outputs": [
    {
     "data": {
      "text/plain": [
       "['duration',\n",
       " 'src_bytes',\n",
       " 'dst_bytes',\n",
       " 'land',\n",
       " 'wrong_fragment',\n",
       " 'urgent',\n",
       " 'hot',\n",
       " 'num_failed_logins',\n",
       " 'logged_in',\n",
       " 'lnum_compromised',\n",
       " 'lroot_shell',\n",
       " 'lsu_attempted',\n",
       " 'lnum_root',\n",
       " 'lnum_file_creations',\n",
       " 'lnum_shells',\n",
       " 'lnum_access_files',\n",
       " 'lnum_outbound_cmds',\n",
       " 'is_host_login',\n",
       " 'is_guest_login',\n",
       " 'count',\n",
       " 'srv_count',\n",
       " 'serror_rate',\n",
       " 'srv_serror_rate',\n",
       " 'rerror_rate',\n",
       " 'srv_rerror_rate',\n",
       " 'same_srv_rate',\n",
       " 'diff_srv_rate',\n",
       " 'srv_diff_host_rate',\n",
       " 'dst_host_count',\n",
       " 'dst_host_srv_count',\n",
       " 'dst_host_same_srv_rate',\n",
       " 'dst_host_diff_srv_rate',\n",
       " 'dst_host_same_src_port_rate',\n",
       " 'dst_host_srv_diff_host_rate',\n",
       " 'dst_host_serror_rate',\n",
       " 'dst_host_srv_serror_rate',\n",
       " 'dst_host_rerror_rate']"
      ]
     },
     "execution_count": 6,
     "metadata": {},
     "output_type": "execute_result"
    }
   ],
   "source": [
    "# lista todas colunas menos a primeira e a penúltima\n",
    "input_cols = list(df.columns)[1:-1]\n",
    "\n",
    "# define a coluna label como alvo\n",
    "target_col = 'label'\n",
    "\n",
    "# seleciona as colunas com valores numéricos \n",
    "numeric_cols = df.select_dtypes(include=np.number).columns.tolist()[:-1]\n",
    "numeric_cols"
   ]
  },
  {
   "cell_type": "code",
   "execution_count": 7,
   "id": "ef3d04a7",
   "metadata": {},
   "outputs": [],
   "source": [
    "from sklearn.preprocessing import MinMaxScaler\n",
    "# MinMaxScaler transforma os valores em uma escala de 0 a 1 \n",
    "# para poder interar com mais facilidade colunas de diferentes medidas \n",
    "scaler = MinMaxScaler()\n",
    "\n",
    "# Calcula o mínimo e o máximo para ser usado pra escalar os valores\n",
    "scaler.fit(df[numeric_cols])\n",
    "\n",
    "# escala os valores do parâmetro utilizado\n",
    "df[numeric_cols] = scaler.transform(df[numeric_cols])"
   ]
  },
  {
   "cell_type": "code",
   "execution_count": 8,
   "id": "874e81d5",
   "metadata": {},
   "outputs": [],
   "source": [
    "from sklearn.preprocessing import LabelEncoder\n",
    "# LabelEncoder funciona muito parecido com o enumerate, dando valores de 0 a n para as diferentes strings \n",
    "le = LabelEncoder()\n",
    "\n",
    "# coloca a coluna label como alvo\n",
    "target = df['label']\n",
    "\n",
    "# realiza fit (gera os valores) e e retorna o transform (verifica as classes dos valores) na target\n",
    "df['label'] = le.fit_transform(target)\n",
    "\n",
    "# o mesmo do anterior com o protocol_type\n",
    "df['protocol_type'] = le.fit_transform(df['protocol_type'])\n",
    "\n",
    "# o mesmo do anterior com o service\n",
    "df['service'] = le.fit_transform(df['service'])\n",
    "\n",
    "# o mesmo do anterior com a flag\n",
    "df['flag'] = le.fit_transform(df['flag'])"
   ]
  },
  {
   "cell_type": "code",
   "execution_count": 9,
   "id": "2fe551bd",
   "metadata": {},
   "outputs": [
    {
     "name": "stdout",
     "output_type": "stream",
     "text": [
      "(345814, 42)\n",
      "(148206, 42)\n"
     ]
    }
   ],
   "source": [
    "from sklearn.model_selection import train_test_split\n",
    "# serpara arrays ou matrizes em subsets randomicos de teste e treinamento\n",
    "train_df, test_df = train_test_split(df, test_size=0.3, random_state=42)\n",
    "\n",
    "print(train_df.shape)\n",
    "print(test_df.shape)"
   ]
  },
  {
   "cell_type": "code",
   "execution_count": 10,
   "id": "bf07b13e",
   "metadata": {},
   "outputs": [],
   "source": [
    "# apenas copia valores para novas variaveis\n",
    "train_inputs = train_df[input_cols].copy()\n",
    "train_targets = train_df[target_col].copy()\n",
    "test_inputs = test_df[input_cols].copy()\n",
    "test_targets = test_df[target_col].copy()"
   ]
  },
  {
   "cell_type": "code",
   "execution_count": 11,
   "id": "ce0a95bd",
   "metadata": {},
   "outputs": [
    {
     "name": "stdout",
     "output_type": "stream",
     "text": [
      "Index(['protocol_type', 'service', 'srv_count', 'diff_srv_rate',\n",
      "       'dst_host_same_srv_rate', 'dst_host_same_src_port_rate'],\n",
      "      dtype='object')\n",
      "6\n"
     ]
    }
   ],
   "source": [
    "# classificador de floresta randomico\n",
    "# ver melhor a definição aqui: https://scikit-learn.org/stable/modules/generated/sklearn.ensemble.RandomForestClassifier.html\n",
    "from sklearn.ensemble import RandomForestClassifier\n",
    "# transformador para selecionar características baseadas em pesos de importância\n",
    "from sklearn.feature_selection import SelectFromModel\n",
    "\n",
    "# utiliza o classificador de floresta com estimador = 5 e estado randomico de 42\n",
    "sel = SelectFromModel(RandomForestClassifier(n_estimators = 5, random_state=42))\n",
    "\n",
    "# da fit no meta-transformador SelectFromModel\n",
    "sel.fit(train_inputs, train_targets)\n",
    "\n",
    "# recebe as colunas que foram selecionadas\n",
    "selected_feat = train_inputs.columns[(sel.get_support())]\n",
    "\n",
    "print(selected_feat)\n",
    "print(len(selected_feat))"
   ]
  },
  {
   "cell_type": "code",
   "execution_count": 14,
   "id": "9731a889",
   "metadata": {},
   "outputs": [
    {
     "data": {
      "text/plain": [
       "0.9936507293901732"
      ]
     },
     "execution_count": 14,
     "metadata": {},
     "output_type": "execute_result"
    }
   ],
   "source": [
    "# classificador de floresta randomico\n",
    "from sklearn.ensemble import RandomForestClassifier\n",
    "\n",
    "# utiliza o classificador de floresta com estimador = 1000 e estado randomico de 42\n",
    "rf = RandomForestClassifier(n_estimators = 2000, random_state = 42)\n",
    "# realiza o fit passando os inputs que irão receber o treinamento, com as colunas selecionadas no passo anterior e os alvos\n",
    "rf.fit(train_inputs[selected_feat], train_targets);\n",
    "\n",
    "# realiza a predição das classes com os inputs de test com as colunas selecionadas pelo feat\n",
    "preds_rf = rf.predict(test_inputs[selected_feat])\n",
    "\n",
    "# classificador de acuracia\n",
    "from sklearn.metrics import accuracy_score\n",
    "\n",
    "# com base nas classes observadas anteriormente, é verificado quais delas se comportam com o esperado\n",
    "score_rf = accuracy_score(test_targets, preds_rf)\n",
    "score_rf\n",
    "\n",
    "# 0.9936642241204809"
   ]
  },
  {
   "cell_type": "code",
   "execution_count": 21,
   "id": "8a5ea1d4",
   "metadata": {},
   "outputs": [
    {
     "data": {
      "text/plain": [
       "0.9934685505310177"
      ]
     },
     "execution_count": 21,
     "metadata": {},
     "output_type": "execute_result"
    }
   ],
   "source": [
    "# classificador de decisão de floresta\n",
    "# faz basicamente a mesma coisa que o anterior, a diferença é que agora não utiliza mais os estimadores, porém o resto é igual\n",
    "from sklearn.tree import DecisionTreeClassifier\n",
    "dc = DecisionTreeClassifier()\n",
    "dc.fit(train_inputs[selected_feat], train_targets);\n",
    "preds_dc = dc.predict(test_inputs[selected_feat])\n",
    "score_dc = accuracy_score(test_targets, preds_dc)\n",
    "\n",
    "score_dc"
   ]
  },
  {
   "cell_type": "code",
   "execution_count": 22,
   "id": "815c7deb",
   "metadata": {},
   "outputs": [
    {
     "data": {
      "text/plain": [
       "0.9920448564835431"
      ]
     },
     "execution_count": 22,
     "metadata": {},
     "output_type": "execute_result"
    }
   ],
   "source": [
    "# classificador de k vizinhos\n",
    "# também semelhante aos dois últimos, porém utiliza a parte de k vizinhos para verificar a acuracia\n",
    "from sklearn.neighbors import KNeighborsClassifier\n",
    "knn = KNeighborsClassifier(n_neighbors=7)\n",
    "knn.fit(train_inputs[selected_feat], train_targets)\n",
    "preds_knn = knn.predict(test_inputs[selected_feat])\n",
    "score_knn = accuracy_score(test_targets, preds_knn)\n",
    "\n",
    "score_knn"
   ]
  },
  {
   "cell_type": "code",
   "execution_count": null,
   "id": "d8df39ce",
   "metadata": {},
   "outputs": [],
   "source": []
  }
 ],
 "metadata": {
  "kernelspec": {
   "display_name": "Python 3 (ipykernel)",
   "language": "python",
   "name": "python3"
  },
  "language_info": {
   "codemirror_mode": {
    "name": "ipython",
    "version": 3
   },
   "file_extension": ".py",
   "mimetype": "text/x-python",
   "name": "python",
   "nbconvert_exporter": "python",
   "pygments_lexer": "ipython3",
   "version": "3.9.12"
  }
 },
 "nbformat": 4,
 "nbformat_minor": 5
}
