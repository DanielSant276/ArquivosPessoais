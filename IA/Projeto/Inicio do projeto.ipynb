{
 "cells": [
  {
   "cell_type": "code",
   "execution_count": 1,
   "id": "223b8ede",
   "metadata": {},
   "outputs": [],
   "source": [
    "import pandas as pd\n",
    "import numpy as np\n",
    "import matplotlib\n",
    "import matplotlib.pyplot as plt\n",
    "import seaborn as sns"
   ]
  },
  {
   "cell_type": "code",
   "execution_count": 2,
   "id": "6c9ed0f0",
   "metadata": {},
   "outputs": [
    {
     "data": {
      "text/plain": [
       "(494020, 42)"
      ]
     },
     "execution_count": 2,
     "metadata": {},
     "output_type": "execute_result"
    }
   ],
   "source": [
    "df = pd.read_csv(\"./kddcup99-dataset/kddcup99.csv\")\n",
    "\n",
    "# mostra tamanho da base de dados\n",
    "df.shape"
   ]
  },
  {
   "cell_type": "markdown",
   "id": "894ee678",
   "metadata": {},
   "source": [
    "Sobre o Dataset\n",
    "\n",
    "Esse dataset contém informação de acessos de rede com 494020 entradas com cada uma possuindo 42 atributos. Que são eles:\n",
    "* duration: duração da conecção\n",
    "* protocol_typ: tipo de protocoloc de conecção\n",
    "* servic: serviço usado\n",
    "* fla: status da conecção\n",
    "* src_bytes: bytes de origem\n",
    "* dst_bytes: bytes de destino\n",
    "* land: \n",
    "* wrong_fragment: \n",
    "* urgent: \n",
    "* hot: \n",
    "* num_failed_logins: \n",
    "* logged_in: \n",
    "* lnum_compromised: \n",
    "* lroot_shell: \n",
    "* lsu_attempted: \n",
    "* lnum_root: \n",
    "* lnum_file_creations: \n",
    "* lnum_shells: \n",
    "* lnum_access_files: \n",
    "* lnum_outbound_cmds: \n",
    "* is_host_login: \n",
    "* is_guest_login: \n",
    "* count: \n",
    "* srv_count: \n",
    "* serror_ra: \n",
    "* srv_serror_ra: \n",
    "* rerror_ra: \n",
    "* srv_rerror_ra: \n",
    "* same_srv_ra: \n",
    "* diff_srv_ra: \n",
    "* srv_diff_host_ra: \n",
    "* dst_host_count: \n",
    "* dst_host_srv_count: \n",
    "* dst_host_same_srv_ra: \n",
    "* dst_host_diff_srv_ra: \n",
    "* dst_host_same_src_port_ra: \n",
    "* dst_host_srv_diff_host_ra: \n",
    "* dst_host_serror_ra: \n",
    "* dst_host_srv_serror_ra: \n",
    "* dst_host_rerror_ra: \n",
    "* dst_host_srv_rerror_ra: \n",
    "* lab: "
   ]
  },
  {
   "cell_type": "markdown",
   "id": "5f87948b",
   "metadata": {},
   "source": [
    "Informações sobre o Dataset"
   ]
  },
  {
   "cell_type": "code",
   "execution_count": 3,
   "id": "20c791be",
   "metadata": {},
   "outputs": [
    {
     "name": "stdout",
     "output_type": "stream",
     "text": [
      "<class 'pandas.core.frame.DataFrame'>\n",
      "RangeIndex: 494020 entries, 0 to 494019\n",
      "Data columns (total 42 columns):\n",
      " #   Column                       Non-Null Count   Dtype  \n",
      "---  ------                       --------------   -----  \n",
      " 0   duration                     494020 non-null  int64  \n",
      " 1   protocol_type                494020 non-null  object \n",
      " 2   service                      494020 non-null  object \n",
      " 3   flag                         494020 non-null  object \n",
      " 4   src_bytes                    494020 non-null  int64  \n",
      " 5   dst_bytes                    494020 non-null  int64  \n",
      " 6   land                         494020 non-null  int64  \n",
      " 7   wrong_fragment               494020 non-null  int64  \n",
      " 8   urgent                       494020 non-null  int64  \n",
      " 9   hot                          494020 non-null  int64  \n",
      " 10  num_failed_logins            494020 non-null  int64  \n",
      " 11  logged_in                    494020 non-null  int64  \n",
      " 12  lnum_compromised             494020 non-null  int64  \n",
      " 13  lroot_shell                  494020 non-null  int64  \n",
      " 14  lsu_attempted                494020 non-null  int64  \n",
      " 15  lnum_root                    494020 non-null  int64  \n",
      " 16  lnum_file_creations          494020 non-null  int64  \n",
      " 17  lnum_shells                  494020 non-null  int64  \n",
      " 18  lnum_access_files            494020 non-null  int64  \n",
      " 19  lnum_outbound_cmds           494020 non-null  int64  \n",
      " 20  is_host_login                494020 non-null  int64  \n",
      " 21  is_guest_login               494020 non-null  int64  \n",
      " 22  count                        494020 non-null  int64  \n",
      " 23  srv_count                    494020 non-null  int64  \n",
      " 24  serror_rate                  494020 non-null  float64\n",
      " 25  srv_serror_rate              494020 non-null  float64\n",
      " 26  rerror_rate                  494020 non-null  float64\n",
      " 27  srv_rerror_rate              494020 non-null  float64\n",
      " 28  same_srv_rate                494020 non-null  float64\n",
      " 29  diff_srv_rate                494020 non-null  float64\n",
      " 30  srv_diff_host_rate           494020 non-null  float64\n",
      " 31  dst_host_count               494020 non-null  int64  \n",
      " 32  dst_host_srv_count           494020 non-null  int64  \n",
      " 33  dst_host_same_srv_rate       494020 non-null  float64\n",
      " 34  dst_host_diff_srv_rate       494020 non-null  float64\n",
      " 35  dst_host_same_src_port_rate  494020 non-null  float64\n",
      " 36  dst_host_srv_diff_host_rate  494020 non-null  float64\n",
      " 37  dst_host_serror_rate         494020 non-null  float64\n",
      " 38  dst_host_srv_serror_rate     494020 non-null  float64\n",
      " 39  dst_host_rerror_rate         494020 non-null  float64\n",
      " 40  dst_host_srv_rerror_rate     494020 non-null  float64\n",
      " 41  label                        494020 non-null  object \n",
      "dtypes: float64(15), int64(23), object(4)\n",
      "memory usage: 158.3+ MB\n"
     ]
    }
   ],
   "source": [
    "df.info()"
   ]
  },
  {
   "cell_type": "markdown",
   "id": "a9294ec2",
   "metadata": {},
   "source": [
    "Resumo do conjunto de dados"
   ]
  },
  {
   "cell_type": "code",
   "execution_count": 4,
   "id": "ad23b4fe",
   "metadata": {},
   "outputs": [
    {
     "data": {
      "text/html": [
       "<div>\n",
       "<style scoped>\n",
       "    .dataframe tbody tr th:only-of-type {\n",
       "        vertical-align: middle;\n",
       "    }\n",
       "\n",
       "    .dataframe tbody tr th {\n",
       "        vertical-align: top;\n",
       "    }\n",
       "\n",
       "    .dataframe thead th {\n",
       "        text-align: right;\n",
       "    }\n",
       "</style>\n",
       "<table border=\"1\" class=\"dataframe\">\n",
       "  <thead>\n",
       "    <tr style=\"text-align: right;\">\n",
       "      <th></th>\n",
       "      <th>duration</th>\n",
       "      <th>src_bytes</th>\n",
       "      <th>dst_bytes</th>\n",
       "      <th>land</th>\n",
       "      <th>wrong_fragment</th>\n",
       "      <th>urgent</th>\n",
       "      <th>hot</th>\n",
       "      <th>num_failed_logins</th>\n",
       "      <th>logged_in</th>\n",
       "      <th>lnum_compromised</th>\n",
       "      <th>...</th>\n",
       "      <th>dst_host_count</th>\n",
       "      <th>dst_host_srv_count</th>\n",
       "      <th>dst_host_same_srv_rate</th>\n",
       "      <th>dst_host_diff_srv_rate</th>\n",
       "      <th>dst_host_same_src_port_rate</th>\n",
       "      <th>dst_host_srv_diff_host_rate</th>\n",
       "      <th>dst_host_serror_rate</th>\n",
       "      <th>dst_host_srv_serror_rate</th>\n",
       "      <th>dst_host_rerror_rate</th>\n",
       "      <th>dst_host_srv_rerror_rate</th>\n",
       "    </tr>\n",
       "  </thead>\n",
       "  <tbody>\n",
       "    <tr>\n",
       "      <th>count</th>\n",
       "      <td>494020.000000</td>\n",
       "      <td>4.940200e+05</td>\n",
       "      <td>4.940200e+05</td>\n",
       "      <td>494020.000000</td>\n",
       "      <td>494020.000000</td>\n",
       "      <td>494020.000000</td>\n",
       "      <td>494020.000000</td>\n",
       "      <td>494020.000000</td>\n",
       "      <td>494020.000000</td>\n",
       "      <td>494020.000000</td>\n",
       "      <td>...</td>\n",
       "      <td>494020.000000</td>\n",
       "      <td>494020.000000</td>\n",
       "      <td>494020.000000</td>\n",
       "      <td>494020.000000</td>\n",
       "      <td>494020.000000</td>\n",
       "      <td>494020.000000</td>\n",
       "      <td>494020.000000</td>\n",
       "      <td>494020.000000</td>\n",
       "      <td>494020.000000</td>\n",
       "      <td>494020.000000</td>\n",
       "    </tr>\n",
       "    <tr>\n",
       "      <th>mean</th>\n",
       "      <td>47.979400</td>\n",
       "      <td>3.025616e+03</td>\n",
       "      <td>8.685308e+02</td>\n",
       "      <td>0.000045</td>\n",
       "      <td>0.006433</td>\n",
       "      <td>0.000014</td>\n",
       "      <td>0.034519</td>\n",
       "      <td>0.000152</td>\n",
       "      <td>0.148245</td>\n",
       "      <td>0.010212</td>\n",
       "      <td>...</td>\n",
       "      <td>232.471248</td>\n",
       "      <td>188.666052</td>\n",
       "      <td>0.753781</td>\n",
       "      <td>0.030906</td>\n",
       "      <td>0.601936</td>\n",
       "      <td>0.006684</td>\n",
       "      <td>0.176754</td>\n",
       "      <td>0.176443</td>\n",
       "      <td>0.058118</td>\n",
       "      <td>0.057412</td>\n",
       "    </tr>\n",
       "    <tr>\n",
       "      <th>std</th>\n",
       "      <td>707.747185</td>\n",
       "      <td>9.882191e+05</td>\n",
       "      <td>3.304003e+04</td>\n",
       "      <td>0.006673</td>\n",
       "      <td>0.134805</td>\n",
       "      <td>0.005510</td>\n",
       "      <td>0.782103</td>\n",
       "      <td>0.015520</td>\n",
       "      <td>0.355343</td>\n",
       "      <td>1.798328</td>\n",
       "      <td>...</td>\n",
       "      <td>64.744601</td>\n",
       "      <td>106.040205</td>\n",
       "      <td>0.410780</td>\n",
       "      <td>0.109259</td>\n",
       "      <td>0.481309</td>\n",
       "      <td>0.042133</td>\n",
       "      <td>0.380593</td>\n",
       "      <td>0.380920</td>\n",
       "      <td>0.230590</td>\n",
       "      <td>0.230141</td>\n",
       "    </tr>\n",
       "    <tr>\n",
       "      <th>min</th>\n",
       "      <td>0.000000</td>\n",
       "      <td>0.000000e+00</td>\n",
       "      <td>0.000000e+00</td>\n",
       "      <td>0.000000</td>\n",
       "      <td>0.000000</td>\n",
       "      <td>0.000000</td>\n",
       "      <td>0.000000</td>\n",
       "      <td>0.000000</td>\n",
       "      <td>0.000000</td>\n",
       "      <td>0.000000</td>\n",
       "      <td>...</td>\n",
       "      <td>0.000000</td>\n",
       "      <td>0.000000</td>\n",
       "      <td>0.000000</td>\n",
       "      <td>0.000000</td>\n",
       "      <td>0.000000</td>\n",
       "      <td>0.000000</td>\n",
       "      <td>0.000000</td>\n",
       "      <td>0.000000</td>\n",
       "      <td>0.000000</td>\n",
       "      <td>0.000000</td>\n",
       "    </tr>\n",
       "    <tr>\n",
       "      <th>25%</th>\n",
       "      <td>0.000000</td>\n",
       "      <td>4.500000e+01</td>\n",
       "      <td>0.000000e+00</td>\n",
       "      <td>0.000000</td>\n",
       "      <td>0.000000</td>\n",
       "      <td>0.000000</td>\n",
       "      <td>0.000000</td>\n",
       "      <td>0.000000</td>\n",
       "      <td>0.000000</td>\n",
       "      <td>0.000000</td>\n",
       "      <td>...</td>\n",
       "      <td>255.000000</td>\n",
       "      <td>46.000000</td>\n",
       "      <td>0.410000</td>\n",
       "      <td>0.000000</td>\n",
       "      <td>0.000000</td>\n",
       "      <td>0.000000</td>\n",
       "      <td>0.000000</td>\n",
       "      <td>0.000000</td>\n",
       "      <td>0.000000</td>\n",
       "      <td>0.000000</td>\n",
       "    </tr>\n",
       "    <tr>\n",
       "      <th>50%</th>\n",
       "      <td>0.000000</td>\n",
       "      <td>5.200000e+02</td>\n",
       "      <td>0.000000e+00</td>\n",
       "      <td>0.000000</td>\n",
       "      <td>0.000000</td>\n",
       "      <td>0.000000</td>\n",
       "      <td>0.000000</td>\n",
       "      <td>0.000000</td>\n",
       "      <td>0.000000</td>\n",
       "      <td>0.000000</td>\n",
       "      <td>...</td>\n",
       "      <td>255.000000</td>\n",
       "      <td>255.000000</td>\n",
       "      <td>1.000000</td>\n",
       "      <td>0.000000</td>\n",
       "      <td>1.000000</td>\n",
       "      <td>0.000000</td>\n",
       "      <td>0.000000</td>\n",
       "      <td>0.000000</td>\n",
       "      <td>0.000000</td>\n",
       "      <td>0.000000</td>\n",
       "    </tr>\n",
       "    <tr>\n",
       "      <th>75%</th>\n",
       "      <td>0.000000</td>\n",
       "      <td>1.032000e+03</td>\n",
       "      <td>0.000000e+00</td>\n",
       "      <td>0.000000</td>\n",
       "      <td>0.000000</td>\n",
       "      <td>0.000000</td>\n",
       "      <td>0.000000</td>\n",
       "      <td>0.000000</td>\n",
       "      <td>0.000000</td>\n",
       "      <td>0.000000</td>\n",
       "      <td>...</td>\n",
       "      <td>255.000000</td>\n",
       "      <td>255.000000</td>\n",
       "      <td>1.000000</td>\n",
       "      <td>0.040000</td>\n",
       "      <td>1.000000</td>\n",
       "      <td>0.000000</td>\n",
       "      <td>0.000000</td>\n",
       "      <td>0.000000</td>\n",
       "      <td>0.000000</td>\n",
       "      <td>0.000000</td>\n",
       "    </tr>\n",
       "    <tr>\n",
       "      <th>max</th>\n",
       "      <td>58329.000000</td>\n",
       "      <td>6.933756e+08</td>\n",
       "      <td>5.155468e+06</td>\n",
       "      <td>1.000000</td>\n",
       "      <td>3.000000</td>\n",
       "      <td>3.000000</td>\n",
       "      <td>30.000000</td>\n",
       "      <td>5.000000</td>\n",
       "      <td>1.000000</td>\n",
       "      <td>884.000000</td>\n",
       "      <td>...</td>\n",
       "      <td>255.000000</td>\n",
       "      <td>255.000000</td>\n",
       "      <td>1.000000</td>\n",
       "      <td>1.000000</td>\n",
       "      <td>1.000000</td>\n",
       "      <td>1.000000</td>\n",
       "      <td>1.000000</td>\n",
       "      <td>1.000000</td>\n",
       "      <td>1.000000</td>\n",
       "      <td>1.000000</td>\n",
       "    </tr>\n",
       "  </tbody>\n",
       "</table>\n",
       "<p>8 rows × 38 columns</p>\n",
       "</div>"
      ],
      "text/plain": [
       "            duration     src_bytes     dst_bytes           land  \\\n",
       "count  494020.000000  4.940200e+05  4.940200e+05  494020.000000   \n",
       "mean       47.979400  3.025616e+03  8.685308e+02       0.000045   \n",
       "std       707.747185  9.882191e+05  3.304003e+04       0.006673   \n",
       "min         0.000000  0.000000e+00  0.000000e+00       0.000000   \n",
       "25%         0.000000  4.500000e+01  0.000000e+00       0.000000   \n",
       "50%         0.000000  5.200000e+02  0.000000e+00       0.000000   \n",
       "75%         0.000000  1.032000e+03  0.000000e+00       0.000000   \n",
       "max     58329.000000  6.933756e+08  5.155468e+06       1.000000   \n",
       "\n",
       "       wrong_fragment         urgent            hot  num_failed_logins  \\\n",
       "count   494020.000000  494020.000000  494020.000000      494020.000000   \n",
       "mean         0.006433       0.000014       0.034519           0.000152   \n",
       "std          0.134805       0.005510       0.782103           0.015520   \n",
       "min          0.000000       0.000000       0.000000           0.000000   \n",
       "25%          0.000000       0.000000       0.000000           0.000000   \n",
       "50%          0.000000       0.000000       0.000000           0.000000   \n",
       "75%          0.000000       0.000000       0.000000           0.000000   \n",
       "max          3.000000       3.000000      30.000000           5.000000   \n",
       "\n",
       "           logged_in  lnum_compromised  ...  dst_host_count  \\\n",
       "count  494020.000000     494020.000000  ...   494020.000000   \n",
       "mean        0.148245          0.010212  ...      232.471248   \n",
       "std         0.355343          1.798328  ...       64.744601   \n",
       "min         0.000000          0.000000  ...        0.000000   \n",
       "25%         0.000000          0.000000  ...      255.000000   \n",
       "50%         0.000000          0.000000  ...      255.000000   \n",
       "75%         0.000000          0.000000  ...      255.000000   \n",
       "max         1.000000        884.000000  ...      255.000000   \n",
       "\n",
       "       dst_host_srv_count  dst_host_same_srv_rate  dst_host_diff_srv_rate  \\\n",
       "count       494020.000000           494020.000000           494020.000000   \n",
       "mean           188.666052                0.753781                0.030906   \n",
       "std            106.040205                0.410780                0.109259   \n",
       "min              0.000000                0.000000                0.000000   \n",
       "25%             46.000000                0.410000                0.000000   \n",
       "50%            255.000000                1.000000                0.000000   \n",
       "75%            255.000000                1.000000                0.040000   \n",
       "max            255.000000                1.000000                1.000000   \n",
       "\n",
       "       dst_host_same_src_port_rate  dst_host_srv_diff_host_rate  \\\n",
       "count                494020.000000                494020.000000   \n",
       "mean                      0.601936                     0.006684   \n",
       "std                       0.481309                     0.042133   \n",
       "min                       0.000000                     0.000000   \n",
       "25%                       0.000000                     0.000000   \n",
       "50%                       1.000000                     0.000000   \n",
       "75%                       1.000000                     0.000000   \n",
       "max                       1.000000                     1.000000   \n",
       "\n",
       "       dst_host_serror_rate  dst_host_srv_serror_rate  dst_host_rerror_rate  \\\n",
       "count         494020.000000             494020.000000         494020.000000   \n",
       "mean               0.176754                  0.176443              0.058118   \n",
       "std                0.380593                  0.380920              0.230590   \n",
       "min                0.000000                  0.000000              0.000000   \n",
       "25%                0.000000                  0.000000              0.000000   \n",
       "50%                0.000000                  0.000000              0.000000   \n",
       "75%                0.000000                  0.000000              0.000000   \n",
       "max                1.000000                  1.000000              1.000000   \n",
       "\n",
       "       dst_host_srv_rerror_rate  \n",
       "count             494020.000000  \n",
       "mean                   0.057412  \n",
       "std                    0.230141  \n",
       "min                    0.000000  \n",
       "25%                    0.000000  \n",
       "50%                    0.000000  \n",
       "75%                    0.000000  \n",
       "max                    1.000000  \n",
       "\n",
       "[8 rows x 38 columns]"
      ]
     },
     "execution_count": 4,
     "metadata": {},
     "output_type": "execute_result"
    }
   ],
   "source": [
    "df.describe()"
   ]
  },
  {
   "cell_type": "markdown",
   "id": "ae319bb1",
   "metadata": {},
   "source": [
    "Valores nulos no dataset"
   ]
  },
  {
   "cell_type": "code",
   "execution_count": 5,
   "id": "f417015d",
   "metadata": {},
   "outputs": [
    {
     "data": {
      "text/plain": [
       "duration                       0\n",
       "protocol_type                  0\n",
       "service                        0\n",
       "flag                           0\n",
       "src_bytes                      0\n",
       "dst_bytes                      0\n",
       "land                           0\n",
       "wrong_fragment                 0\n",
       "urgent                         0\n",
       "hot                            0\n",
       "num_failed_logins              0\n",
       "logged_in                      0\n",
       "lnum_compromised               0\n",
       "lroot_shell                    0\n",
       "lsu_attempted                  0\n",
       "lnum_root                      0\n",
       "lnum_file_creations            0\n",
       "lnum_shells                    0\n",
       "lnum_access_files              0\n",
       "lnum_outbound_cmds             0\n",
       "is_host_login                  0\n",
       "is_guest_login                 0\n",
       "count                          0\n",
       "srv_count                      0\n",
       "serror_rate                    0\n",
       "srv_serror_rate                0\n",
       "rerror_rate                    0\n",
       "srv_rerror_rate                0\n",
       "same_srv_rate                  0\n",
       "diff_srv_rate                  0\n",
       "srv_diff_host_rate             0\n",
       "dst_host_count                 0\n",
       "dst_host_srv_count             0\n",
       "dst_host_same_srv_rate         0\n",
       "dst_host_diff_srv_rate         0\n",
       "dst_host_same_src_port_rate    0\n",
       "dst_host_srv_diff_host_rate    0\n",
       "dst_host_serror_rate           0\n",
       "dst_host_srv_serror_rate       0\n",
       "dst_host_rerror_rate           0\n",
       "dst_host_srv_rerror_rate       0\n",
       "label                          0\n",
       "dtype: int64"
      ]
     },
     "execution_count": 5,
     "metadata": {},
     "output_type": "execute_result"
    }
   ],
   "source": [
    "df.isna().sum()"
   ]
  },
  {
   "cell_type": "markdown",
   "id": "7932fcf2",
   "metadata": {},
   "source": [
    "Tipos de acessos no dataset"
   ]
  },
  {
   "cell_type": "code",
   "execution_count": 6,
   "id": "9817953f",
   "metadata": {},
   "outputs": [
    {
     "data": {
      "text/plain": [
       "array(['back', 'buffer_overflow', 'ftp_write', 'guess_passwd', 'imap',\n",
       "       'ipsweep', 'land', 'loadmodule', 'multihop', 'neptune', 'nmap',\n",
       "       'normal', 'perl', 'phf', 'pod', 'portsweep', 'rootkit', 'satan',\n",
       "       'smurf', 'spy', 'teardrop', 'warezclient', 'warezmaster'],\n",
       "      dtype=object)"
      ]
     },
     "execution_count": 6,
     "metadata": {},
     "output_type": "execute_result"
    }
   ],
   "source": [
    "df_labels = df[\"label\"].unique()\n",
    "df_labels.sort()\n",
    "df_labels"
   ]
  },
  {
   "cell_type": "markdown",
   "id": "326fd669",
   "metadata": {},
   "source": [
    "Seleciona todas as colunas de valores numéricos "
   ]
  },
  {
   "cell_type": "code",
   "execution_count": 7,
   "id": "6a55cf55",
   "metadata": {},
   "outputs": [
    {
     "data": {
      "text/plain": [
       "['duration',\n",
       " 'src_bytes',\n",
       " 'dst_bytes',\n",
       " 'land',\n",
       " 'wrong_fragment',\n",
       " 'urgent',\n",
       " 'hot',\n",
       " 'num_failed_logins',\n",
       " 'logged_in',\n",
       " 'lnum_compromised',\n",
       " 'lroot_shell',\n",
       " 'lsu_attempted',\n",
       " 'lnum_root',\n",
       " 'lnum_file_creations',\n",
       " 'lnum_shells',\n",
       " 'lnum_access_files',\n",
       " 'lnum_outbound_cmds',\n",
       " 'is_host_login',\n",
       " 'is_guest_login',\n",
       " 'count',\n",
       " 'srv_count',\n",
       " 'serror_rate',\n",
       " 'srv_serror_rate',\n",
       " 'rerror_rate',\n",
       " 'srv_rerror_rate',\n",
       " 'same_srv_rate',\n",
       " 'diff_srv_rate',\n",
       " 'srv_diff_host_rate',\n",
       " 'dst_host_count',\n",
       " 'dst_host_srv_count',\n",
       " 'dst_host_same_srv_rate',\n",
       " 'dst_host_diff_srv_rate',\n",
       " 'dst_host_same_src_port_rate',\n",
       " 'dst_host_srv_diff_host_rate',\n",
       " 'dst_host_serror_rate',\n",
       " 'dst_host_srv_serror_rate',\n",
       " 'dst_host_rerror_rate']"
      ]
     },
     "execution_count": 7,
     "metadata": {},
     "output_type": "execute_result"
    }
   ],
   "source": [
    "# lista todas colunas menos a primeira e a penúltima\n",
    "input_cols = list(df.columns)[1:-1]\n",
    "\n",
    "# define a coluna label como alvo\n",
    "target_col = 'label'\n",
    "\n",
    "# seleciona as colunas com valores numéricos \n",
    "numeric_cols = df.select_dtypes(include=np.number).columns.tolist()[:-1]\n",
    "numeric_cols"
   ]
  },
  {
   "cell_type": "markdown",
   "id": "bb4c2792",
   "metadata": {},
   "source": [
    "Relação da quantidade de acessos no dataset"
   ]
  },
  {
   "cell_type": "code",
   "execution_count": 8,
   "id": "58926de1",
   "metadata": {},
   "outputs": [
    {
     "data": {
      "text/plain": [
       "<AxesSubplot:>"
      ]
     },
     "execution_count": 8,
     "metadata": {},
     "output_type": "execute_result"
    },
    {
     "data": {
      "image/png": "[encoded data removed]",
      "text/plain": [
       "<Figure size 432x288 with 1 Axes>"
      ]
     },
     "metadata": {
      "needs_background": "light"
     },
     "output_type": "display_data"
    }
   ],
   "source": [
    "count_labels = df['label'].value_counts()\n",
    "count_labels.plot(kind = \"barh\")"
   ]
  },
  {
   "cell_type": "markdown",
   "id": "f262b884",
   "metadata": {},
   "source": [
    "Transforma os valores numéricos das colunas em números entre 0 e 1 para realizar as interações mais a frente"
   ]
  },
  {
   "cell_type": "code",
   "execution_count": 9,
   "id": "ef3d04a7",
   "metadata": {},
   "outputs": [],
   "source": [
    "from sklearn.preprocessing import MinMaxScaler\n",
    "# MinMaxScaler transforma os valores em uma escala de 0 a 1 \n",
    "# para poder interar com mais facilidade colunas de diferentes medidas \n",
    "scaler = MinMaxScaler()\n",
    "\n",
    "# Calcula o mínimo e o máximo para ser usado pra escalar os valores\n",
    "scaler.fit(df[numeric_cols])\n",
    "\n",
    "# escala os valores do parâmetro utilizado\n",
    "df[numeric_cols] = scaler.transform(df[numeric_cols])"
   ]
  },
  {
   "cell_type": "markdown",
   "id": "ebf2570e",
   "metadata": {},
   "source": [
    "Agora é transformado em classes os valores que não são numéricos"
   ]
  },
  {
   "cell_type": "code",
   "execution_count": 10,
   "id": "874e81d5",
   "metadata": {},
   "outputs": [],
   "source": [
    "from sklearn.preprocessing import LabelEncoder\n",
    "# LabelEncoder funciona muito parecido com o enumerate, dando valores de 0 a n para as diferentes strings \n",
    "le = LabelEncoder()\n",
    "\n",
    "# coloca a coluna label como alvo\n",
    "target = df['label']\n",
    "\n",
    "# realiza fit (gera os valores) e e retorna o transform (verifica as classes dos valores) na target\n",
    "df['label'] = le.fit_transform(target)\n",
    "\n",
    "# o mesmo do anterior com o protocol_type\n",
    "df['protocol_type'] = le.fit_transform(df['protocol_type'])\n",
    "\n",
    "# o mesmo do anterior com o service\n",
    "df['service'] = le.fit_transform(df['service'])\n",
    "\n",
    "# o mesmo do anterior com a flag\n",
    "df['flag'] = le.fit_transform(df['flag'])"
   ]
  },
  {
   "cell_type": "markdown",
   "id": "f97a0468",
   "metadata": {},
   "source": [
    "Pega uma amostra para teste do dataframe"
   ]
  },
  {
   "cell_type": "code",
   "execution_count": 11,
   "id": "2fe551bd",
   "metadata": {},
   "outputs": [
    {
     "name": "stdout",
     "output_type": "stream",
     "text": [
      "(345814, 42)\n",
      "(148206, 42)\n"
     ]
    }
   ],
   "source": [
    "from sklearn.model_selection import train_test_split\n",
    "# serpara arrays ou matrizes em subsets randomicos de teste e treinamento\n",
    "train_df, test_df = train_test_split(df, test_size=0.3, random_state=42)\n",
    "\n",
    "print(train_df.shape)\n",
    "print(test_df.shape)"
   ]
  },
  {
   "cell_type": "markdown",
   "id": "2a90e41c",
   "metadata": {},
   "source": [
    "Separa em 4 listas, duas para treino e duas para teste, sendo a inputs com todos os campos numéricos e a tager com as classes da label"
   ]
  },
  {
   "cell_type": "code",
   "execution_count": 12,
   "id": "bf07b13e",
   "metadata": {},
   "outputs": [],
   "source": [
    "# apenas copia valores para novas variaveis\n",
    "train_inputs = train_df[input_cols].copy()\n",
    "train_targets = train_df[target_col].copy()\n",
    "test_inputs = test_df[input_cols].copy()\n",
    "test_targets = test_df[target_col].copy()"
   ]
  },
  {
   "cell_type": "markdown",
   "id": "e2632071",
   "metadata": {},
   "source": [
    "Utiliza o classificador de floresta randomico para verificar quais são as 4 colunas mais importantes para o treinamento"
   ]
  },
  {
   "cell_type": "code",
   "execution_count": 13,
   "id": "ce0a95bd",
   "metadata": {},
   "outputs": [
    {
     "name": "stdout",
     "output_type": "stream",
     "text": [
      "Index(['protocol_type', 'service', 'flag', 'dst_bytes', 'count', 'srv_count',\n",
      "       'same_srv_rate', 'diff_srv_rate', 'dst_host_srv_count',\n",
      "       'dst_host_same_srv_rate', 'dst_host_diff_srv_rate',\n",
      "       'dst_host_same_src_port_rate'],\n",
      "      dtype='object')\n",
      "12\n"
     ]
    }
   ],
   "source": [
    "# classificador de floresta randomico\n",
    "# ver melhor a definição aqui: https://scikit-learn.org/stable/modules/generated/sklearn.ensemble.RandomForestClassifier.html\n",
    "from sklearn.ensemble import RandomForestClassifier\n",
    "# transformador para selecionar características baseadas em pesos de importância\n",
    "from sklearn.feature_selection import SelectFromModel\n",
    "\n",
    "# utiliza o classificador de floresta com estimador = 60 e estado randomico de 42\n",
    "sel = SelectFromModel(RandomForestClassifier(n_estimators = 60, random_state=42))\n",
    "\n",
    "# da fit no meta-transformador SelectFromModel\n",
    "sel.fit(train_inputs, train_targets)\n",
    "\n",
    "# recebe as colunas que foram selecionadas\n",
    "selected_feat = train_inputs.columns[(sel.get_support())]\n",
    "\n",
    "print(selected_feat)\n",
    "print(len(selected_feat))"
   ]
  },
  {
   "cell_type": "markdown",
   "id": "ff5b30db",
   "metadata": {},
   "source": [
    "Utiliza o classificador de floresta randômico para determinar a acurácia ao adivinhar um valor para as informações do dataframe"
   ]
  },
  {
   "cell_type": "code",
   "execution_count": 14,
   "id": "9731a889",
   "metadata": {},
   "outputs": [
    {
     "data": {
      "text/plain": [
       "0.9987112532556037"
      ]
     },
     "execution_count": 14,
     "metadata": {},
     "output_type": "execute_result"
    }
   ],
   "source": [
    "# classificador de floresta randomico\n",
    "from sklearn.ensemble import RandomForestClassifier\n",
    "\n",
    "# utiliza o classificador de floresta com estimador = 1000 e estado randomico de 42\n",
    "rf = RandomForestClassifier(n_estimators = 2000, random_state = 42)\n",
    "# realiza o fit passando os inputs que irão receber o treinamento, com as colunas selecionadas no passo anterior e os alvos\n",
    "rf.fit(train_inputs[selected_feat], train_targets);\n",
    "\n",
    "# realiza a predição das classes com os inputs de test com as colunas selecionadas pelo feat\n",
    "preds_rf = rf.predict(test_inputs[selected_feat])\n",
    "\n",
    "# classificador de acuracia\n",
    "from sklearn.metrics import accuracy_score\n",
    "\n",
    "# com base nas classes observadas anteriormente, é verificado quais delas se comportam com o esperado\n",
    "score_rf = accuracy_score(test_targets, preds_rf)\n",
    "score_rf\n",
    "\n",
    "# 0.9936642241204809"
   ]
  },
  {
   "cell_type": "markdown",
   "id": "cc1f7576",
   "metadata": {},
   "source": [
    "Utiliza o classificador de árvore de decisão para verificar a acurácia em comparação com o anterior"
   ]
  },
  {
   "cell_type": "code",
   "execution_count": 15,
   "id": "8a5ea1d4",
   "metadata": {},
   "outputs": [
    {
     "data": {
      "text/plain": [
       "0.9984413586494474"
      ]
     },
     "execution_count": 15,
     "metadata": {},
     "output_type": "execute_result"
    }
   ],
   "source": [
    "# classificador de decisão de floresta\n",
    "# faz basicamente a mesma coisa que o anterior, a diferença é que agora não utiliza mais os estimadores, porém o resto é igual\n",
    "from sklearn.tree import DecisionTreeClassifier\n",
    "dc = DecisionTreeClassifier()\n",
    "dc.fit(train_inputs[selected_feat], train_targets);\n",
    "preds_dc = dc.predict(test_inputs[selected_feat])\n",
    "score_dc = accuracy_score(test_targets, preds_dc)\n",
    "\n",
    "score_dc"
   ]
  },
  {
   "cell_type": "markdown",
   "id": "15871ece",
   "metadata": {},
   "source": [
    "Utiliza o classificador k-vizinhos para determinar também a acurácia"
   ]
  },
  {
   "cell_type": "code",
   "execution_count": 16,
   "id": "815c7deb",
   "metadata": {},
   "outputs": [
    {
     "data": {
      "text/plain": [
       "0.9969839277762034"
      ]
     },
     "execution_count": 16,
     "metadata": {},
     "output_type": "execute_result"
    }
   ],
   "source": [
    "# classificador de k vizinhos\n",
    "# também semelhante aos dois últimos, porém utiliza a parte de k vizinhos para verificar a acuracia\n",
    "from sklearn.neighbors import KNeighborsClassifier\n",
    "knn = KNeighborsClassifier(n_neighbors=7)\n",
    "knn.fit(train_inputs[selected_feat], train_targets)\n",
    "preds_knn = knn.predict(test_inputs[selected_feat])\n",
    "score_knn = accuracy_score(test_targets, preds_knn)\n",
    "\n",
    "score_knn"
   ]
  },
  {
   "cell_type": "markdown",
   "id": "15a78832",
   "metadata": {},
   "source": [
    "Agora verificando a acurácia com as 4 colunas mais importantes do dataframe"
   ]
  },
  {
   "cell_type": "markdown",
   "id": "249a8d5c",
   "metadata": {},
   "source": [
    "Seleciona o banco de dados novamente para poder fazer a verificação"
   ]
  },
  {
   "cell_type": "code",
   "execution_count": 26,
   "id": "bded9eb8",
   "metadata": {},
   "outputs": [],
   "source": [
    "df4 = df.copy()"
   ]
  },
  {
   "cell_type": "markdown",
   "id": "9d6d908f",
   "metadata": {},
   "source": [
    "Cria as variáveis de treinamento e teste"
   ]
  },
  {
   "cell_type": "code",
   "execution_count": 31,
   "id": "e72c3ef2",
   "metadata": {},
   "outputs": [],
   "source": [
    "train_df4, test_df4 = train_test_split(df4, test_size=0.3, random_state=42)\n",
    "\n",
    "train_inputs4 = train_df4[selected_feat].copy()\n",
    "train_targets4 = train_df4[target_col].copy()\n",
    "test_inputs4 = test_df4[selected_feat].copy()\n",
    "test_targets4 = test_df4[target_col].copy()"
   ]
  },
  {
   "cell_type": "markdown",
   "id": "8088e36e",
   "metadata": {},
   "source": [
    "Utiliza o classificador de floresta randomico para verificar quais são as 4 colunas mais importantes para o treinamento"
   ]
  },
  {
   "cell_type": "code",
   "execution_count": 33,
   "id": "e9aaaf11",
   "metadata": {},
   "outputs": [
    {
     "name": "stdout",
     "output_type": "stream",
     "text": [
      "Index(['flag', 'dst_bytes', 'srv_count', 'dst_host_srv_count'], dtype='object')\n",
      "4\n"
     ]
    }
   ],
   "source": [
    "# utiliza o classificador de floresta com estimador = 5 e estado randomico de 42\n",
    "sel4 = SelectFromModel(RandomForestClassifier(n_estimators = 3, random_state=42))\n",
    "\n",
    "# da fit no meta-transformador SelectFromModel\n",
    "sel4.fit(train_inputs4, train_targets4)\n",
    "\n",
    "# recebe as colunas que foram selecionadas\n",
    "selected_feat4 = train_inputs4.columns[(sel4.get_support())]\n",
    "\n",
    "print(selected_feat4)\n",
    "print(len(selected_feat4))"
   ]
  },
  {
   "cell_type": "markdown",
   "id": "e4d0abc1",
   "metadata": {},
   "source": [
    "Aplica o classificador de floresta para determinar a acurácia"
   ]
  },
  {
   "cell_type": "code",
   "execution_count": 35,
   "id": "210de656",
   "metadata": {},
   "outputs": [
    {
     "name": "stdout",
     "output_type": "stream",
     "text": [
      "Acurácia com todas as informações 0.9987112532556037\n",
      "Acurácia com 4 informações 0.9924496983927776\n"
     ]
    }
   ],
   "source": [
    "rf4 = RandomForestClassifier(n_estimators = 500, random_state = 42)\n",
    "rf4.fit(train_inputs4[selected_feat4], train_targets4)\n",
    "preds_rf4 = rf4.predict(test_inputs4[selected_feat4])\n",
    "\n",
    "score_rf4 = accuracy_score(test_targets, preds_rf4)\n",
    "print(f'Acurácia com todas as informações {score_rf}')\n",
    "print(f'Acurácia com 4 informações {score_rf4}')"
   ]
  },
  {
   "cell_type": "markdown",
   "id": "b2fcb614",
   "metadata": {},
   "source": [
    "Aplica o classificador de árvore de decisão para determinar a acurácia"
   ]
  },
  {
   "cell_type": "code",
   "execution_count": 36,
   "id": "d8f900ab",
   "metadata": {},
   "outputs": [
    {
     "name": "stdout",
     "output_type": "stream",
     "text": [
      "Acurácia com todas as informações 0.9984413586494474\n",
      "Acurácia com 4 informações 0.992200045882083\n"
     ]
    }
   ],
   "source": [
    "dc4 = DecisionTreeClassifier()\n",
    "dc4.fit(train_inputs4[selected_feat4], train_targets4);\n",
    "preds_dc4 = dc4.predict(test_inputs4[selected_feat4])\n",
    "score_dc4 = accuracy_score(test_targets4, preds_dc4)\n",
    "\n",
    "print(f'Acurácia com todas as informações {score_dc}')\n",
    "print(f'Acurácia com 4 informações {score_dc4}')\n"
   ]
  },
  {
   "cell_type": "markdown",
   "id": "ad175da1",
   "metadata": {},
   "source": [
    "Aplica o classificador k-vizinhos para determinar a acurácia"
   ]
  },
  {
   "cell_type": "code",
   "execution_count": 37,
   "id": "8a0bc052",
   "metadata": {},
   "outputs": [
    {
     "name": "stdout",
     "output_type": "stream",
     "text": [
      "Acurácia com todas as informações 0.9969839277762034\n",
      "Acurácia com 4 informações 0.9892716894052872\n"
     ]
    }
   ],
   "source": [
    "knn4 = KNeighborsClassifier(n_neighbors=7)\n",
    "knn4.fit(train_inputs4[selected_feat4], train_targets4)\n",
    "preds_knn4 = knn4.predict(test_inputs4[selected_feat4])\n",
    "score_knn4 = accuracy_score(test_targets4, preds_knn4)\n",
    "\n",
    "print(f'Acurácia com todas as informações {score_knn}')\n",
    "print(f'Acurácia com 4 informações {score_knn4}')\n"
   ]
  }
 ],
 "metadata": {
  "kernelspec": {
   "display_name": "Python 3.9.12 ('base')",
   "language": "python",
   "name": "python3"
  },
  "language_info": {
   "codemirror_mode": {
    "name": "ipython",
    "version": 3
   },
   "file_extension": ".py",
   "mimetype": "text/x-python",
   "name": "python",
   "nbconvert_exporter": "python",
   "pygments_lexer": "ipython3",
   "version": "3.9.12"
  },
  "vscode": {
   "interpreter": {
    "hash": "92d1c8824dd9ed58f2e2fe7d35df9188f2132fcf69312c535170a29d4fbf29a8"
   }
  }
 },
 "nbformat": 4,
 "nbformat_minor": 5
}
