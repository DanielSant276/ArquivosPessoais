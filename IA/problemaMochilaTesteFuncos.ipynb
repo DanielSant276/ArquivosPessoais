{
  "cells": [
    {
      "cell_type": "code",
      "execution_count": 21,
      "id": "a2bdebf9",
      "metadata": {
        "cellView": "form",
        "id": "a2bdebf9"
      },
      "outputs": [],
      "source": [
        "#@title\n",
        "from random import getrandbits, randint, random, choice"
      ]
    },
    {
      "cell_type": "code",
      "execution_count": 2,
      "id": "4d4208ff",
      "metadata": {
        "id": "4d4208ff"
      },
      "outputs": [],
      "source": [
        "def individual(n_de_itens):\n",
        "    \"\"\"Cria um membro da populacao\"\"\"\n",
        "    return [ getrandbits(1) for x in range(n_de_itens) ]"
      ]
    },
    {
      "cell_type": "code",
      "execution_count": 3,
      "id": "b53f4ddd",
      "metadata": {
        "colab": {
          "base_uri": "https://localhost:8080/",
          "height": 276
        },
        "id": "b53f4ddd",
        "outputId": "763de6bc-4b37-404b-b7c3-4ae6dccd4ea3"
      },
      "outputs": [
        {
          "data": {
            "text/plain": [
              "[0, 0, 0, 0, 0, 0, 1, 0, 1, 1, 1, 0, 0]"
            ]
          },
          "execution_count": 3,
          "metadata": {},
          "output_type": "execute_result"
        }
      ],
      "source": [
        "individual(13)"
      ]
    },
    {
      "cell_type": "code",
      "execution_count": 4,
      "id": "44cdbca3",
      "metadata": {
        "id": "44cdbca3"
      },
      "outputs": [],
      "source": [
        "def population(n_de_individuos, n_de_itens):\n",
        "    \"\"\"\"Cria a populacao\"\"\"\n",
        "    return [ individual(n_de_itens) for x in range(n_de_individuos) ]"
      ]
    },
    {
      "cell_type": "code",
      "execution_count": 5,
      "id": "d7f2e9ff",
      "metadata": {
        "id": "d7f2e9ff"
      },
      "outputs": [
        {
          "data": {
            "text/plain": [
              "[[1, 0, 1, 0, 1, 0, 1, 1, 1, 0, 1, 0, 0, 1, 1],\n",
              " [1, 0, 1, 0, 0, 1, 1, 1, 1, 0, 0, 1, 0, 0, 1],\n",
              " [1, 0, 0, 0, 1, 0, 1, 0, 0, 0, 0, 1, 0, 1, 0],\n",
              " [0, 0, 0, 0, 0, 0, 1, 1, 0, 0, 0, 0, 0, 0, 1],\n",
              " [0, 0, 1, 0, 1, 1, 0, 1, 1, 0, 0, 1, 1, 1, 1],\n",
              " [1, 0, 0, 1, 0, 0, 1, 0, 1, 0, 0, 1, 0, 1, 0],\n",
              " [0, 1, 1, 1, 0, 0, 0, 0, 0, 0, 0, 1, 0, 1, 0],\n",
              " [0, 0, 1, 1, 1, 0, 0, 1, 0, 1, 1, 0, 0, 1, 1],\n",
              " [0, 1, 0, 0, 1, 1, 1, 0, 0, 0, 0, 1, 0, 1, 0],\n",
              " [1, 0, 0, 1, 0, 1, 0, 1, 1, 0, 0, 0, 1, 0, 1]]"
            ]
          },
          "execution_count": 5,
          "metadata": {},
          "output_type": "execute_result"
        }
      ],
      "source": [
        "population(10,15)"
      ]
    },
    {
      "cell_type": "code",
      "execution_count": 6,
      "id": "42e65e1e",
      "metadata": {
        "id": "42e65e1e"
      },
      "outputs": [],
      "source": [
        "pesos_e_valores = [[4, 30], [8, 10], [8, 30], [25, 75], \\\n",
        "                   [2, 10], [50, 100], [6, 300], [12, 50], \\\n",
        "                   [100, 400], [8, 300],[7,20],[6,45],[13,89]]\n",
        "peso_maximo = 100\n",
        "n_de_cromossomos = 30\n",
        "geracoes = 150\n",
        "n_de_itens = len(pesos_e_valores) #Analogo aos pesos e valores"
      ]
    },
    {
      "cell_type": "code",
      "execution_count": 7,
      "id": "d7b3ddfb",
      "metadata": {
        "id": "d7b3ddfb"
      },
      "outputs": [],
      "source": [
        "pesos_e_valores = [[ 2.48, 0.37], [2.16,0.24], [1.95, 0.14], [ 2.93,0.30], \\\n",
        "                   [2.40,0.24], [2.0,0.19], [2.63,0.28], [2.14,0.18], \\\n",
        "                   [2.73,0.25], [2.47,0.24]]\n",
        "peso_maximo = 10\n",
        "n_de_cromossomos = 30\n",
        "geracoes = 150\n",
        "n_de_itens = len(pesos_e_valores) #Analogo aos pesos e valores"
      ]
    },
    {
      "cell_type": "code",
      "execution_count": 8,
      "id": "84c82b0f",
      "metadata": {
        "id": "84c82b0f"
      },
      "outputs": [
        {
          "data": {
            "text/plain": [
              "[0, 0, 1, 1, 0, 1, 0, 0, 0, 0]"
            ]
          },
          "execution_count": 8,
          "metadata": {},
          "output_type": "execute_result"
        }
      ],
      "source": [
        "individual(n_de_itens)"
      ]
    },
    {
      "cell_type": "code",
      "execution_count": 9,
      "id": "df014482",
      "metadata": {
        "id": "df014482"
      },
      "outputs": [],
      "source": [
        "populacao = population(n_de_cromossomos,n_de_itens)"
      ]
    },
    {
      "cell_type": "code",
      "execution_count": 10,
      "id": "78a08f89",
      "metadata": {
        "id": "78a08f89"
      },
      "outputs": [
        {
          "data": {
            "text/plain": [
              "[[1, 1, 1, 0, 0, 0, 0, 0, 0, 0],\n",
              " [1, 1, 0, 0, 0, 1, 1, 0, 1, 1],\n",
              " [1, 1, 0, 0, 1, 0, 1, 1, 0, 0],\n",
              " [0, 1, 1, 0, 1, 0, 0, 1, 1, 1],\n",
              " [0, 0, 0, 1, 0, 0, 1, 1, 0, 0],\n",
              " [0, 0, 0, 1, 1, 0, 1, 0, 0, 1],\n",
              " [0, 1, 1, 1, 1, 0, 1, 0, 1, 0],\n",
              " [0, 0, 1, 1, 1, 0, 0, 0, 0, 1],\n",
              " [1, 0, 0, 0, 0, 0, 0, 0, 0, 1],\n",
              " [0, 0, 0, 0, 1, 1, 0, 0, 0, 1],\n",
              " [0, 0, 1, 0, 0, 1, 0, 1, 1, 0],\n",
              " [0, 1, 0, 1, 1, 0, 1, 1, 0, 0],\n",
              " [0, 1, 1, 0, 1, 0, 1, 0, 0, 0],\n",
              " [0, 1, 1, 1, 1, 0, 0, 0, 0, 1],\n",
              " [1, 1, 0, 0, 0, 1, 1, 0, 1, 0],\n",
              " [0, 1, 1, 0, 0, 1, 0, 0, 0, 0],\n",
              " [1, 1, 1, 1, 0, 1, 1, 0, 0, 0],\n",
              " [0, 0, 1, 0, 0, 0, 0, 1, 0, 1],\n",
              " [1, 0, 0, 1, 1, 1, 0, 1, 1, 1],\n",
              " [1, 1, 0, 1, 1, 0, 0, 1, 1, 0],\n",
              " [0, 1, 0, 1, 0, 0, 1, 1, 0, 1],\n",
              " [1, 1, 1, 0, 0, 0, 1, 0, 0, 0],\n",
              " [0, 0, 0, 0, 1, 1, 1, 0, 0, 0],\n",
              " [0, 0, 1, 1, 1, 0, 0, 1, 1, 0],\n",
              " [1, 0, 1, 0, 1, 1, 0, 0, 0, 0],\n",
              " [1, 1, 1, 0, 1, 1, 1, 0, 0, 0],\n",
              " [0, 0, 1, 1, 1, 0, 1, 1, 1, 1],\n",
              " [0, 1, 0, 0, 1, 0, 0, 1, 0, 1],\n",
              " [0, 1, 1, 0, 1, 0, 1, 0, 1, 1],\n",
              " [1, 1, 0, 0, 1, 0, 0, 0, 0, 1]]"
            ]
          },
          "execution_count": 10,
          "metadata": {},
          "output_type": "execute_result"
        }
      ],
      "source": [
        "populacao"
      ]
    },
    {
      "cell_type": "code",
      "execution_count": 12,
      "id": "19235926",
      "metadata": {
        "id": "19235926"
      },
      "outputs": [],
      "source": [
        "def fitness(individuo, peso_maximo, pesos_e_valores):\n",
        "    \"\"\"Faz avaliacao do individuo\"\"\"\n",
        "    peso_total, valor_total = 0, 0\n",
        "    for indice, valor in enumerate(individuo):\n",
        "        peso_total += (individuo[indice] * pesos_e_valores[indice][0])\n",
        "        valor_total += (individuo[indice] * pesos_e_valores[indice][1])\n",
        "\n",
        "    if (peso_maximo - peso_total) < 0:\n",
        "        return -1 #retorna -1 no caso de peso excedido\n",
        "    return valor_total #se for um individuo valido retorna seu valor, sendo maior melhor\n"
      ]
    },
    {
      "cell_type": "code",
      "execution_count": 13,
      "id": "69ada0e2",
      "metadata": {
        "id": "69ada0e2"
      },
      "outputs": [
        {
          "data": {
            "text/plain": [
              "0.9299999999999999"
            ]
          },
          "execution_count": 13,
          "metadata": {},
          "output_type": "execute_result"
        }
      ],
      "source": [
        "individuo = individual(n_de_itens)\n",
        "fitness(individuo, peso_maximo, pesos_e_valores)"
      ]
    },
    {
      "cell_type": "code",
      "execution_count": 14,
      "id": "c40e5346",
      "metadata": {
        "id": "c40e5346"
      },
      "outputs": [
        {
          "data": {
            "text/plain": [
              "[[0.75, [1, 1, 1, 0, 0, 0, 0, 0, 0, 0]],\n",
              " [-1, [1, 1, 0, 0, 0, 1, 1, 0, 1, 1]],\n",
              " [-1, [1, 1, 0, 0, 1, 0, 1, 1, 0, 0]],\n",
              " [-1, [0, 1, 1, 0, 1, 0, 0, 1, 1, 1]],\n",
              " [0.76, [0, 0, 0, 1, 0, 0, 1, 1, 0, 0]],\n",
              " [-1, [0, 0, 0, 1, 1, 0, 1, 0, 0, 1]],\n",
              " [-1, [0, 1, 1, 1, 1, 0, 1, 0, 1, 0]],\n",
              " [0.9199999999999999, [0, 0, 1, 1, 1, 0, 0, 0, 0, 1]],\n",
              " [0.61, [1, 0, 0, 0, 0, 0, 0, 0, 0, 1]],\n",
              " [0.6699999999999999, [0, 0, 0, 0, 1, 1, 0, 0, 0, 1]],\n",
              " [0.76, [0, 0, 1, 0, 0, 1, 0, 1, 1, 0]],\n",
              " [-1, [0, 1, 0, 1, 1, 0, 1, 1, 0, 0]],\n",
              " [0.9, [0, 1, 1, 0, 1, 0, 1, 0, 0, 0]],\n",
              " [-1, [0, 1, 1, 1, 1, 0, 0, 0, 0, 1]],\n",
              " [-1, [1, 1, 0, 0, 0, 1, 1, 0, 1, 0]],\n",
              " [0.5700000000000001, [0, 1, 1, 0, 0, 1, 0, 0, 0, 0]],\n",
              " [-1, [1, 1, 1, 1, 0, 1, 1, 0, 0, 0]],\n",
              " [0.56, [0, 0, 1, 0, 0, 0, 0, 1, 0, 1]],\n",
              " [-1, [1, 0, 0, 1, 1, 1, 0, 1, 1, 1]],\n",
              " [-1, [1, 1, 0, 1, 1, 0, 0, 1, 1, 0]],\n",
              " [-1, [0, 1, 0, 1, 0, 0, 1, 1, 0, 1]],\n",
              " [1.03, [1, 1, 1, 0, 0, 0, 1, 0, 0, 0]],\n",
              " [0.71, [0, 0, 0, 0, 1, 1, 1, 0, 0, 0]],\n",
              " [-1, [0, 0, 1, 1, 1, 0, 0, 1, 1, 0]],\n",
              " [0.94, [1, 0, 1, 0, 1, 1, 0, 0, 0, 0]],\n",
              " [-1, [1, 1, 1, 0, 1, 1, 1, 0, 0, 0]],\n",
              " [-1, [0, 0, 1, 1, 1, 0, 1, 1, 1, 1]],\n",
              " [0.8999999999999999, [0, 1, 0, 0, 1, 0, 0, 1, 0, 1]],\n",
              " [-1, [0, 1, 1, 0, 1, 0, 1, 0, 1, 1]],\n",
              " [1.0899999999999999, [1, 1, 0, 0, 1, 0, 0, 0, 0, 1]]]"
            ]
          },
          "execution_count": 14,
          "metadata": {},
          "output_type": "execute_result"
        }
      ],
      "source": [
        "populacaoVisual = [ [fitness(x, peso_maximo, pesos_e_valores), x] for x in populacao]\n",
        "populacaoVisual"
      ]
    },
    {
      "cell_type": "code",
      "execution_count": 15,
      "id": "27c6341f",
      "metadata": {
        "id": "27c6341f"
      },
      "outputs": [],
      "source": [
        "pais = [ [fitness(x, peso_maximo, pesos_e_valores), x] for x in populacao if fitness(x, peso_maximo, pesos_e_valores) >= 0]\n",
        "pais.sort(reverse=True)"
      ]
    },
    {
      "cell_type": "code",
      "execution_count": 16,
      "id": "921b19b6",
      "metadata": {
        "id": "921b19b6"
      },
      "outputs": [
        {
          "data": {
            "text/plain": [
              "[[1.0899999999999999, [1, 1, 0, 0, 1, 0, 0, 0, 0, 1]],\n",
              " [1.03, [1, 1, 1, 0, 0, 0, 1, 0, 0, 0]],\n",
              " [0.94, [1, 0, 1, 0, 1, 1, 0, 0, 0, 0]],\n",
              " [0.9199999999999999, [0, 0, 1, 1, 1, 0, 0, 0, 0, 1]],\n",
              " [0.9, [0, 1, 1, 0, 1, 0, 1, 0, 0, 0]],\n",
              " [0.8999999999999999, [0, 1, 0, 0, 1, 0, 0, 1, 0, 1]],\n",
              " [0.76, [0, 0, 1, 0, 0, 1, 0, 1, 1, 0]],\n",
              " [0.76, [0, 0, 0, 1, 0, 0, 1, 1, 0, 0]],\n",
              " [0.75, [1, 1, 1, 0, 0, 0, 0, 0, 0, 0]],\n",
              " [0.71, [0, 0, 0, 0, 1, 1, 1, 0, 0, 0]],\n",
              " [0.6699999999999999, [0, 0, 0, 0, 1, 1, 0, 0, 0, 1]],\n",
              " [0.61, [1, 0, 0, 0, 0, 0, 0, 0, 0, 1]],\n",
              " [0.5700000000000001, [0, 1, 1, 0, 0, 1, 0, 0, 0, 0]],\n",
              " [0.56, [0, 0, 1, 0, 0, 0, 0, 1, 0, 1]]]"
            ]
          },
          "execution_count": 16,
          "metadata": {},
          "output_type": "execute_result"
        }
      ],
      "source": [
        "pais"
      ]
    },
    {
      "cell_type": "code",
      "execution_count": 17,
      "id": "0213d47d",
      "metadata": {
        "id": "0213d47d"
      },
      "outputs": [],
      "source": [
        "valores = list(zip(*pais)) #cria 1 listas com os valores fitness e os cromossomos\n",
        "fitness_total = sum(valores[0])"
      ]
    },
    {
      "cell_type": "code",
      "execution_count": 18,
      "id": "886c0e9d",
      "metadata": {
        "id": "886c0e9d"
      },
      "outputs": [
        {
          "data": {
            "text/plain": [
              "[(1.0899999999999999,\n",
              "  1.03,\n",
              "  0.94,\n",
              "  0.9199999999999999,\n",
              "  0.9,\n",
              "  0.8999999999999999,\n",
              "  0.76,\n",
              "  0.76,\n",
              "  0.75,\n",
              "  0.71,\n",
              "  0.6699999999999999,\n",
              "  0.61,\n",
              "  0.5700000000000001,\n",
              "  0.56),\n",
              " ([1, 1, 0, 0, 1, 0, 0, 0, 0, 1],\n",
              "  [1, 1, 1, 0, 0, 0, 1, 0, 0, 0],\n",
              "  [1, 0, 1, 0, 1, 1, 0, 0, 0, 0],\n",
              "  [0, 0, 1, 1, 1, 0, 0, 0, 0, 1],\n",
              "  [0, 1, 1, 0, 1, 0, 1, 0, 0, 0],\n",
              "  [0, 1, 0, 0, 1, 0, 0, 1, 0, 1],\n",
              "  [0, 0, 1, 0, 0, 1, 0, 1, 1, 0],\n",
              "  [0, 0, 0, 1, 0, 0, 1, 1, 0, 0],\n",
              "  [1, 1, 1, 0, 0, 0, 0, 0, 0, 0],\n",
              "  [0, 0, 0, 0, 1, 1, 1, 0, 0, 0],\n",
              "  [0, 0, 0, 0, 1, 1, 0, 0, 0, 1],\n",
              "  [1, 0, 0, 0, 0, 0, 0, 0, 0, 1],\n",
              "  [0, 1, 1, 0, 0, 1, 0, 0, 0, 0],\n",
              "  [0, 0, 1, 0, 0, 0, 0, 1, 0, 1])]"
            ]
          },
          "execution_count": 18,
          "metadata": {},
          "output_type": "execute_result"
        }
      ],
      "source": [
        "valores"
      ]
    },
    {
      "cell_type": "code",
      "execution_count": 40,
      "id": "b4fdc179",
      "metadata": {
        "id": "b4fdc179"
      },
      "outputs": [],
      "source": [
        "def sortear(valores,fitness_total, indice_a_ignorar=-1): #2 parametro garante que não vai selecionar o mesmo elemento\n",
        "        \"\"\"Monta roleta para realizar o sorteio\"\"\"\n",
        "        roleta, acumulado, valor_sorteado = [], 0, random()\n",
        "\n",
        "        if indice_a_ignorar!=-1: #Desconta do total, o valor que sera retirado da roleta\n",
        "            fitness_total -= valores[0][indice_a_ignorar]\n",
        "\n",
        "        for indice, i in enumerate(valores[0]):\n",
        "            if indice_a_ignorar==indice: #ignora o valor ja utilizado na roleta\n",
        "                continue\n",
        "            acumulado += i\n",
        "            roleta.append(acumulado/fitness_total)\n",
        "            if roleta[-1] >= valor_sorteado:\n",
        "                return indice"
      ]
    },
    {
      "cell_type": "code",
      "execution_count": 37,
      "id": "92c52614",
      "metadata": {
        "id": "92c52614"
      },
      "outputs": [
        {
          "name": "stdout",
          "output_type": "stream",
          "text": [
            "[0.09758281110116383]\n",
            "[0.09758281110116383, 0.18979409131602512]\n",
            "[0.09758281110116383, 0.18979409131602512, 0.27394807520143244]\n",
            "[0.09758281110116383, 0.18979409131602512, 0.27394807520143244, 0.3563115487914056]\n",
            "[0.09758281110116383, 0.18979409131602512, 0.27394807520143244, 0.3563115487914056, 0.43688451208594453]\n",
            "[0.09758281110116383, 0.18979409131602512, 0.27394807520143244, 0.3563115487914056, 0.43688451208594453, 0.5174574753804835]\n",
            "[0.09758281110116383, 0.18979409131602512, 0.27394807520143244, 0.3563115487914056, 0.43688451208594453, 0.5174574753804835, 0.585496866606983]\n",
            "[0.09758281110116383, 0.18979409131602512, 0.27394807520143244, 0.3563115487914056, 0.43688451208594453, 0.5174574753804835, 0.585496866606983, 0.6535362578334826]\n",
            "[0.09758281110116383, 0.18979409131602512, 0.27394807520143244, 0.3563115487914056, 0.43688451208594453, 0.5174574753804835, 0.585496866606983, 0.6535362578334826, 0.720680393912265]\n",
            "[0.09758281110116383, 0.18979409131602512, 0.27394807520143244, 0.3563115487914056, 0.43688451208594453, 0.5174574753804835, 0.585496866606983, 0.6535362578334826, 0.720680393912265, 0.784243509400179]\n",
            "[0.09758281110116383, 0.18979409131602512, 0.27394807520143244, 0.3563115487914056, 0.43688451208594453, 0.5174574753804835, 0.585496866606983, 0.6535362578334826, 0.720680393912265, 0.784243509400179, 0.8442256042972247]\n",
            "[0.09758281110116383, 0.18979409131602512, 0.27394807520143244, 0.3563115487914056, 0.43688451208594453, 0.5174574753804835, 0.585496866606983, 0.6535362578334826, 0.720680393912265, 0.784243509400179, 0.8442256042972247, 0.8988361683079676]\n",
            "[0.09758281110116383, 0.18979409131602512, 0.27394807520143244, 0.3563115487914056, 0.43688451208594453, 0.5174574753804835, 0.585496866606983, 0.6535362578334826, 0.720680393912265, 0.784243509400179, 0.8442256042972247, 0.8988361683079676, 0.9498657117278424]\n"
          ]
        },
        {
          "data": {
            "text/plain": [
              "12"
            ]
          },
          "execution_count": 37,
          "metadata": {},
          "output_type": "execute_result"
        }
      ],
      "source": [
        "sortear(valores,fitness_total, indice_a_ignorar=-1)"
      ]
    },
    {
      "cell_type": "code",
      "execution_count": 45,
      "id": "0f632a63",
      "metadata": {
        "id": "0f632a63"
      },
      "outputs": [],
      "source": [
        "def selecao_roleta(pais):\n",
        "    \"\"\"Seleciona um pai e uma mae baseado nas regras da roleta\"\"\"\n",
        "       \n",
        "    valores = list(zip(*pais)) #cria 2 listas com os valores fitness e os cromossomos\n",
        "    fitness_total = sum(valores[0])\n",
        "\n",
        "    indice_pai = sortear(valores,fitness_total) \n",
        "    indice_mae = sortear(valores,fitness_total, indice_pai)\n",
        "\n",
        "    pai = valores[1][indice_pai]\n",
        "    mae = valores[1][indice_mae]\n",
        "    \n",
        "    return pai, mae"
      ]
    },
    {
      "cell_type": "code",
      "execution_count": 46,
      "id": "dd01b3af",
      "metadata": {
        "id": "dd01b3af"
      },
      "outputs": [
        {
          "data": {
            "text/plain": [
              "([0, 1, 0, 0, 1, 0, 0, 1, 0, 1], [0, 1, 1, 0, 1, 0, 1, 0, 0, 0])"
            ]
          },
          "execution_count": 46,
          "metadata": {},
          "output_type": "execute_result"
        }
      ],
      "source": [
        "selecao_roleta(pais)"
      ]
    },
    {
      "cell_type": "code",
      "execution_count": null,
      "id": "a5bac443",
      "metadata": {
        "id": "a5bac443"
      },
      "outputs": [],
      "source": [
        "def evolve(populacao, peso_maximo, pesos_e_valores, n_de_cromossomos, mutate=0.05): \n",
        "    \"\"\"Tabula cada individuo e o seu fitness\"\"\"\n",
        "    pais = [ [fitness(x, peso_maximo, pesos_e_valores), x] for x in populacao if fitness(x, peso_maximo, pesos_e_valores) >= 0]\n",
        "    pais.sort(reverse=True)\n",
        "    \n",
        "    # REPRODUCAO\n",
        "    filhos = []\n",
        "    while len(filhos) < n_de_cromossomos:\n",
        "        homem, mulher = selecao_roleta(pais)\n",
        "        meio = len(homem) // 2\n",
        "        filho = homem[:meio] + mulher[meio:]\n",
        "        filhos.append(filho)\n",
        "    \n",
        "    # MUTACAO\n",
        "    for individuo in filhos:\n",
        "        if mutate > random():\n",
        "            pos_to_mutate = randint(0, len(individuo)-1)\n",
        "            if individuo[pos_to_mutate] == 1:\n",
        "                individuo[pos_to_mutate] = 0\n",
        "            else:\n",
        "                individuo[pos_to_mutate] = 1\n",
        "\n",
        "    return filhos"
      ]
    },
    {
      "cell_type": "code",
      "execution_count": null,
      "id": "2b495260",
      "metadata": {
        "id": "2b495260"
      },
      "outputs": [],
      "source": [
        "nova_populacao= evolve(populacao, peso_maximo, pesos_e_valores, n_de_cromossomos, mutate=0.05)\n",
        "pais = [ [fitness(x, peso_maximo, pesos_e_valores), x] for x in nova_populacao if fitness(x, peso_maximo, pesos_e_valores) >= 0]\n",
        "pais.sort(reverse=True)\n",
        "    \n",
        "    # REPRODUCAO\n",
        "filhos = []\n",
        "while len(filhos) < n_de_cromossomos:\n",
        "        homem, mulher = selecao_roleta(pais)\n",
        "        meio = len(homem) // 2\n",
        "        filho = homem[:meio] + mulher[meio:]\n",
        "        filhos.append(filho)"
      ]
    },
    {
      "cell_type": "code",
      "execution_count": null,
      "id": "73539b19",
      "metadata": {
        "id": "73539b19"
      },
      "outputs": [],
      "source": [
        "novosfilhos = [ [fitness(x, peso_maximo, pesos_e_valores), x] for x in filhos if fitness(x, peso_maximo, pesos_e_valores) >= 0]\n",
        "novosfilhos.sort(reverse=True)\n",
        "novosfilhos"
      ]
    },
    {
      "cell_type": "code",
      "execution_count": null,
      "id": "c4f8cd15",
      "metadata": {
        "id": "c4f8cd15"
      },
      "outputs": [],
      "source": []
    },
    {
      "cell_type": "code",
      "execution_count": null,
      "id": "9b5d4900",
      "metadata": {
        "id": "9b5d4900"
      },
      "outputs": [],
      "source": []
    }
  ],
  "metadata": {
    "colab": {
      "name": "problemaMochilaTesteFuncos.ipynb",
      "provenance": []
    },
    "kernelspec": {
      "display_name": "Python 3.9.12 ('base')",
      "language": "python",
      "name": "python3"
    },
    "language_info": {
      "codemirror_mode": {
        "name": "ipython",
        "version": 3
      },
      "file_extension": ".py",
      "mimetype": "text/x-python",
      "name": "python",
      "nbconvert_exporter": "python",
      "pygments_lexer": "ipython3",
      "version": "3.9.12"
    },
    "vscode": {
      "interpreter": {
        "hash": "92d1c8824dd9ed58f2e2fe7d35df9188f2132fcf69312c535170a29d4fbf29a8"
      }
    }
  },
  "nbformat": 4,
  "nbformat_minor": 5
}
