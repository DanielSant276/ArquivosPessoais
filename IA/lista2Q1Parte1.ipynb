{
 "cells": [
  {
   "cell_type": "code",
   "execution_count": 166,
   "metadata": {},
   "outputs": [],
   "source": [
    "import random as rd\n",
    "import numpy as np"
   ]
  },
  {
   "cell_type": "code",
   "execution_count": 2,
   "metadata": {},
   "outputs": [],
   "source": [
    "# Seta o tamanho da população (quantidade de indivíduos) e a quantidade de cromossomos (quantidade de bits) em cada população\n",
    "tam_cromossomo = 6\n",
    "tam_populacao = 4"
   ]
  },
  {
   "cell_type": "code",
   "execution_count": 13,
   "metadata": {},
   "outputs": [],
   "source": [
    "# Gera cada indivíduo\n",
    "def individuo(tam_cromossomo):\n",
    "    return [ rd.getrandbits(1) for x in range(tam_cromossomo) ]\n",
    "\n",
    "# Gera a população\n",
    "def populacao(tam_populacao, tam_cromossomo):\n",
    "    return [ individuo(tam_cromossomo) for x in range(tam_populacao) ]"
   ]
  },
  {
   "cell_type": "code",
   "execution_count": 156,
   "metadata": {},
   "outputs": [
    {
     "data": {
      "text/plain": [
       "[[1, 0, 1, 1, 1, 1],\n",
       " [1, 0, 1, 0, 1, 1],\n",
       " [0, 0, 1, 0, 1, 0],\n",
       " [1, 1, 1, 0, 1, 0]]"
      ]
     },
     "execution_count": 156,
     "metadata": {},
     "output_type": "execute_result"
    }
   ],
   "source": [
    "# Armazena a população em uma variável\n",
    "individuos = populacao(tam_populacao, tam_cromossomo)\n",
    "individuos"
   ]
  },
  {
   "cell_type": "code",
   "execution_count": 105,
   "metadata": {},
   "outputs": [],
   "source": [
    "# Faz avaliacao do fitness do individuo\n",
    "def fitness(individuo):\n",
    "    peso = 0\n",
    "    for i in range(len(individuo)):\n",
    "        peso += (2 ** i) * individuo[-i - 1]\n",
    "        \n",
    "    return peso"
   ]
  },
  {
   "cell_type": "code",
   "execution_count": 110,
   "metadata": {},
   "outputs": [
    {
     "data": {
      "text/plain": [
       "[[8, [0, 0, 1, 0, 0, 0]],\n",
       " [9, [0, 0, 1, 0, 0, 1]],\n",
       " [18, [0, 1, 0, 0, 1, 0]],\n",
       " [29, [0, 1, 1, 1, 0, 1]]]"
      ]
     },
     "execution_count": 110,
     "metadata": {},
     "output_type": "execute_result"
    }
   ],
   "source": [
    "# Determina o fitness de cada indivíduo e os coloca em ordem\n",
    "populacao_fitness = [ [fitness(x), x] for x in individuos]\n",
    "populacao_fitness.sort()\n",
    "populacao_fitness"
   ]
  },
  {
   "cell_type": "code",
   "execution_count": 113,
   "metadata": {},
   "outputs": [
    {
     "data": {
      "text/plain": [
       "[[8, [0, 0, 1, 0, 0, 0], 12],\n",
       " [9, [0, 0, 1, 0, 0, 1], 37],\n",
       " [18, [0, 1, 0, 0, 1, 0], 78],\n",
       " [29, [0, 1, 1, 1, 0, 1], 92]]"
      ]
     },
     "execution_count": 113,
     "metadata": {},
     "output_type": "execute_result"
    }
   ],
   "source": [
    "# Determina a probabilidade de cada individuo\n",
    "prob_roleta = [12, 37, 78, 92]\n",
    "probabilidade_populacao = [ [populacao_fitness[x][0], populacao_fitness[x][1], prob_roleta[x]] for x in range(len(populacao_fitness))]\n",
    "probabilidade_populacao"
   ]
  },
  {
   "cell_type": "code",
   "execution_count": 211,
   "metadata": {},
   "outputs": [],
   "source": [
    "# Realiza o sorteio de cada indivíduo pelo valor do fitness de cada um deles\n",
    "def sortear(individuo, valor_ignorado = -1):\n",
    "    # Sorteia um número\n",
    "    numero_sorteado = rd.randint(0,100)\n",
    "    # print('numero sorteado foi:', numero_sorteado)\n",
    "\n",
    "    for i in range(len(individuo)):\n",
    "        # Na seleção da mãe, caso o indivíduo já tenha sido selecionado como pai, ele é ignorado aqui\n",
    "        if individuo[i][2] == valor_ignorado:\n",
    "            continue\n",
    "\n",
    "        # Se não for o primeiro indivíduo, ele verifica se o número sorteado está no range do fitness de cada invíduo\n",
    "        if i != 0:\n",
    "            if numero_sorteado <= individuo[i][2] and numero_sorteado > individuo[i-1][2]:\n",
    "                return individuo[i]\n",
    "        # Se for o primeiro indivíduo, o número sorteado tem que ser menor ou igual ao seu fitness\n",
    "        else:\n",
    "            if numero_sorteado <= individuo[i][2]:\n",
    "                return individuo[i]\n",
    "    \n",
    "    # Se o último número foi selecionado como pai e está sendo selecionado como mae, selecionado o penultimo número\n",
    "    if individuo[len(individuo) - 1][2] == valor_ignorado:\n",
    "        return individuo[len(individuo) - 2]\n",
    "    return individuo[len(individuo) - 1]"
   ]
  },
  {
   "cell_type": "code",
   "execution_count": 210,
   "metadata": {},
   "outputs": [],
   "source": [
    "# Seleciona o pai e a mãe\n",
    "def seleciona_pai_mae(individuo):\n",
    "    pai = sortear(individuo)\n",
    "    mae = sortear(individuo, pai[2])\n",
    "    # print(pai)\n",
    "    # print(mae)\n",
    "\n",
    "    pai = pai[1]\n",
    "    mae = mae[1]\n",
    "        \n",
    "    return pai, mae"
   ]
  },
  {
   "cell_type": "code",
   "execution_count": 212,
   "metadata": {},
   "outputs": [
    {
     "name": "stdout",
     "output_type": "stream",
     "text": [
      "([0, 1, 0, 0, 1, 0], [0, 0, 1, 0, 0, 1])\n"
     ]
    }
   ],
   "source": [
    "print(seleciona_pai_mae(probabilidade_populacao))"
   ]
  }
 ],
 "metadata": {
  "kernelspec": {
   "display_name": "Python 3.9.12 ('base')",
   "language": "python",
   "name": "python3"
  },
  "language_info": {
   "codemirror_mode": {
    "name": "ipython",
    "version": 3
   },
   "file_extension": ".py",
   "mimetype": "text/x-python",
   "name": "python",
   "nbconvert_exporter": "python",
   "pygments_lexer": "ipython3",
   "version": "3.9.12"
  },
  "orig_nbformat": 4,
  "vscode": {
   "interpreter": {
    "hash": "92d1c8824dd9ed58f2e2fe7d35df9188f2132fcf69312c535170a29d4fbf29a8"
   }
  }
 },
 "nbformat": 4,
 "nbformat_minor": 2
}
