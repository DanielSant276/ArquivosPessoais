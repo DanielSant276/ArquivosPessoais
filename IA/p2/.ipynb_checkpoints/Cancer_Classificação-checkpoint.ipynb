{
 "cells": [
  {
   "cell_type": "markdown",
   "metadata": {
    "id": "7PE9BalhKgDt"
   },
   "source": [
    "\n",
    "\n",
    "Classificação: Dataset de Risco de Pacientes retornar o cancer\n",
    "\n",
    "Três tipos possíveis: (classes)\n",
    "- Alto\n",
    "- Médio\n",
    "- Baixo\n",
    "\n",
    "Foi usado o método de classificação pois este é o ideal quando se trata de categorizar em tipos dado certos valores.\n",
    "\n",
    "\n"
   ]
  },
  {
   "cell_type": "markdown",
   "metadata": {
    "id": "dermiop8NHaF"
   },
   "source": [
    "Gênero usado (Nascimento):\n",
    "\n",
    "- Masculino - 1;\n",
    "- Feminino - 2;\n",
    "\n",
    "Nível de Risco:\n",
    "- Alto\n",
    "- Médio\n",
    "- Baixo\n"
   ]
  },
  {
   "cell_type": "markdown",
   "metadata": {
    "id": "X5Fb2vXMOn5m"
   },
   "source": [
    "Importando as bibliotecas"
   ]
  },
  {
   "cell_type": "code",
   "execution_count": 2,
   "metadata": {
    "id": "jEOmNl6ENR3Q"
   },
   "outputs": [],
   "source": [
    "import matplotlib.pyplot as plt\n",
    "import pandas as pd\n",
    "import seaborn as sns\n",
    "import glob\n",
    "import io"
   ]
  },
  {
   "cell_type": "code",
   "execution_count": null,
   "metadata": {
    "id": "ayaJbtJFHqsx"
   },
   "outputs": [],
   "source": [
    "arquivo_csv = files.upload()"
   ]
  },
  {
   "cell_type": "code",
   "execution_count": null,
   "metadata": {
    "id": "AVV83fpxH-j1"
   },
   "outputs": [],
   "source": [
    "df_cancer = pd.read_csv(io.BytesIO(arquivo_csv['cancerpatientdatasets.csv']))"
   ]
  },
  {
   "cell_type": "code",
   "execution_count": null,
   "metadata": {
    "id": "NrZSuLu5iNAE"
   },
   "outputs": [],
   "source": [
    "df_cancer"
   ]
  },
  {
   "cell_type": "markdown",
   "metadata": {
    "id": "oqsbWo0KgeH9"
   },
   "source": [
    "Convertendo para DataFrame (Pandas)"
   ]
  },
  {
   "cell_type": "markdown",
   "metadata": {
    "id": "RBrZeATVkCXL"
   },
   "source": [
    "Renomeando as colunas "
   ]
  },
  {
   "cell_type": "code",
   "execution_count": null,
   "metadata": {
    "id": "c8Z50z-fTNnf"
   },
   "outputs": [],
   "source": [
    "df_cancer.rename(columns={'Patient Id': 'Id do Paciente', 'Age':'Idade', 'Gender':'Gênero', \n",
    "                          'Air Pollution':'Poluição do Ar', 'Alcohol use':'Uso de Álcool', 'Dust Allergy':'Alergia à Poeira', \n",
    "                          'OccuPational Hazards':'Riscos Ocupacionais', 'Genetic Risk':'Risco Genêtico', 'chronic Lung Disease':'Doença Pulmonar Crônica', \n",
    "                          'Balanced Diet':'Dieta Balanceada', 'Obesity':'Obesidade', 'Smoking':'Fumante',\n",
    "                          'Passive Smoker':'Fumante Passivo', 'Chest Pain':'Dor no Peito', 'Coughing of Blood':'Tosse com Sangue',\n",
    "                          'Fatigue':'Fadiga', 'Weight Loss':'Perda de Peso', 'Shortness of Breath':'Falta de Ar',\n",
    "                          'Wheezing':'Respiração Ofegante', 'Swallowing Difficulty':'Dificulade de Engolir', 'Clubbing of Finger Nails':'Baqueteamento das Unhas',\n",
    "                          'Frequent Cold':'Calafrios', 'Dry Cough':'Tosse Seca','Snoring':'Ronco', \n",
    "                          'Level':'Grau'}, \n",
    "                 inplace=True)\n",
    "df_cancer.replace({'Low':'Baixo', 'Medium':'Médio', 'High':'Alto'}, inplace=True)"
   ]
  },
  {
   "cell_type": "code",
   "execution_count": null,
   "metadata": {
    "id": "vB-dkA4GX95X"
   },
   "outputs": [],
   "source": [
    "df_cancer"
   ]
  },
  {
   "cell_type": "markdown",
   "metadata": {
    "id": "oH1yit-BRGJz"
   },
   "source": [
    "Checando valores nulos"
   ]
  },
  {
   "cell_type": "code",
   "execution_count": null,
   "metadata": {
    "id": "0P85tJ2CQXSW"
   },
   "outputs": [],
   "source": [
    "df_cancer.isnull().any()"
   ]
  },
  {
   "cell_type": "markdown",
   "metadata": {
    "id": "URIgzVCVRkLr"
   },
   "source": [
    "Checando os tipos de dados:"
   ]
  },
  {
   "cell_type": "code",
   "execution_count": null,
   "metadata": {
    "id": "CFXu5nqQRIQJ"
   },
   "outputs": [],
   "source": [
    "df_cancer.dtypes"
   ]
  },
  {
   "cell_type": "markdown",
   "metadata": {
    "id": "LFfyIc0ER36_"
   },
   "source": [
    "Sumário dos dados:"
   ]
  },
  {
   "cell_type": "code",
   "execution_count": null,
   "metadata": {
    "colab": {
     "base_uri": "https://localhost:8080/",
     "height": 428
    },
    "id": "qxYmwe5hRmU3",
    "outputId": "e3758a00-7124-494c-99f0-4974d3f6b945"
   },
   "outputs": [
    {
     "data": {
      "text/html": [
       "\n",
       "  <div id=\"df-dece4efe-7597-4cfd-bcd6-38139e57c24d\">\n",
       "    <div class=\"colab-df-container\">\n",
       "      <div>\n",
       "<style scoped>\n",
       "    .dataframe tbody tr th:only-of-type {\n",
       "        vertical-align: middle;\n",
       "    }\n",
       "\n",
       "    .dataframe tbody tr th {\n",
       "        vertical-align: top;\n",
       "    }\n",
       "\n",
       "    .dataframe thead th {\n",
       "        text-align: right;\n",
       "    }\n",
       "</style>\n",
       "<table border=\"1\" class=\"dataframe\">\n",
       "  <thead>\n",
       "    <tr style=\"text-align: right;\">\n",
       "      <th></th>\n",
       "      <th>Idade</th>\n",
       "      <th>Gênero</th>\n",
       "      <th>Poluição do Ar</th>\n",
       "      <th>Uso de Álcool</th>\n",
       "      <th>Alergia à Poeira</th>\n",
       "      <th>Riscos Ocupacionais</th>\n",
       "      <th>Risco Genêtico</th>\n",
       "      <th>Doença Pulmonar Crônica</th>\n",
       "      <th>Dieta Balanceada</th>\n",
       "      <th>Obesidade</th>\n",
       "      <th>...</th>\n",
       "      <th>Tosse com Sangue</th>\n",
       "      <th>Fadiga</th>\n",
       "      <th>Perda de Peso</th>\n",
       "      <th>Falta de Ar</th>\n",
       "      <th>Respiração Ofegante</th>\n",
       "      <th>Dificulade de Engolir</th>\n",
       "      <th>Baqueteamento das Unhas</th>\n",
       "      <th>Calafrios</th>\n",
       "      <th>Tosse Seca</th>\n",
       "      <th>Ronco</th>\n",
       "    </tr>\n",
       "  </thead>\n",
       "  <tbody>\n",
       "    <tr>\n",
       "      <th>count</th>\n",
       "      <td>1000.000000</td>\n",
       "      <td>1000.000000</td>\n",
       "      <td>1000.0000</td>\n",
       "      <td>1000.000000</td>\n",
       "      <td>1000.000000</td>\n",
       "      <td>1000.000000</td>\n",
       "      <td>1000.000000</td>\n",
       "      <td>1000.000000</td>\n",
       "      <td>1000.000000</td>\n",
       "      <td>1000.000000</td>\n",
       "      <td>...</td>\n",
       "      <td>1000.000000</td>\n",
       "      <td>1000.000000</td>\n",
       "      <td>1000.000000</td>\n",
       "      <td>1000.000000</td>\n",
       "      <td>1000.000000</td>\n",
       "      <td>1000.000000</td>\n",
       "      <td>1000.000000</td>\n",
       "      <td>1000.000000</td>\n",
       "      <td>1000.000000</td>\n",
       "      <td>1000.000000</td>\n",
       "    </tr>\n",
       "    <tr>\n",
       "      <th>mean</th>\n",
       "      <td>37.174000</td>\n",
       "      <td>1.402000</td>\n",
       "      <td>3.8400</td>\n",
       "      <td>4.563000</td>\n",
       "      <td>5.165000</td>\n",
       "      <td>4.840000</td>\n",
       "      <td>4.580000</td>\n",
       "      <td>4.380000</td>\n",
       "      <td>4.491000</td>\n",
       "      <td>4.465000</td>\n",
       "      <td>...</td>\n",
       "      <td>4.859000</td>\n",
       "      <td>3.856000</td>\n",
       "      <td>3.855000</td>\n",
       "      <td>4.240000</td>\n",
       "      <td>3.777000</td>\n",
       "      <td>3.746000</td>\n",
       "      <td>3.923000</td>\n",
       "      <td>3.536000</td>\n",
       "      <td>3.853000</td>\n",
       "      <td>2.926000</td>\n",
       "    </tr>\n",
       "    <tr>\n",
       "      <th>std</th>\n",
       "      <td>12.005493</td>\n",
       "      <td>0.490547</td>\n",
       "      <td>2.0304</td>\n",
       "      <td>2.620477</td>\n",
       "      <td>1.980833</td>\n",
       "      <td>2.107805</td>\n",
       "      <td>2.126999</td>\n",
       "      <td>1.848518</td>\n",
       "      <td>2.135528</td>\n",
       "      <td>2.124921</td>\n",
       "      <td>...</td>\n",
       "      <td>2.427965</td>\n",
       "      <td>2.244616</td>\n",
       "      <td>2.206546</td>\n",
       "      <td>2.285087</td>\n",
       "      <td>2.041921</td>\n",
       "      <td>2.270383</td>\n",
       "      <td>2.388048</td>\n",
       "      <td>1.832502</td>\n",
       "      <td>2.039007</td>\n",
       "      <td>1.474686</td>\n",
       "    </tr>\n",
       "    <tr>\n",
       "      <th>min</th>\n",
       "      <td>14.000000</td>\n",
       "      <td>1.000000</td>\n",
       "      <td>1.0000</td>\n",
       "      <td>1.000000</td>\n",
       "      <td>1.000000</td>\n",
       "      <td>1.000000</td>\n",
       "      <td>1.000000</td>\n",
       "      <td>1.000000</td>\n",
       "      <td>1.000000</td>\n",
       "      <td>1.000000</td>\n",
       "      <td>...</td>\n",
       "      <td>1.000000</td>\n",
       "      <td>1.000000</td>\n",
       "      <td>1.000000</td>\n",
       "      <td>1.000000</td>\n",
       "      <td>1.000000</td>\n",
       "      <td>1.000000</td>\n",
       "      <td>1.000000</td>\n",
       "      <td>1.000000</td>\n",
       "      <td>1.000000</td>\n",
       "      <td>1.000000</td>\n",
       "    </tr>\n",
       "    <tr>\n",
       "      <th>25%</th>\n",
       "      <td>27.750000</td>\n",
       "      <td>1.000000</td>\n",
       "      <td>2.0000</td>\n",
       "      <td>2.000000</td>\n",
       "      <td>4.000000</td>\n",
       "      <td>3.000000</td>\n",
       "      <td>2.000000</td>\n",
       "      <td>3.000000</td>\n",
       "      <td>2.000000</td>\n",
       "      <td>3.000000</td>\n",
       "      <td>...</td>\n",
       "      <td>3.000000</td>\n",
       "      <td>2.000000</td>\n",
       "      <td>2.000000</td>\n",
       "      <td>2.000000</td>\n",
       "      <td>2.000000</td>\n",
       "      <td>2.000000</td>\n",
       "      <td>2.000000</td>\n",
       "      <td>2.000000</td>\n",
       "      <td>2.000000</td>\n",
       "      <td>2.000000</td>\n",
       "    </tr>\n",
       "    <tr>\n",
       "      <th>50%</th>\n",
       "      <td>36.000000</td>\n",
       "      <td>1.000000</td>\n",
       "      <td>3.0000</td>\n",
       "      <td>5.000000</td>\n",
       "      <td>6.000000</td>\n",
       "      <td>5.000000</td>\n",
       "      <td>5.000000</td>\n",
       "      <td>4.000000</td>\n",
       "      <td>4.000000</td>\n",
       "      <td>4.000000</td>\n",
       "      <td>...</td>\n",
       "      <td>4.000000</td>\n",
       "      <td>3.000000</td>\n",
       "      <td>3.000000</td>\n",
       "      <td>4.000000</td>\n",
       "      <td>4.000000</td>\n",
       "      <td>4.000000</td>\n",
       "      <td>4.000000</td>\n",
       "      <td>3.000000</td>\n",
       "      <td>4.000000</td>\n",
       "      <td>3.000000</td>\n",
       "    </tr>\n",
       "    <tr>\n",
       "      <th>75%</th>\n",
       "      <td>45.000000</td>\n",
       "      <td>2.000000</td>\n",
       "      <td>6.0000</td>\n",
       "      <td>7.000000</td>\n",
       "      <td>7.000000</td>\n",
       "      <td>7.000000</td>\n",
       "      <td>7.000000</td>\n",
       "      <td>6.000000</td>\n",
       "      <td>7.000000</td>\n",
       "      <td>7.000000</td>\n",
       "      <td>...</td>\n",
       "      <td>7.000000</td>\n",
       "      <td>5.000000</td>\n",
       "      <td>6.000000</td>\n",
       "      <td>6.000000</td>\n",
       "      <td>5.000000</td>\n",
       "      <td>5.000000</td>\n",
       "      <td>5.000000</td>\n",
       "      <td>5.000000</td>\n",
       "      <td>6.000000</td>\n",
       "      <td>4.000000</td>\n",
       "    </tr>\n",
       "    <tr>\n",
       "      <th>max</th>\n",
       "      <td>73.000000</td>\n",
       "      <td>2.000000</td>\n",
       "      <td>8.0000</td>\n",
       "      <td>8.000000</td>\n",
       "      <td>8.000000</td>\n",
       "      <td>8.000000</td>\n",
       "      <td>7.000000</td>\n",
       "      <td>7.000000</td>\n",
       "      <td>7.000000</td>\n",
       "      <td>7.000000</td>\n",
       "      <td>...</td>\n",
       "      <td>9.000000</td>\n",
       "      <td>9.000000</td>\n",
       "      <td>8.000000</td>\n",
       "      <td>9.000000</td>\n",
       "      <td>8.000000</td>\n",
       "      <td>8.000000</td>\n",
       "      <td>9.000000</td>\n",
       "      <td>7.000000</td>\n",
       "      <td>7.000000</td>\n",
       "      <td>7.000000</td>\n",
       "    </tr>\n",
       "  </tbody>\n",
       "</table>\n",
       "<p>8 rows × 23 columns</p>\n",
       "</div>\n",
       "      <button class=\"colab-df-convert\" onclick=\"convertToInteractive('df-dece4efe-7597-4cfd-bcd6-38139e57c24d')\"\n",
       "              title=\"Convert this dataframe to an interactive table.\"\n",
       "              style=\"display:none;\">\n",
       "        \n",
       "  <svg xmlns=\"http://www.w3.org/2000/svg\" height=\"24px\"viewBox=\"0 0 24 24\"\n",
       "       width=\"24px\">\n",
       "    <path d=\"M0 0h24v24H0V0z\" fill=\"none\"/>\n",
       "    <path d=\"M18.56 5.44l.94 2.06.94-2.06 2.06-.94-2.06-.94-.94-2.06-.94 2.06-2.06.94zm-11 1L8.5 8.5l.94-2.06 2.06-.94-2.06-.94L8.5 2.5l-.94 2.06-2.06.94zm10 10l.94 2.06.94-2.06 2.06-.94-2.06-.94-.94-2.06-.94 2.06-2.06.94z\"/><path d=\"M17.41 7.96l-1.37-1.37c-.4-.4-.92-.59-1.43-.59-.52 0-1.04.2-1.43.59L10.3 9.45l-7.72 7.72c-.78.78-.78 2.05 0 2.83L4 21.41c.39.39.9.59 1.41.59.51 0 1.02-.2 1.41-.59l7.78-7.78 2.81-2.81c.8-.78.8-2.07 0-2.86zM5.41 20L4 18.59l7.72-7.72 1.47 1.35L5.41 20z\"/>\n",
       "  </svg>\n",
       "      </button>\n",
       "      \n",
       "  <style>\n",
       "    .colab-df-container {\n",
       "      display:flex;\n",
       "      flex-wrap:wrap;\n",
       "      gap: 12px;\n",
       "    }\n",
       "\n",
       "    .colab-df-convert {\n",
       "      background-color: #E8F0FE;\n",
       "      border: none;\n",
       "      border-radius: 50%;\n",
       "      cursor: pointer;\n",
       "      display: none;\n",
       "      fill: #1967D2;\n",
       "      height: 32px;\n",
       "      padding: 0 0 0 0;\n",
       "      width: 32px;\n",
       "    }\n",
       "\n",
       "    .colab-df-convert:hover {\n",
       "      background-color: #E2EBFA;\n",
       "      box-shadow: 0px 1px 2px rgba(60, 64, 67, 0.3), 0px 1px 3px 1px rgba(60, 64, 67, 0.15);\n",
       "      fill: #174EA6;\n",
       "    }\n",
       "\n",
       "    [theme=dark] .colab-df-convert {\n",
       "      background-color: #3B4455;\n",
       "      fill: #D2E3FC;\n",
       "    }\n",
       "\n",
       "    [theme=dark] .colab-df-convert:hover {\n",
       "      background-color: #434B5C;\n",
       "      box-shadow: 0px 1px 3px 1px rgba(0, 0, 0, 0.15);\n",
       "      filter: drop-shadow(0px 1px 2px rgba(0, 0, 0, 0.3));\n",
       "      fill: #FFFFFF;\n",
       "    }\n",
       "  </style>\n",
       "\n",
       "      <script>\n",
       "        const buttonEl =\n",
       "          document.querySelector('#df-dece4efe-7597-4cfd-bcd6-38139e57c24d button.colab-df-convert');\n",
       "        buttonEl.style.display =\n",
       "          google.colab.kernel.accessAllowed ? 'block' : 'none';\n",
       "\n",
       "        async function convertToInteractive(key) {\n",
       "          const element = document.querySelector('#df-dece4efe-7597-4cfd-bcd6-38139e57c24d');\n",
       "          const dataTable =\n",
       "            await google.colab.kernel.invokeFunction('convertToInteractive',\n",
       "                                                     [key], {});\n",
       "          if (!dataTable) return;\n",
       "\n",
       "          const docLinkHtml = 'Like what you see? Visit the ' +\n",
       "            '<a target=\"_blank\" href=https://colab.research.google.com/notebooks/data_table.ipynb>data table notebook</a>'\n",
       "            + ' to learn more about interactive tables.';\n",
       "          element.innerHTML = '';\n",
       "          dataTable['output_type'] = 'display_data';\n",
       "          await google.colab.output.renderOutput(dataTable, element);\n",
       "          const docLink = document.createElement('div');\n",
       "          docLink.innerHTML = docLinkHtml;\n",
       "          element.appendChild(docLink);\n",
       "        }\n",
       "      </script>\n",
       "    </div>\n",
       "  </div>\n",
       "  "
      ],
      "text/plain": [
       "             Idade       Gênero  Poluição do Ar  Uso de Álcool  \\\n",
       "count  1000.000000  1000.000000       1000.0000    1000.000000   \n",
       "mean     37.174000     1.402000          3.8400       4.563000   \n",
       "std      12.005493     0.490547          2.0304       2.620477   \n",
       "min      14.000000     1.000000          1.0000       1.000000   \n",
       "25%      27.750000     1.000000          2.0000       2.000000   \n",
       "50%      36.000000     1.000000          3.0000       5.000000   \n",
       "75%      45.000000     2.000000          6.0000       7.000000   \n",
       "max      73.000000     2.000000          8.0000       8.000000   \n",
       "\n",
       "       Alergia à Poeira  Riscos Ocupacionais  Risco Genêtico  \\\n",
       "count       1000.000000          1000.000000     1000.000000   \n",
       "mean           5.165000             4.840000        4.580000   \n",
       "std            1.980833             2.107805        2.126999   \n",
       "min            1.000000             1.000000        1.000000   \n",
       "25%            4.000000             3.000000        2.000000   \n",
       "50%            6.000000             5.000000        5.000000   \n",
       "75%            7.000000             7.000000        7.000000   \n",
       "max            8.000000             8.000000        7.000000   \n",
       "\n",
       "       Doença Pulmonar Crônica  Dieta Balanceada    Obesidade  ...  \\\n",
       "count              1000.000000       1000.000000  1000.000000  ...   \n",
       "mean                  4.380000          4.491000     4.465000  ...   \n",
       "std                   1.848518          2.135528     2.124921  ...   \n",
       "min                   1.000000          1.000000     1.000000  ...   \n",
       "25%                   3.000000          2.000000     3.000000  ...   \n",
       "50%                   4.000000          4.000000     4.000000  ...   \n",
       "75%                   6.000000          7.000000     7.000000  ...   \n",
       "max                   7.000000          7.000000     7.000000  ...   \n",
       "\n",
       "       Tosse com Sangue       Fadiga  Perda de Peso  Falta de Ar  \\\n",
       "count       1000.000000  1000.000000    1000.000000  1000.000000   \n",
       "mean           4.859000     3.856000       3.855000     4.240000   \n",
       "std            2.427965     2.244616       2.206546     2.285087   \n",
       "min            1.000000     1.000000       1.000000     1.000000   \n",
       "25%            3.000000     2.000000       2.000000     2.000000   \n",
       "50%            4.000000     3.000000       3.000000     4.000000   \n",
       "75%            7.000000     5.000000       6.000000     6.000000   \n",
       "max            9.000000     9.000000       8.000000     9.000000   \n",
       "\n",
       "       Respiração Ofegante  Dificulade de Engolir  Baqueteamento das Unhas  \\\n",
       "count          1000.000000            1000.000000              1000.000000   \n",
       "mean              3.777000               3.746000                 3.923000   \n",
       "std               2.041921               2.270383                 2.388048   \n",
       "min               1.000000               1.000000                 1.000000   \n",
       "25%               2.000000               2.000000                 2.000000   \n",
       "50%               4.000000               4.000000                 4.000000   \n",
       "75%               5.000000               5.000000                 5.000000   \n",
       "max               8.000000               8.000000                 9.000000   \n",
       "\n",
       "         Calafrios   Tosse Seca        Ronco  \n",
       "count  1000.000000  1000.000000  1000.000000  \n",
       "mean      3.536000     3.853000     2.926000  \n",
       "std       1.832502     2.039007     1.474686  \n",
       "min       1.000000     1.000000     1.000000  \n",
       "25%       2.000000     2.000000     2.000000  \n",
       "50%       3.000000     4.000000     3.000000  \n",
       "75%       5.000000     6.000000     4.000000  \n",
       "max       7.000000     7.000000     7.000000  \n",
       "\n",
       "[8 rows x 23 columns]"
      ]
     },
     "execution_count": 12,
     "metadata": {},
     "output_type": "execute_result"
    }
   ],
   "source": [
    "df_cancer.describe()"
   ]
  },
  {
   "cell_type": "code",
   "execution_count": null,
   "metadata": {
    "colab": {
     "base_uri": "https://localhost:8080/",
     "height": 1000
    },
    "id": "M5rcEU_BF31q",
    "outputId": "c97a6adb-72ad-4fd2-eec1-c405f9dc5719"
   },
   "outputs": [
    {
     "data": {
      "text/html": [
       "\n",
       "  <div id=\"df-89dd738b-15e4-48d1-93c4-f7ac9a068c91\">\n",
       "    <div class=\"colab-df-container\">\n",
       "      <div>\n",
       "<style scoped>\n",
       "    .dataframe tbody tr th:only-of-type {\n",
       "        vertical-align: middle;\n",
       "    }\n",
       "\n",
       "    .dataframe tbody tr th {\n",
       "        vertical-align: top;\n",
       "    }\n",
       "\n",
       "    .dataframe thead th {\n",
       "        text-align: right;\n",
       "    }\n",
       "</style>\n",
       "<table border=\"1\" class=\"dataframe\">\n",
       "  <thead>\n",
       "    <tr style=\"text-align: right;\">\n",
       "      <th></th>\n",
       "      <th>Idade</th>\n",
       "      <th>Gênero</th>\n",
       "      <th>Poluição do Ar</th>\n",
       "      <th>Uso de Álcool</th>\n",
       "      <th>Alergia à Poeira</th>\n",
       "      <th>Riscos Ocupacionais</th>\n",
       "      <th>Risco Genêtico</th>\n",
       "      <th>Doença Pulmonar Crônica</th>\n",
       "      <th>Dieta Balanceada</th>\n",
       "      <th>Obesidade</th>\n",
       "      <th>...</th>\n",
       "      <th>Tosse com Sangue</th>\n",
       "      <th>Fadiga</th>\n",
       "      <th>Perda de Peso</th>\n",
       "      <th>Falta de Ar</th>\n",
       "      <th>Respiração Ofegante</th>\n",
       "      <th>Dificulade de Engolir</th>\n",
       "      <th>Baqueteamento das Unhas</th>\n",
       "      <th>Calafrios</th>\n",
       "      <th>Tosse Seca</th>\n",
       "      <th>Ronco</th>\n",
       "    </tr>\n",
       "  </thead>\n",
       "  <tbody>\n",
       "    <tr>\n",
       "      <th>Idade</th>\n",
       "      <td>1.000000</td>\n",
       "      <td>-0.202086</td>\n",
       "      <td>0.099494</td>\n",
       "      <td>0.151742</td>\n",
       "      <td>0.035202</td>\n",
       "      <td>0.062177</td>\n",
       "      <td>0.073151</td>\n",
       "      <td>0.128952</td>\n",
       "      <td>0.004863</td>\n",
       "      <td>0.034337</td>\n",
       "      <td>...</td>\n",
       "      <td>0.053006</td>\n",
       "      <td>0.095059</td>\n",
       "      <td>0.106946</td>\n",
       "      <td>0.035329</td>\n",
       "      <td>-0.095354</td>\n",
       "      <td>-0.105833</td>\n",
       "      <td>0.039258</td>\n",
       "      <td>-0.012706</td>\n",
       "      <td>0.012128</td>\n",
       "      <td>-0.004700</td>\n",
       "    </tr>\n",
       "    <tr>\n",
       "      <th>Gênero</th>\n",
       "      <td>-0.202086</td>\n",
       "      <td>1.000000</td>\n",
       "      <td>-0.246912</td>\n",
       "      <td>-0.227636</td>\n",
       "      <td>-0.204312</td>\n",
       "      <td>-0.192343</td>\n",
       "      <td>-0.222727</td>\n",
       "      <td>-0.205061</td>\n",
       "      <td>-0.099741</td>\n",
       "      <td>-0.123813</td>\n",
       "      <td>...</td>\n",
       "      <td>-0.146505</td>\n",
       "      <td>-0.116467</td>\n",
       "      <td>-0.057993</td>\n",
       "      <td>-0.045972</td>\n",
       "      <td>-0.076304</td>\n",
       "      <td>-0.058324</td>\n",
       "      <td>-0.034219</td>\n",
       "      <td>-0.000526</td>\n",
       "      <td>-0.123001</td>\n",
       "      <td>-0.181618</td>\n",
       "    </tr>\n",
       "    <tr>\n",
       "      <th>Poluição do Ar</th>\n",
       "      <td>0.099494</td>\n",
       "      <td>-0.246912</td>\n",
       "      <td>1.000000</td>\n",
       "      <td>0.747293</td>\n",
       "      <td>0.637503</td>\n",
       "      <td>0.608924</td>\n",
       "      <td>0.705276</td>\n",
       "      <td>0.626701</td>\n",
       "      <td>0.524873</td>\n",
       "      <td>0.601468</td>\n",
       "      <td>...</td>\n",
       "      <td>0.607829</td>\n",
       "      <td>0.211724</td>\n",
       "      <td>0.258016</td>\n",
       "      <td>0.269558</td>\n",
       "      <td>0.055368</td>\n",
       "      <td>-0.080918</td>\n",
       "      <td>0.241065</td>\n",
       "      <td>0.174539</td>\n",
       "      <td>0.261489</td>\n",
       "      <td>-0.021343</td>\n",
       "    </tr>\n",
       "    <tr>\n",
       "      <th>Uso de Álcool</th>\n",
       "      <td>0.151742</td>\n",
       "      <td>-0.227636</td>\n",
       "      <td>0.747293</td>\n",
       "      <td>1.000000</td>\n",
       "      <td>0.818644</td>\n",
       "      <td>0.878786</td>\n",
       "      <td>0.877210</td>\n",
       "      <td>0.763576</td>\n",
       "      <td>0.653352</td>\n",
       "      <td>0.669312</td>\n",
       "      <td>...</td>\n",
       "      <td>0.667612</td>\n",
       "      <td>0.237245</td>\n",
       "      <td>0.207851</td>\n",
       "      <td>0.435785</td>\n",
       "      <td>0.180817</td>\n",
       "      <td>-0.114073</td>\n",
       "      <td>0.414992</td>\n",
       "      <td>0.180778</td>\n",
       "      <td>0.211277</td>\n",
       "      <td>0.122694</td>\n",
       "    </tr>\n",
       "    <tr>\n",
       "      <th>Alergia à Poeira</th>\n",
       "      <td>0.035202</td>\n",
       "      <td>-0.204312</td>\n",
       "      <td>0.637503</td>\n",
       "      <td>0.818644</td>\n",
       "      <td>1.000000</td>\n",
       "      <td>0.835860</td>\n",
       "      <td>0.787904</td>\n",
       "      <td>0.619556</td>\n",
       "      <td>0.647197</td>\n",
       "      <td>0.700676</td>\n",
       "      <td>...</td>\n",
       "      <td>0.625291</td>\n",
       "      <td>0.332472</td>\n",
       "      <td>0.321756</td>\n",
       "      <td>0.518682</td>\n",
       "      <td>0.304850</td>\n",
       "      <td>0.031141</td>\n",
       "      <td>0.345714</td>\n",
       "      <td>0.219389</td>\n",
       "      <td>0.300195</td>\n",
       "      <td>0.052844</td>\n",
       "    </tr>\n",
       "    <tr>\n",
       "      <th>Riscos Ocupacionais</th>\n",
       "      <td>0.062177</td>\n",
       "      <td>-0.192343</td>\n",
       "      <td>0.608924</td>\n",
       "      <td>0.878786</td>\n",
       "      <td>0.835860</td>\n",
       "      <td>1.000000</td>\n",
       "      <td>0.893049</td>\n",
       "      <td>0.858284</td>\n",
       "      <td>0.691509</td>\n",
       "      <td>0.722191</td>\n",
       "      <td>...</td>\n",
       "      <td>0.645947</td>\n",
       "      <td>0.267844</td>\n",
       "      <td>0.176226</td>\n",
       "      <td>0.366482</td>\n",
       "      <td>0.178925</td>\n",
       "      <td>-0.002853</td>\n",
       "      <td>0.366447</td>\n",
       "      <td>0.077166</td>\n",
       "      <td>0.159887</td>\n",
       "      <td>0.022916</td>\n",
       "    </tr>\n",
       "    <tr>\n",
       "      <th>Risco Genêtico</th>\n",
       "      <td>0.073151</td>\n",
       "      <td>-0.222727</td>\n",
       "      <td>0.705276</td>\n",
       "      <td>0.877210</td>\n",
       "      <td>0.787904</td>\n",
       "      <td>0.893049</td>\n",
       "      <td>1.000000</td>\n",
       "      <td>0.836231</td>\n",
       "      <td>0.679905</td>\n",
       "      <td>0.729826</td>\n",
       "      <td>...</td>\n",
       "      <td>0.632236</td>\n",
       "      <td>0.230530</td>\n",
       "      <td>0.271743</td>\n",
       "      <td>0.458200</td>\n",
       "      <td>0.204973</td>\n",
       "      <td>-0.062948</td>\n",
       "      <td>0.357815</td>\n",
       "      <td>0.087092</td>\n",
       "      <td>0.194399</td>\n",
       "      <td>-0.056831</td>\n",
       "    </tr>\n",
       "    <tr>\n",
       "      <th>Doença Pulmonar Crônica</th>\n",
       "      <td>0.128952</td>\n",
       "      <td>-0.205061</td>\n",
       "      <td>0.626701</td>\n",
       "      <td>0.763576</td>\n",
       "      <td>0.619556</td>\n",
       "      <td>0.858284</td>\n",
       "      <td>0.836231</td>\n",
       "      <td>1.000000</td>\n",
       "      <td>0.622632</td>\n",
       "      <td>0.601754</td>\n",
       "      <td>...</td>\n",
       "      <td>0.602987</td>\n",
       "      <td>0.247697</td>\n",
       "      <td>0.104080</td>\n",
       "      <td>0.182426</td>\n",
       "      <td>0.057214</td>\n",
       "      <td>0.007279</td>\n",
       "      <td>0.298023</td>\n",
       "      <td>0.028759</td>\n",
       "      <td>0.114161</td>\n",
       "      <td>0.043375</td>\n",
       "    </tr>\n",
       "    <tr>\n",
       "      <th>Dieta Balanceada</th>\n",
       "      <td>0.004863</td>\n",
       "      <td>-0.099741</td>\n",
       "      <td>0.524873</td>\n",
       "      <td>0.653352</td>\n",
       "      <td>0.647197</td>\n",
       "      <td>0.691509</td>\n",
       "      <td>0.679905</td>\n",
       "      <td>0.622632</td>\n",
       "      <td>1.000000</td>\n",
       "      <td>0.706922</td>\n",
       "      <td>...</td>\n",
       "      <td>0.745054</td>\n",
       "      <td>0.400678</td>\n",
       "      <td>-0.006544</td>\n",
       "      <td>0.343623</td>\n",
       "      <td>0.063930</td>\n",
       "      <td>0.046807</td>\n",
       "      <td>0.041967</td>\n",
       "      <td>0.263931</td>\n",
       "      <td>0.331995</td>\n",
       "      <td>0.152677</td>\n",
       "    </tr>\n",
       "    <tr>\n",
       "      <th>Obesidade</th>\n",
       "      <td>0.034337</td>\n",
       "      <td>-0.123813</td>\n",
       "      <td>0.601468</td>\n",
       "      <td>0.669312</td>\n",
       "      <td>0.700676</td>\n",
       "      <td>0.722191</td>\n",
       "      <td>0.729826</td>\n",
       "      <td>0.601754</td>\n",
       "      <td>0.706922</td>\n",
       "      <td>1.000000</td>\n",
       "      <td>...</td>\n",
       "      <td>0.814805</td>\n",
       "      <td>0.552788</td>\n",
       "      <td>0.313495</td>\n",
       "      <td>0.406203</td>\n",
       "      <td>0.094287</td>\n",
       "      <td>0.127213</td>\n",
       "      <td>0.149093</td>\n",
       "      <td>0.288368</td>\n",
       "      <td>0.200618</td>\n",
       "      <td>0.039422</td>\n",
       "    </tr>\n",
       "    <tr>\n",
       "      <th>Fumante</th>\n",
       "      <td>0.075333</td>\n",
       "      <td>-0.206924</td>\n",
       "      <td>0.481902</td>\n",
       "      <td>0.547035</td>\n",
       "      <td>0.358691</td>\n",
       "      <td>0.497693</td>\n",
       "      <td>0.543259</td>\n",
       "      <td>0.578585</td>\n",
       "      <td>0.645390</td>\n",
       "      <td>0.486795</td>\n",
       "      <td>...</td>\n",
       "      <td>0.555289</td>\n",
       "      <td>0.200029</td>\n",
       "      <td>-0.212937</td>\n",
       "      <td>-0.023259</td>\n",
       "      <td>-0.047060</td>\n",
       "      <td>0.236141</td>\n",
       "      <td>-0.041147</td>\n",
       "      <td>0.039585</td>\n",
       "      <td>0.010101</td>\n",
       "      <td>0.189055</td>\n",
       "    </tr>\n",
       "    <tr>\n",
       "      <th>Fumante Passivo</th>\n",
       "      <td>0.004908</td>\n",
       "      <td>-0.184826</td>\n",
       "      <td>0.606764</td>\n",
       "      <td>0.592576</td>\n",
       "      <td>0.560002</td>\n",
       "      <td>0.555311</td>\n",
       "      <td>0.609071</td>\n",
       "      <td>0.572698</td>\n",
       "      <td>0.725123</td>\n",
       "      <td>0.681889</td>\n",
       "      <td>...</td>\n",
       "      <td>0.636223</td>\n",
       "      <td>0.377919</td>\n",
       "      <td>0.058336</td>\n",
       "      <td>0.062948</td>\n",
       "      <td>0.200283</td>\n",
       "      <td>0.348922</td>\n",
       "      <td>-0.035536</td>\n",
       "      <td>0.104553</td>\n",
       "      <td>0.120761</td>\n",
       "      <td>0.247943</td>\n",
       "    </tr>\n",
       "    <tr>\n",
       "      <th>Dor no Peito</th>\n",
       "      <td>0.012864</td>\n",
       "      <td>-0.218426</td>\n",
       "      <td>0.585734</td>\n",
       "      <td>0.717242</td>\n",
       "      <td>0.639983</td>\n",
       "      <td>0.775619</td>\n",
       "      <td>0.831751</td>\n",
       "      <td>0.782646</td>\n",
       "      <td>0.798207</td>\n",
       "      <td>0.673150</td>\n",
       "      <td>...</td>\n",
       "      <td>0.712158</td>\n",
       "      <td>0.251135</td>\n",
       "      <td>-0.001092</td>\n",
       "      <td>0.237045</td>\n",
       "      <td>0.107211</td>\n",
       "      <td>0.071784</td>\n",
       "      <td>0.081386</td>\n",
       "      <td>0.042937</td>\n",
       "      <td>0.142180</td>\n",
       "      <td>0.140036</td>\n",
       "    </tr>\n",
       "    <tr>\n",
       "      <th>Tosse com Sangue</th>\n",
       "      <td>0.053006</td>\n",
       "      <td>-0.146505</td>\n",
       "      <td>0.607829</td>\n",
       "      <td>0.667612</td>\n",
       "      <td>0.625291</td>\n",
       "      <td>0.645947</td>\n",
       "      <td>0.632236</td>\n",
       "      <td>0.602987</td>\n",
       "      <td>0.745054</td>\n",
       "      <td>0.814805</td>\n",
       "      <td>...</td>\n",
       "      <td>1.000000</td>\n",
       "      <td>0.481540</td>\n",
       "      <td>0.105857</td>\n",
       "      <td>0.318777</td>\n",
       "      <td>-0.085698</td>\n",
       "      <td>0.086289</td>\n",
       "      <td>-0.066443</td>\n",
       "      <td>0.244235</td>\n",
       "      <td>0.147659</td>\n",
       "      <td>0.087944</td>\n",
       "    </tr>\n",
       "    <tr>\n",
       "      <th>Fadiga</th>\n",
       "      <td>0.095059</td>\n",
       "      <td>-0.116467</td>\n",
       "      <td>0.211724</td>\n",
       "      <td>0.237245</td>\n",
       "      <td>0.332472</td>\n",
       "      <td>0.267844</td>\n",
       "      <td>0.230530</td>\n",
       "      <td>0.247697</td>\n",
       "      <td>0.400678</td>\n",
       "      <td>0.552788</td>\n",
       "      <td>...</td>\n",
       "      <td>0.481540</td>\n",
       "      <td>1.000000</td>\n",
       "      <td>0.469517</td>\n",
       "      <td>0.398625</td>\n",
       "      <td>0.174477</td>\n",
       "      <td>0.149562</td>\n",
       "      <td>0.040694</td>\n",
       "      <td>0.407915</td>\n",
       "      <td>0.271167</td>\n",
       "      <td>0.231748</td>\n",
       "    </tr>\n",
       "    <tr>\n",
       "      <th>Perda de Peso</th>\n",
       "      <td>0.106946</td>\n",
       "      <td>-0.057993</td>\n",
       "      <td>0.258016</td>\n",
       "      <td>0.207851</td>\n",
       "      <td>0.321756</td>\n",
       "      <td>0.176226</td>\n",
       "      <td>0.271743</td>\n",
       "      <td>0.104080</td>\n",
       "      <td>-0.006544</td>\n",
       "      <td>0.313495</td>\n",
       "      <td>...</td>\n",
       "      <td>0.105857</td>\n",
       "      <td>0.469517</td>\n",
       "      <td>1.000000</td>\n",
       "      <td>0.574497</td>\n",
       "      <td>0.331179</td>\n",
       "      <td>0.053384</td>\n",
       "      <td>0.376484</td>\n",
       "      <td>0.160348</td>\n",
       "      <td>0.188598</td>\n",
       "      <td>-0.189106</td>\n",
       "    </tr>\n",
       "    <tr>\n",
       "      <th>Falta de Ar</th>\n",
       "      <td>0.035329</td>\n",
       "      <td>-0.045972</td>\n",
       "      <td>0.269558</td>\n",
       "      <td>0.435785</td>\n",
       "      <td>0.518682</td>\n",
       "      <td>0.366482</td>\n",
       "      <td>0.458200</td>\n",
       "      <td>0.182426</td>\n",
       "      <td>0.343623</td>\n",
       "      <td>0.406203</td>\n",
       "      <td>...</td>\n",
       "      <td>0.318777</td>\n",
       "      <td>0.398625</td>\n",
       "      <td>0.574497</td>\n",
       "      <td>1.000000</td>\n",
       "      <td>0.207564</td>\n",
       "      <td>-0.200477</td>\n",
       "      <td>0.474275</td>\n",
       "      <td>0.351489</td>\n",
       "      <td>0.493331</td>\n",
       "      <td>-0.159291</td>\n",
       "    </tr>\n",
       "    <tr>\n",
       "      <th>Respiração Ofegante</th>\n",
       "      <td>-0.095354</td>\n",
       "      <td>-0.076304</td>\n",
       "      <td>0.055368</td>\n",
       "      <td>0.180817</td>\n",
       "      <td>0.304850</td>\n",
       "      <td>0.178925</td>\n",
       "      <td>0.204973</td>\n",
       "      <td>0.057214</td>\n",
       "      <td>0.063930</td>\n",
       "      <td>0.094287</td>\n",
       "      <td>...</td>\n",
       "      <td>-0.085698</td>\n",
       "      <td>0.174477</td>\n",
       "      <td>0.331179</td>\n",
       "      <td>0.207564</td>\n",
       "      <td>1.000000</td>\n",
       "      <td>0.393487</td>\n",
       "      <td>0.338271</td>\n",
       "      <td>0.098855</td>\n",
       "      <td>0.054388</td>\n",
       "      <td>0.116183</td>\n",
       "    </tr>\n",
       "    <tr>\n",
       "      <th>Dificulade de Engolir</th>\n",
       "      <td>-0.105833</td>\n",
       "      <td>-0.058324</td>\n",
       "      <td>-0.080918</td>\n",
       "      <td>-0.114073</td>\n",
       "      <td>0.031141</td>\n",
       "      <td>-0.002853</td>\n",
       "      <td>-0.062948</td>\n",
       "      <td>0.007279</td>\n",
       "      <td>0.046807</td>\n",
       "      <td>0.127213</td>\n",
       "      <td>...</td>\n",
       "      <td>0.086289</td>\n",
       "      <td>0.149562</td>\n",
       "      <td>0.053384</td>\n",
       "      <td>-0.200477</td>\n",
       "      <td>0.393487</td>\n",
       "      <td>1.000000</td>\n",
       "      <td>-0.119741</td>\n",
       "      <td>0.132363</td>\n",
       "      <td>-0.055428</td>\n",
       "      <td>0.210540</td>\n",
       "    </tr>\n",
       "    <tr>\n",
       "      <th>Baqueteamento das Unhas</th>\n",
       "      <td>0.039258</td>\n",
       "      <td>-0.034219</td>\n",
       "      <td>0.241065</td>\n",
       "      <td>0.414992</td>\n",
       "      <td>0.345714</td>\n",
       "      <td>0.366447</td>\n",
       "      <td>0.357815</td>\n",
       "      <td>0.298023</td>\n",
       "      <td>0.041967</td>\n",
       "      <td>0.149093</td>\n",
       "      <td>...</td>\n",
       "      <td>-0.066443</td>\n",
       "      <td>0.040694</td>\n",
       "      <td>0.376484</td>\n",
       "      <td>0.474275</td>\n",
       "      <td>0.338271</td>\n",
       "      <td>-0.119741</td>\n",
       "      <td>1.000000</td>\n",
       "      <td>0.242529</td>\n",
       "      <td>0.307271</td>\n",
       "      <td>-0.017537</td>\n",
       "    </tr>\n",
       "    <tr>\n",
       "      <th>Calafrios</th>\n",
       "      <td>-0.012706</td>\n",
       "      <td>-0.000526</td>\n",
       "      <td>0.174539</td>\n",
       "      <td>0.180778</td>\n",
       "      <td>0.219389</td>\n",
       "      <td>0.077166</td>\n",
       "      <td>0.087092</td>\n",
       "      <td>0.028759</td>\n",
       "      <td>0.263931</td>\n",
       "      <td>0.288368</td>\n",
       "      <td>...</td>\n",
       "      <td>0.244235</td>\n",
       "      <td>0.407915</td>\n",
       "      <td>0.160348</td>\n",
       "      <td>0.351489</td>\n",
       "      <td>0.098855</td>\n",
       "      <td>0.132363</td>\n",
       "      <td>0.242529</td>\n",
       "      <td>1.000000</td>\n",
       "      <td>0.515918</td>\n",
       "      <td>0.335844</td>\n",
       "    </tr>\n",
       "    <tr>\n",
       "      <th>Tosse Seca</th>\n",
       "      <td>0.012128</td>\n",
       "      <td>-0.123001</td>\n",
       "      <td>0.261489</td>\n",
       "      <td>0.211277</td>\n",
       "      <td>0.300195</td>\n",
       "      <td>0.159887</td>\n",
       "      <td>0.194399</td>\n",
       "      <td>0.114161</td>\n",
       "      <td>0.331995</td>\n",
       "      <td>0.200618</td>\n",
       "      <td>...</td>\n",
       "      <td>0.147659</td>\n",
       "      <td>0.271167</td>\n",
       "      <td>0.188598</td>\n",
       "      <td>0.493331</td>\n",
       "      <td>0.054388</td>\n",
       "      <td>-0.055428</td>\n",
       "      <td>0.307271</td>\n",
       "      <td>0.515918</td>\n",
       "      <td>1.000000</td>\n",
       "      <td>0.176146</td>\n",
       "    </tr>\n",
       "    <tr>\n",
       "      <th>Ronco</th>\n",
       "      <td>-0.004700</td>\n",
       "      <td>-0.181618</td>\n",
       "      <td>-0.021343</td>\n",
       "      <td>0.122694</td>\n",
       "      <td>0.052844</td>\n",
       "      <td>0.022916</td>\n",
       "      <td>-0.056831</td>\n",
       "      <td>0.043375</td>\n",
       "      <td>0.152677</td>\n",
       "      <td>0.039422</td>\n",
       "      <td>...</td>\n",
       "      <td>0.087944</td>\n",
       "      <td>0.231748</td>\n",
       "      <td>-0.189106</td>\n",
       "      <td>-0.159291</td>\n",
       "      <td>0.116183</td>\n",
       "      <td>0.210540</td>\n",
       "      <td>-0.017537</td>\n",
       "      <td>0.335844</td>\n",
       "      <td>0.176146</td>\n",
       "      <td>1.000000</td>\n",
       "    </tr>\n",
       "  </tbody>\n",
       "</table>\n",
       "<p>23 rows × 23 columns</p>\n",
       "</div>\n",
       "      <button class=\"colab-df-convert\" onclick=\"convertToInteractive('df-89dd738b-15e4-48d1-93c4-f7ac9a068c91')\"\n",
       "              title=\"Convert this dataframe to an interactive table.\"\n",
       "              style=\"display:none;\">\n",
       "        \n",
       "  <svg xmlns=\"http://www.w3.org/2000/svg\" height=\"24px\"viewBox=\"0 0 24 24\"\n",
       "       width=\"24px\">\n",
       "    <path d=\"M0 0h24v24H0V0z\" fill=\"none\"/>\n",
       "    <path d=\"M18.56 5.44l.94 2.06.94-2.06 2.06-.94-2.06-.94-.94-2.06-.94 2.06-2.06.94zm-11 1L8.5 8.5l.94-2.06 2.06-.94-2.06-.94L8.5 2.5l-.94 2.06-2.06.94zm10 10l.94 2.06.94-2.06 2.06-.94-2.06-.94-.94-2.06-.94 2.06-2.06.94z\"/><path d=\"M17.41 7.96l-1.37-1.37c-.4-.4-.92-.59-1.43-.59-.52 0-1.04.2-1.43.59L10.3 9.45l-7.72 7.72c-.78.78-.78 2.05 0 2.83L4 21.41c.39.39.9.59 1.41.59.51 0 1.02-.2 1.41-.59l7.78-7.78 2.81-2.81c.8-.78.8-2.07 0-2.86zM5.41 20L4 18.59l7.72-7.72 1.47 1.35L5.41 20z\"/>\n",
       "  </svg>\n",
       "      </button>\n",
       "      \n",
       "  <style>\n",
       "    .colab-df-container {\n",
       "      display:flex;\n",
       "      flex-wrap:wrap;\n",
       "      gap: 12px;\n",
       "    }\n",
       "\n",
       "    .colab-df-convert {\n",
       "      background-color: #E8F0FE;\n",
       "      border: none;\n",
       "      border-radius: 50%;\n",
       "      cursor: pointer;\n",
       "      display: none;\n",
       "      fill: #1967D2;\n",
       "      height: 32px;\n",
       "      padding: 0 0 0 0;\n",
       "      width: 32px;\n",
       "    }\n",
       "\n",
       "    .colab-df-convert:hover {\n",
       "      background-color: #E2EBFA;\n",
       "      box-shadow: 0px 1px 2px rgba(60, 64, 67, 0.3), 0px 1px 3px 1px rgba(60, 64, 67, 0.15);\n",
       "      fill: #174EA6;\n",
       "    }\n",
       "\n",
       "    [theme=dark] .colab-df-convert {\n",
       "      background-color: #3B4455;\n",
       "      fill: #D2E3FC;\n",
       "    }\n",
       "\n",
       "    [theme=dark] .colab-df-convert:hover {\n",
       "      background-color: #434B5C;\n",
       "      box-shadow: 0px 1px 3px 1px rgba(0, 0, 0, 0.15);\n",
       "      filter: drop-shadow(0px 1px 2px rgba(0, 0, 0, 0.3));\n",
       "      fill: #FFFFFF;\n",
       "    }\n",
       "  </style>\n",
       "\n",
       "      <script>\n",
       "        const buttonEl =\n",
       "          document.querySelector('#df-89dd738b-15e4-48d1-93c4-f7ac9a068c91 button.colab-df-convert');\n",
       "        buttonEl.style.display =\n",
       "          google.colab.kernel.accessAllowed ? 'block' : 'none';\n",
       "\n",
       "        async function convertToInteractive(key) {\n",
       "          const element = document.querySelector('#df-89dd738b-15e4-48d1-93c4-f7ac9a068c91');\n",
       "          const dataTable =\n",
       "            await google.colab.kernel.invokeFunction('convertToInteractive',\n",
       "                                                     [key], {});\n",
       "          if (!dataTable) return;\n",
       "\n",
       "          const docLinkHtml = 'Like what you see? Visit the ' +\n",
       "            '<a target=\"_blank\" href=https://colab.research.google.com/notebooks/data_table.ipynb>data table notebook</a>'\n",
       "            + ' to learn more about interactive tables.';\n",
       "          element.innerHTML = '';\n",
       "          dataTable['output_type'] = 'display_data';\n",
       "          await google.colab.output.renderOutput(dataTable, element);\n",
       "          const docLink = document.createElement('div');\n",
       "          docLink.innerHTML = docLinkHtml;\n",
       "          element.appendChild(docLink);\n",
       "        }\n",
       "      </script>\n",
       "    </div>\n",
       "  </div>\n",
       "  "
      ],
      "text/plain": [
       "                            Idade    Gênero  Poluição do Ar  Uso de Álcool  \\\n",
       "Idade                    1.000000 -0.202086        0.099494       0.151742   \n",
       "Gênero                  -0.202086  1.000000       -0.246912      -0.227636   \n",
       "Poluição do Ar           0.099494 -0.246912        1.000000       0.747293   \n",
       "Uso de Álcool            0.151742 -0.227636        0.747293       1.000000   \n",
       "Alergia à Poeira         0.035202 -0.204312        0.637503       0.818644   \n",
       "Riscos Ocupacionais      0.062177 -0.192343        0.608924       0.878786   \n",
       "Risco Genêtico           0.073151 -0.222727        0.705276       0.877210   \n",
       "Doença Pulmonar Crônica  0.128952 -0.205061        0.626701       0.763576   \n",
       "Dieta Balanceada         0.004863 -0.099741        0.524873       0.653352   \n",
       "Obesidade                0.034337 -0.123813        0.601468       0.669312   \n",
       "Fumante                  0.075333 -0.206924        0.481902       0.547035   \n",
       "Fumante Passivo          0.004908 -0.184826        0.606764       0.592576   \n",
       "Dor no Peito             0.012864 -0.218426        0.585734       0.717242   \n",
       "Tosse com Sangue         0.053006 -0.146505        0.607829       0.667612   \n",
       "Fadiga                   0.095059 -0.116467        0.211724       0.237245   \n",
       "Perda de Peso            0.106946 -0.057993        0.258016       0.207851   \n",
       "Falta de Ar              0.035329 -0.045972        0.269558       0.435785   \n",
       "Respiração Ofegante     -0.095354 -0.076304        0.055368       0.180817   \n",
       "Dificulade de Engolir   -0.105833 -0.058324       -0.080918      -0.114073   \n",
       "Baqueteamento das Unhas  0.039258 -0.034219        0.241065       0.414992   \n",
       "Calafrios               -0.012706 -0.000526        0.174539       0.180778   \n",
       "Tosse Seca               0.012128 -0.123001        0.261489       0.211277   \n",
       "Ronco                   -0.004700 -0.181618       -0.021343       0.122694   \n",
       "\n",
       "                         Alergia à Poeira  Riscos Ocupacionais  \\\n",
       "Idade                            0.035202             0.062177   \n",
       "Gênero                          -0.204312            -0.192343   \n",
       "Poluição do Ar                   0.637503             0.608924   \n",
       "Uso de Álcool                    0.818644             0.878786   \n",
       "Alergia à Poeira                 1.000000             0.835860   \n",
       "Riscos Ocupacionais              0.835860             1.000000   \n",
       "Risco Genêtico                   0.787904             0.893049   \n",
       "Doença Pulmonar Crônica          0.619556             0.858284   \n",
       "Dieta Balanceada                 0.647197             0.691509   \n",
       "Obesidade                        0.700676             0.722191   \n",
       "Fumante                          0.358691             0.497693   \n",
       "Fumante Passivo                  0.560002             0.555311   \n",
       "Dor no Peito                     0.639983             0.775619   \n",
       "Tosse com Sangue                 0.625291             0.645947   \n",
       "Fadiga                           0.332472             0.267844   \n",
       "Perda de Peso                    0.321756             0.176226   \n",
       "Falta de Ar                      0.518682             0.366482   \n",
       "Respiração Ofegante              0.304850             0.178925   \n",
       "Dificulade de Engolir            0.031141            -0.002853   \n",
       "Baqueteamento das Unhas          0.345714             0.366447   \n",
       "Calafrios                        0.219389             0.077166   \n",
       "Tosse Seca                       0.300195             0.159887   \n",
       "Ronco                            0.052844             0.022916   \n",
       "\n",
       "                         Risco Genêtico  Doença Pulmonar Crônica  \\\n",
       "Idade                          0.073151                 0.128952   \n",
       "Gênero                        -0.222727                -0.205061   \n",
       "Poluição do Ar                 0.705276                 0.626701   \n",
       "Uso de Álcool                  0.877210                 0.763576   \n",
       "Alergia à Poeira               0.787904                 0.619556   \n",
       "Riscos Ocupacionais            0.893049                 0.858284   \n",
       "Risco Genêtico                 1.000000                 0.836231   \n",
       "Doença Pulmonar Crônica        0.836231                 1.000000   \n",
       "Dieta Balanceada               0.679905                 0.622632   \n",
       "Obesidade                      0.729826                 0.601754   \n",
       "Fumante                        0.543259                 0.578585   \n",
       "Fumante Passivo                0.609071                 0.572698   \n",
       "Dor no Peito                   0.831751                 0.782646   \n",
       "Tosse com Sangue               0.632236                 0.602987   \n",
       "Fadiga                         0.230530                 0.247697   \n",
       "Perda de Peso                  0.271743                 0.104080   \n",
       "Falta de Ar                    0.458200                 0.182426   \n",
       "Respiração Ofegante            0.204973                 0.057214   \n",
       "Dificulade de Engolir         -0.062948                 0.007279   \n",
       "Baqueteamento das Unhas        0.357815                 0.298023   \n",
       "Calafrios                      0.087092                 0.028759   \n",
       "Tosse Seca                     0.194399                 0.114161   \n",
       "Ronco                         -0.056831                 0.043375   \n",
       "\n",
       "                         Dieta Balanceada  Obesidade  ...  Tosse com Sangue  \\\n",
       "Idade                            0.004863   0.034337  ...          0.053006   \n",
       "Gênero                          -0.099741  -0.123813  ...         -0.146505   \n",
       "Poluição do Ar                   0.524873   0.601468  ...          0.607829   \n",
       "Uso de Álcool                    0.653352   0.669312  ...          0.667612   \n",
       "Alergia à Poeira                 0.647197   0.700676  ...          0.625291   \n",
       "Riscos Ocupacionais              0.691509   0.722191  ...          0.645947   \n",
       "Risco Genêtico                   0.679905   0.729826  ...          0.632236   \n",
       "Doença Pulmonar Crônica          0.622632   0.601754  ...          0.602987   \n",
       "Dieta Balanceada                 1.000000   0.706922  ...          0.745054   \n",
       "Obesidade                        0.706922   1.000000  ...          0.814805   \n",
       "Fumante                          0.645390   0.486795  ...          0.555289   \n",
       "Fumante Passivo                  0.725123   0.681889  ...          0.636223   \n",
       "Dor no Peito                     0.798207   0.673150  ...          0.712158   \n",
       "Tosse com Sangue                 0.745054   0.814805  ...          1.000000   \n",
       "Fadiga                           0.400678   0.552788  ...          0.481540   \n",
       "Perda de Peso                   -0.006544   0.313495  ...          0.105857   \n",
       "Falta de Ar                      0.343623   0.406203  ...          0.318777   \n",
       "Respiração Ofegante              0.063930   0.094287  ...         -0.085698   \n",
       "Dificulade de Engolir            0.046807   0.127213  ...          0.086289   \n",
       "Baqueteamento das Unhas          0.041967   0.149093  ...         -0.066443   \n",
       "Calafrios                        0.263931   0.288368  ...          0.244235   \n",
       "Tosse Seca                       0.331995   0.200618  ...          0.147659   \n",
       "Ronco                            0.152677   0.039422  ...          0.087944   \n",
       "\n",
       "                           Fadiga  Perda de Peso  Falta de Ar  \\\n",
       "Idade                    0.095059       0.106946     0.035329   \n",
       "Gênero                  -0.116467      -0.057993    -0.045972   \n",
       "Poluição do Ar           0.211724       0.258016     0.269558   \n",
       "Uso de Álcool            0.237245       0.207851     0.435785   \n",
       "Alergia à Poeira         0.332472       0.321756     0.518682   \n",
       "Riscos Ocupacionais      0.267844       0.176226     0.366482   \n",
       "Risco Genêtico           0.230530       0.271743     0.458200   \n",
       "Doença Pulmonar Crônica  0.247697       0.104080     0.182426   \n",
       "Dieta Balanceada         0.400678      -0.006544     0.343623   \n",
       "Obesidade                0.552788       0.313495     0.406203   \n",
       "Fumante                  0.200029      -0.212937    -0.023259   \n",
       "Fumante Passivo          0.377919       0.058336     0.062948   \n",
       "Dor no Peito             0.251135      -0.001092     0.237045   \n",
       "Tosse com Sangue         0.481540       0.105857     0.318777   \n",
       "Fadiga                   1.000000       0.469517     0.398625   \n",
       "Perda de Peso            0.469517       1.000000     0.574497   \n",
       "Falta de Ar              0.398625       0.574497     1.000000   \n",
       "Respiração Ofegante      0.174477       0.331179     0.207564   \n",
       "Dificulade de Engolir    0.149562       0.053384    -0.200477   \n",
       "Baqueteamento das Unhas  0.040694       0.376484     0.474275   \n",
       "Calafrios                0.407915       0.160348     0.351489   \n",
       "Tosse Seca               0.271167       0.188598     0.493331   \n",
       "Ronco                    0.231748      -0.189106    -0.159291   \n",
       "\n",
       "                         Respiração Ofegante  Dificulade de Engolir  \\\n",
       "Idade                              -0.095354              -0.105833   \n",
       "Gênero                             -0.076304              -0.058324   \n",
       "Poluição do Ar                      0.055368              -0.080918   \n",
       "Uso de Álcool                       0.180817              -0.114073   \n",
       "Alergia à Poeira                    0.304850               0.031141   \n",
       "Riscos Ocupacionais                 0.178925              -0.002853   \n",
       "Risco Genêtico                      0.204973              -0.062948   \n",
       "Doença Pulmonar Crônica             0.057214               0.007279   \n",
       "Dieta Balanceada                    0.063930               0.046807   \n",
       "Obesidade                           0.094287               0.127213   \n",
       "Fumante                            -0.047060               0.236141   \n",
       "Fumante Passivo                     0.200283               0.348922   \n",
       "Dor no Peito                        0.107211               0.071784   \n",
       "Tosse com Sangue                   -0.085698               0.086289   \n",
       "Fadiga                              0.174477               0.149562   \n",
       "Perda de Peso                       0.331179               0.053384   \n",
       "Falta de Ar                         0.207564              -0.200477   \n",
       "Respiração Ofegante                 1.000000               0.393487   \n",
       "Dificulade de Engolir               0.393487               1.000000   \n",
       "Baqueteamento das Unhas             0.338271              -0.119741   \n",
       "Calafrios                           0.098855               0.132363   \n",
       "Tosse Seca                          0.054388              -0.055428   \n",
       "Ronco                               0.116183               0.210540   \n",
       "\n",
       "                         Baqueteamento das Unhas  Calafrios  Tosse Seca  \\\n",
       "Idade                                   0.039258  -0.012706    0.012128   \n",
       "Gênero                                 -0.034219  -0.000526   -0.123001   \n",
       "Poluição do Ar                          0.241065   0.174539    0.261489   \n",
       "Uso de Álcool                           0.414992   0.180778    0.211277   \n",
       "Alergia à Poeira                        0.345714   0.219389    0.300195   \n",
       "Riscos Ocupacionais                     0.366447   0.077166    0.159887   \n",
       "Risco Genêtico                          0.357815   0.087092    0.194399   \n",
       "Doença Pulmonar Crônica                 0.298023   0.028759    0.114161   \n",
       "Dieta Balanceada                        0.041967   0.263931    0.331995   \n",
       "Obesidade                               0.149093   0.288368    0.200618   \n",
       "Fumante                                -0.041147   0.039585    0.010101   \n",
       "Fumante Passivo                        -0.035536   0.104553    0.120761   \n",
       "Dor no Peito                            0.081386   0.042937    0.142180   \n",
       "Tosse com Sangue                       -0.066443   0.244235    0.147659   \n",
       "Fadiga                                  0.040694   0.407915    0.271167   \n",
       "Perda de Peso                           0.376484   0.160348    0.188598   \n",
       "Falta de Ar                             0.474275   0.351489    0.493331   \n",
       "Respiração Ofegante                     0.338271   0.098855    0.054388   \n",
       "Dificulade de Engolir                  -0.119741   0.132363   -0.055428   \n",
       "Baqueteamento das Unhas                 1.000000   0.242529    0.307271   \n",
       "Calafrios                               0.242529   1.000000    0.515918   \n",
       "Tosse Seca                              0.307271   0.515918    1.000000   \n",
       "Ronco                                  -0.017537   0.335844    0.176146   \n",
       "\n",
       "                            Ronco  \n",
       "Idade                   -0.004700  \n",
       "Gênero                  -0.181618  \n",
       "Poluição do Ar          -0.021343  \n",
       "Uso de Álcool            0.122694  \n",
       "Alergia à Poeira         0.052844  \n",
       "Riscos Ocupacionais      0.022916  \n",
       "Risco Genêtico          -0.056831  \n",
       "Doença Pulmonar Crônica  0.043375  \n",
       "Dieta Balanceada         0.152677  \n",
       "Obesidade                0.039422  \n",
       "Fumante                  0.189055  \n",
       "Fumante Passivo          0.247943  \n",
       "Dor no Peito             0.140036  \n",
       "Tosse com Sangue         0.087944  \n",
       "Fadiga                   0.231748  \n",
       "Perda de Peso           -0.189106  \n",
       "Falta de Ar             -0.159291  \n",
       "Respiração Ofegante      0.116183  \n",
       "Dificulade de Engolir    0.210540  \n",
       "Baqueteamento das Unhas -0.017537  \n",
       "Calafrios                0.335844  \n",
       "Tosse Seca               0.176146  \n",
       "Ronco                    1.000000  \n",
       "\n",
       "[23 rows x 23 columns]"
      ]
     },
     "execution_count": 13,
     "metadata": {},
     "output_type": "execute_result"
    }
   ],
   "source": [
    "df_cancer.corr()"
   ]
  },
  {
   "cell_type": "markdown",
   "metadata": {
    "id": "GGYjkGXdSOEI"
   },
   "source": [
    "Gerando o histograma dos valores de idade"
   ]
  },
  {
   "cell_type": "code",
   "execution_count": null,
   "metadata": {
    "colab": {
     "base_uri": "https://localhost:8080/",
     "height": 282
    },
    "id": "v-1N6vh8R6AN",
    "outputId": "8b3d5fde-6b45-4304-86a0-baedaf5e1a77"
   },
   "outputs": [
    {
     "data": {
      "text/plain": [
       "<matplotlib.axes._subplots.AxesSubplot at 0x7f01cafbe550>"
      ]
     },
     "execution_count": 14,
     "metadata": {},
     "output_type": "execute_result"
    },
    {
     "data": {
      "image/png": "[encoded data removed]",
      "text/plain": [
       "<Figure size 432x288 with 1 Axes>"
      ]
     },
     "metadata": {
      "needs_background": "light"
     },
     "output_type": "display_data"
    }
   ],
   "source": [
    "df_cancer['Idade'].plot.hist()"
   ]
  },
  {
   "cell_type": "markdown",
   "metadata": {
    "id": "HBj1_3m-SkNG"
   },
   "source": [
    "Histograma dos valores de largura da pétala"
   ]
  },
  {
   "cell_type": "code",
   "execution_count": null,
   "metadata": {
    "colab": {
     "base_uri": "https://localhost:8080/",
     "height": 265
    },
    "id": "fqANAgqJSahH",
    "outputId": "7c4c0c80-9b94-4230-dc3f-bda2b0cbdc97"
   },
   "outputs": [
    {
     "data": {
      "image/png": "[encoded data removed]",
      "text/plain": [
       "<Figure size 432x288 with 1 Axes>"
      ]
     },
     "metadata": {
      "needs_background": "light"
     },
     "output_type": "display_data"
    }
   ],
   "source": [
    "df_cancer['Risco Genêtico'].plot.hist()\n",
    "plt.show()"
   ]
  },
  {
   "cell_type": "markdown",
   "metadata": {
    "id": "B7P95R1ITPYP"
   },
   "source": [
    "Buscando co-relações entre variáveis: PairPlot"
   ]
  },
  {
   "cell_type": "code",
   "execution_count": null,
   "metadata": {
    "id": "i1ClcVCNSsKX"
   },
   "outputs": [],
   "source": [
    "#sns.pairplot(df_cancer, hue='Grau')"
   ]
  },
  {
   "cell_type": "markdown",
   "metadata": {
    "id": "OsWRmLApeWMw"
   },
   "source": [
    "Analisando a correlação entre os pares:"
   ]
  },
  {
   "cell_type": "code",
   "execution_count": null,
   "metadata": {
    "colab": {
     "base_uri": "https://localhost:8080/",
     "height": 296
    },
    "id": "VHgjM4APeYhV",
    "outputId": "65e851f3-73ae-4114-d5f7-ddd51b7c428c"
   },
   "outputs": [
    {
     "data": {
      "text/plain": [
       "<matplotlib.axes._subplots.AxesSubplot at 0x7f01ca9eead0>"
      ]
     },
     "execution_count": 16,
     "metadata": {},
     "output_type": "execute_result"
    },
    {
     "data": {
      "image/png": "[encoded data removed]",
      "text/plain": [
       "<Figure size 432x288 with 1 Axes>"
      ]
     },
     "metadata": {
      "needs_background": "light"
     },
     "output_type": "display_data"
    }
   ],
   "source": [
    "sns.boxplot(data=df_cancer, x=\"Gênero\",y=\"Idade\")"
   ]
  },
  {
   "cell_type": "code",
   "execution_count": null,
   "metadata": {
    "colab": {
     "base_uri": "https://localhost:8080/",
     "height": 296
    },
    "id": "LVCs2tCl6412",
    "outputId": "8f130027-1a12-4c90-942b-9ca30038d6b3"
   },
   "outputs": [
    {
     "data": {
      "text/plain": [
       "<matplotlib.axes._subplots.AxesSubplot at 0x7f01ca990d90>"
      ]
     },
     "execution_count": 17,
     "metadata": {},
     "output_type": "execute_result"
    },
    {
     "data": {
      "image/png": "[encoded data removed]",
      "text/plain": [
       "<Figure size 432x288 with 1 Axes>"
      ]
     },
     "metadata": {
      "needs_background": "light"
     },
     "output_type": "display_data"
    }
   ],
   "source": [
    "sns.boxplot(data=df_cancer, x=\"Fumante Passivo\",y=\"Idade\", hue=\"Gênero\")"
   ]
  },
  {
   "cell_type": "code",
   "execution_count": null,
   "metadata": {
    "colab": {
     "base_uri": "https://localhost:8080/",
     "height": 296
    },
    "id": "NmI7ZbhcfEaV",
    "outputId": "828c4ccb-78d3-48d8-81f4-b110c15485f2"
   },
   "outputs": [
    {
     "data": {
      "text/plain": [
       "<matplotlib.axes._subplots.AxesSubplot at 0x7f01ca7547d0>"
      ]
     },
     "execution_count": 18,
     "metadata": {},
     "output_type": "execute_result"
    },
    {
     "data": {
      "image/png": "[encoded data removed]",
      "text/plain": [
       "<Figure size 432x288 with 1 Axes>"
      ]
     },
     "metadata": {
      "needs_background": "light"
     },
     "output_type": "display_data"
    }
   ],
   "source": [
    "sns.boxplot(data=df_cancer, x=\"Fumante\",y=\"Idade\" ,hue=\"Gênero\")"
   ]
  },
  {
   "cell_type": "code",
   "execution_count": null,
   "metadata": {
    "id": "jKULAMu4_QvF"
   },
   "outputs": [],
   "source": [
    "sns.boxplot(data=df_cancer, x=\"Uso de Álcool\",y=\"Idade\" ,hue=\"Gênero\")"
   ]
  },
  {
   "cell_type": "code",
   "execution_count": null,
   "metadata": {
    "id": "lGDPB9sa7FcI"
   },
   "outputs": [],
   "source": [
    "sns.boxplot(data=df_cancer, x=\"Risco Genêtico\",y=\"Idade\", hue=\"Gênero\")"
   ]
  },
  {
   "cell_type": "markdown",
   "metadata": {
    "id": "_TWdo333UfJT"
   },
   "source": [
    "## **SciKit-learn**: Biblioteca em Python para Aprendizado de Máquina\n",
    "\n",
    "![scikit-learn-logo-small.png](data:image/png;base64,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)\n",
    "\n"
   ]
  },
  {
   "cell_type": "code",
   "execution_count": null,
   "metadata": {
    "id": "QHTcFZ35VRo_"
   },
   "outputs": [],
   "source": [
    "import sklearn.model_selection as model_selection"
   ]
  },
  {
   "cell_type": "markdown",
   "metadata": {
    "id": "zPyobr6kUENj"
   },
   "source": [
    "## Tarefa de classificação usando Árvore de Decisão"
   ]
  },
  {
   "cell_type": "markdown",
   "metadata": {
    "id": "oC9tzF33UJFd"
   },
   "source": [
    "Separando o dataset em conjunto de treino e de teste:"
   ]
  },
  {
   "cell_type": "code",
   "execution_count": null,
   "metadata": {
    "id": "TNspAgOwTZHK"
   },
   "outputs": [],
   "source": [
    "features = df_cancer[['Idade', 'Gênero', 'Fumante', 'Uso de Álcool', 'Risco Genêtico']].values\n",
    "classe = df_cancer['Grau'].values"
   ]
  },
  {
   "cell_type": "code",
   "execution_count": null,
   "metadata": {
    "id": "dn90oJpZF31x"
   },
   "outputs": [],
   "source": [
    "features = df_cancer[['Idade','Poluição do Ar', 'Gênero', 'Fumante', 'Uso de Álcool', 'Alergia à Poeira','Risco Genêtico','Doença Pulmonar Crônica','Dieta Balanceada',\n",
    "                      'Obesidade','Fumante Passivo', 'Dor no Peito', 'Tosse com Sangue','Fadiga', 'Perda de Peso', 'Falta de Ar',\n",
    "                      'Respiração Ofegante', 'Dificulade de Engolir',  'Baqueteamento das Unhas','Calafrios', 'Tosse Seca','Ronco',]].values\n",
    "classe = df_cancer['Grau'].values"
   ]
  },
  {
   "cell_type": "code",
   "execution_count": null,
   "metadata": {
    "id": "Ohbz7CyHF31x"
   },
   "outputs": [],
   "source": [
    "# randomstate 1 garante que o dataset sempre será particionado da mesma forma\n",
    "(features_treino, features_teste, classe_treino, classe_teste) = model_selection.train_test_split(features, classe, train_size=0.7, random_state=1)"
   ]
  },
  {
   "cell_type": "markdown",
   "metadata": {
    "id": "PwlNsiA0WExJ"
   },
   "source": [
    "Criando a árvore de decisão"
   ]
  },
  {
   "cell_type": "code",
   "execution_count": null,
   "metadata": {
    "id": "S1Fy7zWhVEnv"
   },
   "outputs": [],
   "source": [
    "from sklearn import tree\n",
    "from sklearn.tree import DecisionTreeClassifier\n",
    "\n",
    "cancer_classificador = DecisionTreeClassifier(criterion='entropy', max_depth=5)"
   ]
  },
  {
   "cell_type": "markdown",
   "metadata": {
    "id": "wOiDrQCoaiPV"
   },
   "source": [
    "Treinando o modelo:"
   ]
  },
  {
   "cell_type": "code",
   "execution_count": null,
   "metadata": {
    "colab": {
     "base_uri": "https://localhost:8080/"
    },
    "id": "CDWy7O49akKa",
    "outputId": "3f05962d-2d5b-48dd-c9f7-0e9fd2c8cb46"
   },
   "outputs": [
    {
     "data": {
      "text/plain": [
       "DecisionTreeClassifier(criterion='entropy', max_depth=5)"
      ]
     },
     "execution_count": 33,
     "metadata": {},
     "output_type": "execute_result"
    }
   ],
   "source": [
    "cancer_classificador.fit(features_treino, classe_treino)"
   ]
  },
  {
   "cell_type": "code",
   "execution_count": null,
   "metadata": {
    "colab": {
     "base_uri": "https://localhost:8080/"
    },
    "id": "cuCcaI4CdjOf",
    "outputId": "5bda5373-877f-4132-9509-fa31b4509b02"
   },
   "outputs": [
    {
     "name": "stdout",
     "output_type": "stream",
     "text": [
      "['Baixo']\n",
      "['Alto']\n",
      "['Médio']\n"
     ]
    }
   ],
   "source": [
    "novos_exemplos = [[60,2,5,2,7]]   # Mulher 60 anos\n",
    "novos_exemplos2 = [[25,1,5,7,1]]  # Homem 25 anos\n",
    "novos_exemplos3 = [[30,2,3,3,5]]  # Mulher 42 anos\n",
    "\n",
    "# 'Idade', 'Gênero'(1-masc,2-fem), 'Fumante', 'Uso de Álcool'\n",
    "\n",
    "print(cancer_classificador.predict(novos_exemplos))\n",
    "print(cancer_classificador.predict(novos_exemplos2))\n",
    "print(cancer_classificador.predict(novos_exemplos3))"
   ]
  },
  {
   "cell_type": "markdown",
   "metadata": {
    "id": "zjbEpB2TZA0I"
   },
   "source": [
    "Testando o desempenho do modelo:"
   ]
  },
  {
   "cell_type": "code",
   "execution_count": null,
   "metadata": {
    "colab": {
     "base_uri": "https://localhost:8080/"
    },
    "id": "9zs4jf-bZFTC",
    "outputId": "de813d30-cbad-41b0-904f-97848c11077c"
   },
   "outputs": [
    {
     "data": {
      "text/plain": [
       "1.0"
      ]
     },
     "execution_count": 34,
     "metadata": {},
     "output_type": "execute_result"
    }
   ],
   "source": [
    "cancer_classificador.score(features_teste, classe_teste) # score: Acurácia"
   ]
  },
  {
   "cell_type": "code",
   "execution_count": null,
   "metadata": {
    "colab": {
     "base_uri": "https://localhost:8080/",
     "height": 821
    },
    "id": "hFWiPBZxWM7g",
    "outputId": "9d2529e0-aeea-4bec-fc2e-d01ed411f19c"
   },
   "outputs": [
    {
     "data": {
      "text/plain": [
       "[Text(0.5384615384615384, 0.9166666666666666, 'X[12] <= 5.5\\nentropy = 1.582\\nsamples = 700\\nvalue = [250, 214, 236]'),\n",
       " Text(0.38461538461538464, 0.75, 'X[16] <= 4.5\\nentropy = 1.129\\nsamples = 415\\nvalue = [9, 202, 204]'),\n",
       " Text(0.3076923076923077, 0.5833333333333334, 'X[13] <= 3.5\\nentropy = 0.893\\nsamples = 258\\nvalue = [9, 202, 47]'),\n",
       " Text(0.15384615384615385, 0.4166666666666667, 'X[9] <= 4.5\\nentropy = 0.146\\nsamples = 192\\nvalue = [0, 188, 4]'),\n",
       " Text(0.07692307692307693, 0.25, 'entropy = 0.0\\nsamples = 188\\nvalue = [0, 188, 0]'),\n",
       " Text(0.23076923076923078, 0.25, 'entropy = 0.0\\nsamples = 4\\nvalue = [0, 0, 4]'),\n",
       " Text(0.46153846153846156, 0.4166666666666667, 'X[5] <= 2.5\\nentropy = 1.269\\nsamples = 66\\nvalue = [9, 14, 43]'),\n",
       " Text(0.38461538461538464, 0.25, 'entropy = 0.0\\nsamples = 14\\nvalue = [0, 14, 0]'),\n",
       " Text(0.5384615384615384, 0.25, 'X[14] <= 5.0\\nentropy = 0.665\\nsamples = 52\\nvalue = [9, 0, 43]'),\n",
       " Text(0.46153846153846156, 0.08333333333333333, 'entropy = 0.0\\nsamples = 43\\nvalue = [0, 0, 43]'),\n",
       " Text(0.6153846153846154, 0.08333333333333333, 'entropy = 0.0\\nsamples = 9\\nvalue = [9, 0, 0]'),\n",
       " Text(0.46153846153846156, 0.5833333333333334, 'entropy = 0.0\\nsamples = 157\\nvalue = [0, 0, 157]'),\n",
       " Text(0.6923076923076923, 0.75, 'X[1] <= 1.5\\nentropy = 0.751\\nsamples = 285\\nvalue = [241, 12, 32]'),\n",
       " Text(0.6153846153846154, 0.5833333333333334, 'entropy = 0.0\\nsamples = 26\\nvalue = [0, 0, 26]'),\n",
       " Text(0.7692307692307693, 0.5833333333333334, 'X[9] <= 2.5\\nentropy = 0.428\\nsamples = 259\\nvalue = [241, 12, 6]'),\n",
       " Text(0.6923076923076923, 0.4166666666666667, 'entropy = 0.0\\nsamples = 12\\nvalue = [0, 12, 0]'),\n",
       " Text(0.8461538461538461, 0.4166666666666667, 'X[18] <= 1.5\\nentropy = 0.165\\nsamples = 247\\nvalue = [241, 0, 6]'),\n",
       " Text(0.7692307692307693, 0.25, 'entropy = 0.0\\nsamples = 6\\nvalue = [0, 0, 6]'),\n",
       " Text(0.9230769230769231, 0.25, 'entropy = 0.0\\nsamples = 241\\nvalue = [241, 0, 0]')]"
      ]
     },
     "execution_count": 36,
     "metadata": {},
     "output_type": "execute_result"
    },
    {
     "data": {
      "image/png": "[encoded data removed]",
      "text/plain": [
       "<Figure size 432x288 with 1 Axes>"
      ]
     },
     "metadata": {
      "needs_background": "light"
     },
     "output_type": "display_data"
    }
   ],
   "source": [
    "tree.plot_tree(cancer_classificador)"
   ]
  },
  {
   "cell_type": "code",
   "execution_count": null,
   "metadata": {
    "colab": {
     "base_uri": "https://localhost:8080/",
     "height": 166
    },
    "id": "_lSS6DfYF311",
    "outputId": "34874be5-44a6-48f0-b7ba-da9dcafa76ca"
   },
   "outputs": [
    {
     "ename": "NameError",
     "evalue": "ignored",
     "output_type": "error",
     "traceback": [
      "\u001b[0;31m---------------------------------------------------------------------------\u001b[0m",
      "\u001b[0;31mNameError\u001b[0m                                 Traceback (most recent call last)",
      "\u001b[0;32m<ipython-input-35-bbb4398fdd1f>\u001b[0m in \u001b[0;36m<module>\u001b[0;34m()\u001b[0m\n\u001b[0;32m----> 1\u001b[0;31m \u001b[0mX_test\u001b[0m\u001b[0;34m[\u001b[0m\u001b[0;34m:\u001b[0m\u001b[0;36m100\u001b[0m\u001b[0;34m]\u001b[0m\u001b[0;34m\u001b[0m\u001b[0;34m\u001b[0m\u001b[0m\n\u001b[0m",
      "\u001b[0;31mNameError\u001b[0m: name 'X_test' is not defined"
     ]
    }
   ],
   "source": [
    "X_test[:100]"
   ]
  },
  {
   "cell_type": "code",
   "execution_count": null,
   "metadata": {
    "id": "xwTMk1M_3E_3"
   },
   "outputs": [],
   "source": [
    "print(cancer_classificador.predict(X_test[:10]))"
   ]
  },
  {
   "cell_type": "code",
   "execution_count": null,
   "metadata": {
    "id": "eyIdi01AF312"
   },
   "outputs": [],
   "source": [
    "classifier.predict(X_test[:10])"
   ]
  },
  {
   "cell_type": "code",
   "execution_count": null,
   "metadata": {
    "colab": {
     "base_uri": "https://localhost:8080/"
    },
    "id": "G6fXpIyMF312",
    "outputId": "970878f5-3ac0-422c-f1cc-c52de8fef148"
   },
   "outputs": [
    {
     "name": "stdout",
     "output_type": "stream",
     "text": [
      "Matriz Confusa: \n",
      "[[128   0   0]\n",
      " [  0  95   1]\n",
      " [  0   0 106]] \n",
      "\n",
      "Relatório de classificação: \n",
      "               precision    recall  f1-score   support\n",
      "\n",
      "        Alto       1.00      1.00      1.00       128\n",
      "       Baixo       1.00      0.99      0.99        96\n",
      "       Médio       0.99      1.00      1.00       106\n",
      "\n",
      "    accuracy                           1.00       330\n",
      "   macro avg       1.00      1.00      1.00       330\n",
      "weighted avg       1.00      1.00      1.00       330\n",
      "\n",
      "Acurácia do modelo:  0.996969696969697\n"
     ]
    }
   ],
   "source": [
    "from sklearn.neighbors import KNeighborsClassifier\n",
    "resultado = KNeighborsClassifier(n_neighbors=5)\n",
    "from sklearn.model_selection import train_test_split\n",
    "X_train, X_test, y_train, y_test = train_test_split(features,classe, test_size=0.33, random_state=42)\n",
    "resultado.fit(X_train,y_train)\n",
    "y_pred = resultado.predict(X_test)\n",
    "from sklearn.metrics import classification_report, confusion_matrix, accuracy_score\n",
    "# Imprimindo a matriz confusa\n",
    "print(\"Matriz Confusa: \")\n",
    "print(confusion_matrix(y_test, y_pred), \"\\n\")  \n",
    "# Imprimindo o relatório de classificação\n",
    "print(\"Relatório de classificação: \\n\", classification_report(y_test, y_pred)) \n",
    "# Imprimindo o quão acurado foi o modelo\n",
    "print('Acurácia do modelo: ' , accuracy_score(y_test, y_pred))"
   ]
  },
  {
   "cell_type": "code",
   "execution_count": null,
   "metadata": {
    "id": "U7c__PYlF312"
   },
   "outputs": [],
   "source": [
    "from sklearn import svm\n",
    "clf = svm.SVC(kernel='linear')\n",
    "from sklearn.model_selection import train_test_split\n",
    "X_train, X_test, y_train, y_test = train_test_split(features,classe, test_size=0.33, random_state=42)\n",
    "#cross_val_score(clf, X_train, y_train, cv=10)\n",
    "clf.fit(X_train,y_train)\n",
    "y_pred = clf.predict(X_test)\n",
    "from sklearn.metrics import classification_report, confusion_matrix, accuracy_score\n",
    "# Imprimindo a matriz confusa\n",
    "print(\"Matriz Confusa: \")\n",
    "print(confusion_matrix(y_test, y_pred), \"\\n\")  \n",
    "# Imprimindo o relatório de classificação\n",
    "print(\"Relatório de classificação: \\n\", classification_report(y_test, y_pred)) \n",
    "# Imprimindo o quão acurado foi o modelo\n",
    "print('Acurácia do modelo: ' , accuracy_score(y_test, y_pred))"
   ]
  },
  {
   "cell_type": "code",
   "execution_count": null,
   "metadata": {
    "id": "s8OzxhlmF316"
   },
   "outputs": [],
   "source": []
  }
 ],
 "metadata": {
  "colab": {
   "name": "Cancer_Classificação.ipynb",
   "provenance": []
  },
  "kernelspec": {
   "display_name": "Python 3 (ipykernel)",
   "language": "python",
   "name": "python3"
  },
  "language_info": {
   "codemirror_mode": {
    "name": "ipython",
    "version": 3
   },
   "file_extension": ".py",
   "mimetype": "text/x-python",
   "name": "python",
   "nbconvert_exporter": "python",
   "pygments_lexer": "ipython3",
   "version": "3.9.12"
  }
 },
 "nbformat": 4,
 "nbformat_minor": 1
}
