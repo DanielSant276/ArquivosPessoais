{
  "cells": [
    {
      "cell_type": "code",
      "execution_count": null,
      "metadata": {
        "id": "S1XQrxlXdJVJ"
      },
      "outputs": [],
      "source": [
        "import pandas as pd\n",
        "import numpy as np\n",
        "import glob\n",
        "import io\n",
        "import matplotlib.pyplot as plt\n",
        "import seaborn as sns\n",
        "import pylab as pl \n",
        "from sklearn.cluster import KMeans #para usar o KMeans\n",
        "from google.colab import files"
      ]
    },
    {
      "cell_type": "code",
      "execution_count": null,
      "metadata": {
        "id": "qx-PqUOedRp2"
      },
      "outputs": [],
      "source": [
        "pip install MiniSom"
      ]
    },
    {
      "cell_type": "code",
      "source": [
        "arquivo_csv = files.upload()"
      ],
      "metadata": {
        "id": "4xSZANIna6zj"
      },
      "execution_count": null,
      "outputs": []
    },
    {
      "cell_type": "code",
      "source": [
        "data = pd.read_csv(io.BytesIO(arquivo_csv['pessoas.csv']))"
      ],
      "metadata": {
        "id": "KL-yIoGSa8Qn"
      },
      "execution_count": null,
      "outputs": []
    },
    {
      "cell_type": "code",
      "execution_count": null,
      "metadata": {
        "id": "qfMnQPVAZHX6"
      },
      "outputs": [],
      "source": [
        "tamanho = data.shape\n",
        "data"
      ]
    },
    {
      "cell_type": "code",
      "execution_count": null,
      "metadata": {
        "id": "lNcdbhb4mKpM"
      },
      "outputs": [],
      "source": [
        "data.dtypes"
      ]
    },
    {
      "cell_type": "code",
      "execution_count": null,
      "metadata": {
        "id": "Xo5Fg16cnxHP"
      },
      "outputs": [],
      "source": [
        "data['sexo']= data['sexo'].replace({'F': 0, 'M': 1})\n",
        "data['Gcrianca']= data['Gcrianca'].replace({'no': 0, 'yes': 1})\n",
        "data['PS']=data['PS'].replace({'no': 0, 'yes': 1})\n",
        "data['Acriminais']=data['Acriminais'].replace({'no': 0, 'yes': 1})\n",
        "data['Caseiro']=data['Caseiro'].replace({'no': 0, 'yes': 1})\n",
        "data['Esportes']=data['Esportes'].replace({'no': 0, 'yes': 1})\n",
        "data['romantic']=data['romantic'].replace({'no': 0, 'yes': 1})"
      ]
    },
    {
      "cell_type": "code",
      "execution_count": null,
      "metadata": {
        "id": "poppe7PYogCd"
      },
      "outputs": [],
      "source": [
        "data.dtypes"
      ]
    },
    {
      "cell_type": "code",
      "execution_count": null,
      "metadata": {
        "id": "eUxCHeliuuH4"
      },
      "outputs": [],
      "source": [
        "data.corr()"
      ]
    },
    {
      "cell_type": "code",
      "execution_count": null,
      "metadata": {
        "id": "ZgiEyYHKvwfY"
      },
      "outputs": [],
      "source": [
        "R = data['G2']\n",
        "Q = data['G1']\n",
        "plt.scatter(R,Q)\n",
        "plt.show()"
      ]
    },
    {
      "cell_type": "code",
      "execution_count": null,
      "metadata": {
        "id": "Q6J5eyxVwYl9"
      },
      "outputs": [],
      "source": [
        "data['otimismo'].hist()\n",
        "\n",
        "pl.show()"
      ]
    },
    {
      "cell_type": "code",
      "execution_count": null,
      "metadata": {
        "id": "BunFbMB93ZOl"
      },
      "outputs": [],
      "source": [
        "sns.distplot(data['SH'], kde=False)"
      ]
    },
    {
      "cell_type": "code",
      "execution_count": null,
      "metadata": {
        "id": "17BXiuXz3rYC"
      },
      "outputs": [],
      "source": [
        "sns.distplot(data['SH'])"
      ]
    },
    {
      "cell_type": "code",
      "execution_count": null,
      "metadata": {
        "id": "voQ-9IgF2o4H"
      },
      "outputs": [],
      "source": [
        "sns.boxplot(x='educação', y='SH', data=data)"
      ]
    },
    {
      "cell_type": "code",
      "execution_count": null,
      "metadata": {
        "id": "9YqLcykuyVpl"
      },
      "outputs": [],
      "source": [
        "#sns.pairplot(data, hue='sexo', palette='coolwarm')"
      ]
    },
    {
      "cell_type": "code",
      "execution_count": null,
      "metadata": {
        "id": "C9jZ3jRqytZp"
      },
      "outputs": [],
      "source": [
        "ax = sns.barplot(x=\"studytime\", y=\"otimismo\", hue=\"sexo\", data=data)"
      ]
    },
    {
      "cell_type": "code",
      "execution_count": null,
      "metadata": {
        "id": "-WZMmhSTzJWT"
      },
      "outputs": [],
      "source": [
        "sns.violinplot(x='studytime', y='otimismo', data=data, hue='sexo', split=True)"
      ]
    },
    {
      "cell_type": "code",
      "execution_count": null,
      "metadata": {
        "id": "VqN7VhKa37zy"
      },
      "outputs": [],
      "source": [
        "sns.violinplot(x='SH', y='otimismo', data=data, hue='sexo', split=True)"
      ]
    },
    {
      "cell_type": "code",
      "execution_count": null,
      "metadata": {
        "id": "dMYPF3VyqeiN"
      },
      "outputs": [],
      "source": [
        "# Dados sem Escalonamento \n",
        "df=pd.DataFrame(data)\n",
        "data = data.values\n"
      ]
    },
    {
      "cell_type": "code",
      "execution_count": null,
      "metadata": {
        "id": "hwtK_WYcZHYG"
      },
      "outputs": [],
      "source": [
        "df"
      ]
    },
    {
      "cell_type": "code",
      "execution_count": null,
      "metadata": {
        "id": "h5AW1ox2fA5D"
      },
      "outputs": [],
      "source": [
        "from minisom import MiniSom\n",
        "# Initialization and training\n",
        "n_neurons = 4\n",
        "m_neurons = 4\n",
        "som = MiniSom(n_neurons, m_neurons, data.shape[1], sigma=1.5, learning_rate=.5, \n",
        "              neighborhood_function='gaussian', random_seed=0)\n",
        "\n",
        "som.pca_weights_init(data)\n",
        "som.train(data, 1000, verbose=True)  # random training"
      ]
    },
    {
      "cell_type": "code",
      "execution_count": null,
      "metadata": {
        "id": "-vism3refJCM"
      },
      "outputs": [],
      "source": [
        "import matplotlib.pyplot as plt\n",
        "%matplotlib inline\n",
        "\n",
        "plt.figure(figsize=(5, 5))\n",
        "\n",
        "plt.pcolor(som.distance_map().T, cmap='bone_r')  # plotting the distance map as background\n",
        "plt.colorbar()"
      ]
    },
    {
      "cell_type": "code",
      "execution_count": null,
      "metadata": {
        "id": "h3yu_HRAZHYI"
      },
      "outputs": [],
      "source": [
        "novaPessoa = data[50]"
      ]
    },
    {
      "cell_type": "code",
      "execution_count": null,
      "metadata": {
        "id": "mLgtoovnZHYJ"
      },
      "outputs": [],
      "source": [
        "novaPessoa"
      ]
    },
    {
      "cell_type": "code",
      "execution_count": null,
      "metadata": {
        "id": "n3PvCsBwZHYJ"
      },
      "outputs": [],
      "source": [
        "vencedor =()\n",
        "vencedor = som.winner(novaPessoa)\n",
        "vencedor"
      ]
    },
    {
      "cell_type": "code",
      "execution_count": null,
      "metadata": {
        "id": "vsWbeXSkZHYJ"
      },
      "outputs": [],
      "source": [
        "lista=[]\n",
        "\n",
        "for i in range(len(data)):\n",
        "    if vencedor == (som.winner(data[i])):\n",
        "        lista.append(i)\n",
        "        "
      ]
    },
    {
      "cell_type": "code",
      "execution_count": null,
      "metadata": {
        "id": "8aqHeHyBZHYJ"
      },
      "outputs": [],
      "source": [
        "len(lista)"
      ]
    },
    {
      "cell_type": "code",
      "execution_count": null,
      "metadata": {
        "id": "WkTw9uTBZHYK"
      },
      "outputs": [],
      "source": [
        "df.loc[df.index.isin(lista)]\n"
      ]
    },
    {
      "cell_type": "code",
      "execution_count": null,
      "metadata": {
        "id": "n0nBRHuUZHYK"
      },
      "outputs": [],
      "source": [
        "kmeans = KMeans(n_clusters = 5,\n",
        "max_iter = 300) #numero máximo de iterações\n",
        "pred_y = kmeans.fit_predict(data)\n"
      ]
    },
    {
      "cell_type": "code",
      "source": [
        "kmeans.cluster_centers_"
      ],
      "metadata": {
        "colab": {
          "base_uri": "https://localhost:8080/"
        },
        "id": "zziasvU2ALP9",
        "outputId": "32fad212-959e-4a0e-dca7-4b208dc726b5"
      },
      "execution_count": null,
      "outputs": [
        {
          "output_type": "execute_result",
          "data": {
            "text/plain": [
              "array([[5.81081081e-01, 3.20270270e+00, 2.78378378e+00, 1.32432432e+00,\n",
              "        2.25675676e+00, 2.70270270e-02, 5.54054054e-01, 4.45945946e-01,\n",
              "        8.64864865e-01, 9.05405405e-01, 2.70270270e-01, 4.00000000e+00,\n",
              "        3.25675676e+00, 2.94594595e+00, 1.22972973e+00, 3.21621622e+00,\n",
              "        1.57432432e+01, 1.58108108e+01, 1.61216216e+01],\n",
              "       [3.94736842e-01, 2.31578947e+00, 2.28947368e+00, 1.60526316e+00,\n",
              "        1.97368421e+00, 2.63157895e-02, 6.05263158e-01, 2.10526316e-01,\n",
              "        7.36842105e-01, 7.89473684e-01, 5.26315789e-01, 3.84210526e+00,\n",
              "        3.13157895e+00, 3.21052632e+00, 1.34210526e+00, 3.60526316e+00,\n",
              "        7.52631579e+00, 4.65789474e+00, 3.55271368e-15],\n",
              "       [4.36363636e-01, 2.58181818e+00, 2.39090909e+00, 1.50909091e+00,\n",
              "        2.05454545e+00, 2.27272727e-01, 6.18181818e-01, 5.27272727e-01,\n",
              "        7.90909091e-01, 8.09090909e-01, 2.63636364e-01, 4.10909091e+00,\n",
              "        3.20909091e+00, 3.06363636e+00, 1.56363636e+00, 3.40909091e+00,\n",
              "        9.42727273e+00, 9.65454545e+00, 9.91818182e+00],\n",
              "       [4.42622951e-01, 2.63934426e+00, 2.27868852e+00, 1.47540984e+00,\n",
              "        1.86885246e+00, 2.13114754e-01, 6.88524590e-01, 4.42622951e-01,\n",
              "        7.86885246e-01, 8.03278689e-01, 3.27868852e-01, 3.86885246e+00,\n",
              "        3.37704918e+00, 3.55737705e+00, 1.60655738e+00, 3.77049180e+00,\n",
              "        7.01639344e+00, 7.04918033e+00, 7.00000000e+00],\n",
              "       [4.91071429e-01, 2.83035714e+00, 2.70535714e+00, 1.41964286e+00,\n",
              "        1.98214286e+00, 9.82142857e-02, 6.07142857e-01, 4.82142857e-01,\n",
              "        7.76785714e-01, 8.39285714e-01, 3.92857143e-01, 3.82142857e+00,\n",
              "        3.20535714e+00, 2.98214286e+00, 1.57142857e+00, 3.76785714e+00,\n",
              "        1.24375000e+01, 1.24375000e+01, 1.25267857e+01]])"
            ]
          },
          "metadata": {},
          "execution_count": 13
        }
      ]
    },
    {
      "cell_type": "code",
      "source": [
        "pred_y"
      ],
      "metadata": {
        "colab": {
          "base_uri": "https://localhost:8080/"
        },
        "id": "hepciZZxALht",
        "outputId": "adc122e3-bb77-4a97-cf8c-9f540a796ea6"
      },
      "execution_count": null,
      "outputs": [
        {
          "output_type": "execute_result",
          "data": {
            "text/plain": [
              "array([3, 3, 2, 0, 2, 0, 4, 3, 0, 0, 2, 4, 4, 2, 0, 4, 4, 2, 3, 2, 0, 4,\n",
              "       0, 4, 2, 3, 4, 0, 4, 4, 2, 0, 0, 2, 4, 3, 0, 0, 4, 4, 2, 4, 0, 2,\n",
              "       2, 3, 4, 0, 0, 3, 4, 4, 2, 2, 4, 2, 0, 0, 2, 0, 2, 2, 2, 2, 2, 0,\n",
              "       4, 3, 2, 0, 0, 2, 3, 4, 4, 2, 2, 2, 2, 3, 4, 2, 3, 0, 2, 3, 3, 4,\n",
              "       2, 3, 3, 0, 3, 2, 4, 2, 4, 2, 4, 3, 3, 0, 4, 3, 0, 2, 3, 0, 4, 0,\n",
              "       0, 2, 4, 0, 2, 0, 4, 4, 3, 4, 0, 0, 4, 4, 3, 4, 2, 3, 1, 0, 1, 1,\n",
              "       4, 4, 1, 1, 1, 1, 4, 0, 1, 2, 2, 4, 1, 2, 1, 2, 1, 2, 1, 4, 2, 1,\n",
              "       4, 2, 4, 2, 0, 4, 1, 3, 1, 2, 3, 4, 2, 0, 1, 4, 1, 0, 4, 1, 2, 2,\n",
              "       4, 3, 2, 2, 3, 4, 0, 2, 4, 4, 4, 0, 3, 2, 4, 2, 3, 2, 4, 0, 0, 2,\n",
              "       0, 2, 0, 2, 2, 3, 2, 2, 3, 4, 2, 3, 3, 4, 4, 3, 2, 0, 3, 3, 3, 2,\n",
              "       3, 1, 0, 4, 4, 3, 0, 4, 2, 4, 4, 2, 2, 4, 3, 2, 4, 4, 4, 1, 4, 4,\n",
              "       1, 4, 1, 0, 4, 3, 3, 4, 3, 2, 3, 2, 2, 3, 4, 2, 0, 1, 0, 3, 4, 2,\n",
              "       1, 0, 2, 4, 2, 1, 2, 0, 2, 0, 2, 4, 2, 2, 3, 2, 3, 2, 4, 2, 2, 2,\n",
              "       0, 4, 0, 0, 4, 0, 4, 0, 4, 4, 1, 2, 4, 0, 4, 2, 4, 0, 4, 4, 0, 3,\n",
              "       4, 2, 1, 4, 4, 4, 4, 4, 1, 2, 2, 4, 4, 2, 2, 4, 0, 2, 0, 2, 2, 4,\n",
              "       3, 4, 1, 1, 1, 0, 4, 1, 0, 2, 4, 1, 0, 1, 2, 4, 0, 2, 0, 4, 3, 4,\n",
              "       3, 3, 4, 2, 4, 4, 2, 0, 4, 4, 2, 0, 4, 2, 4, 1, 2, 4, 3, 4, 4, 3,\n",
              "       0, 2, 0, 2, 0, 2, 0, 3, 2, 1, 3, 2, 3, 1, 3, 1, 2, 0, 3, 4, 2],\n",
              "      dtype=int32)"
            ]
          },
          "metadata": {},
          "execution_count": 14
        }
      ]
    }
  ],
  "metadata": {
    "colab": {
      "name": "RNA_Namoro.ipynb",
      "provenance": []
    },
    "kernelspec": {
      "display_name": "Python 3",
      "language": "python",
      "name": "python3"
    },
    "language_info": {
      "codemirror_mode": {
        "name": "ipython",
        "version": 3
      },
      "file_extension": ".py",
      "mimetype": "text/x-python",
      "name": "python",
      "nbconvert_exporter": "python",
      "pygments_lexer": "ipython3",
      "version": "3.8.8"
    }
  },
  "nbformat": 4,
  "nbformat_minor": 0
}