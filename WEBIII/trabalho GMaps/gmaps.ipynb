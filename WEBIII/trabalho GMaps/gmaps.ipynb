{
 "cells": [
  {
   "cell_type": "code",
   "execution_count": 1,
   "metadata": {},
   "outputs": [
    {
     "ename": "NameError",
     "evalue": "name 'gmaps' is not defined",
     "output_type": "error",
     "traceback": [
      "\u001b[1;31m---------------------------------------------------------------------------\u001b[0m",
      "\u001b[1;31mNameError\u001b[0m                                 Traceback (most recent call last)",
      "\u001b[1;32me:\\Daniel\\PDFs\\SI\\WEBIII\\trabalho GMaps\\gmaps.ipynb Célula: 1\u001b[0m in \u001b[0;36m<cell line: 7>\u001b[1;34m()\u001b[0m\n\u001b[0;32m      <a href='vscode-notebook-cell:/e%3A/Daniel/PDFs/SI/WEBIII/trabalho%20GMaps/gmaps.ipynb#W0sZmlsZQ%3D%3D?line=1'>2</a>\u001b[0m \u001b[39mfrom\u001b[39;00m \u001b[39mdatetime\u001b[39;00m \u001b[39mimport\u001b[39;00m datetime\n\u001b[0;32m      <a href='vscode-notebook-cell:/e%3A/Daniel/PDFs/SI/WEBIII/trabalho%20GMaps/gmaps.ipynb#W0sZmlsZQ%3D%3D?line=3'>4</a>\u001b[0m \u001b[39m# gmaps = googlemaps.Client(key='Add Your Key here')\u001b[39;00m\n\u001b[0;32m      <a href='vscode-notebook-cell:/e%3A/Daniel/PDFs/SI/WEBIII/trabalho%20GMaps/gmaps.ipynb#W0sZmlsZQ%3D%3D?line=4'>5</a>\u001b[0m \n\u001b[0;32m      <a href='vscode-notebook-cell:/e%3A/Daniel/PDFs/SI/WEBIII/trabalho%20GMaps/gmaps.ipynb#W0sZmlsZQ%3D%3D?line=5'>6</a>\u001b[0m \u001b[39m# Geocoding an address\u001b[39;00m\n\u001b[1;32m----> <a href='vscode-notebook-cell:/e%3A/Daniel/PDFs/SI/WEBIII/trabalho%20GMaps/gmaps.ipynb#W0sZmlsZQ%3D%3D?line=6'>7</a>\u001b[0m geocode_result \u001b[39m=\u001b[39m gmaps\u001b[39m.\u001b[39mgeocode(\u001b[39m'\u001b[39m\u001b[39m1600 Amphitheatre Parkway, Mountain View, CA\u001b[39m\u001b[39m'\u001b[39m)\n\u001b[0;32m      <a href='vscode-notebook-cell:/e%3A/Daniel/PDFs/SI/WEBIII/trabalho%20GMaps/gmaps.ipynb#W0sZmlsZQ%3D%3D?line=8'>9</a>\u001b[0m \u001b[39m# Look up an address with reverse geocoding\u001b[39;00m\n\u001b[0;32m     <a href='vscode-notebook-cell:/e%3A/Daniel/PDFs/SI/WEBIII/trabalho%20GMaps/gmaps.ipynb#W0sZmlsZQ%3D%3D?line=9'>10</a>\u001b[0m reverse_geocode_result \u001b[39m=\u001b[39m gmaps\u001b[39m.\u001b[39mreverse_geocode((\u001b[39m40.714224\u001b[39m, \u001b[39m-\u001b[39m\u001b[39m73.961452\u001b[39m))\n",
      "\u001b[1;31mNameError\u001b[0m: name 'gmaps' is not defined"
     ]
    }
   ],
   "source": [
    "import googlemaps\n",
    "from datetime import datetime\n",
    "\n",
    "gmaps = googlemaps.Client(key='Add Your Key here')\n",
    "\n",
    "# Geocoding an address\n",
    "geocode_result = gmaps.geocode('1600 Amphitheatre Parkway, Mountain View, CA')\n",
    "\n",
    "# Look up an address with reverse geocoding\n",
    "reverse_geocode_result = gmaps.reverse_geocode((40.714224, -73.961452))\n",
    "\n",
    "# Request directions via public transit\n",
    "now = datetime.now()\n",
    "directions_result = gmaps.directions(\"Sydney Town Hall\",\n",
    "                                     \"Parramatta, NSW\",\n",
    "                                     mode=\"transit\",\n",
    "                                     departure_time=now)"
   ]
  }
 ],
 "metadata": {
  "kernelspec": {
   "display_name": "Python 3.9.12 ('base')",
   "language": "python",
   "name": "python3"
  },
  "language_info": {
   "codemirror_mode": {
    "name": "ipython",
    "version": 3
   },
   "file_extension": ".py",
   "mimetype": "text/x-python",
   "name": "python",
   "nbconvert_exporter": "python",
   "pygments_lexer": "ipython3",
   "version": "3.9.12"
  },
  "orig_nbformat": 4,
  "vscode": {
   "interpreter": {
    "hash": "92d1c8824dd9ed58f2e2fe7d35df9188f2132fcf69312c535170a29d4fbf29a8"
   }
  }
 },
 "nbformat": 4,
 "nbformat_minor": 2
}
