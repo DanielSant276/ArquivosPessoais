{
 "cells": [
  {
   "cell_type": "code",
   "execution_count": null,
   "id": "84ecbbe7",
   "metadata": {},
   "outputs": [],
   "source": [
    "# Questão 12\n",
    "lista = []\n",
    "\n",
    "for i in range(5):\n",
    "    num = int(input(\"Escreva um número: \"))\n",
    "    lista.append(num)\n",
    "\n",
    "print(lista)"
   ]
  },
  {
   "cell_type": "code",
   "execution_count": 1,
   "id": "0ae7d7e8",
   "metadata": {},
   "outputs": [
    {
     "name": "stdout",
     "output_type": "stream",
     "text": [
      "x =  [10]\n",
      "x =  [10, 9]\n",
      "x =  [10, 9, 8]\n",
      "x =  [10, 9, 8, 7]\n",
      "x =  [10, 9, 8, 7, 6]\n",
      "x =  [10, 9, 8, 7, 6, 5]\n",
      "x =  [10, 9, 8, 7, 6, 5, 4]\n",
      "x =  [10, 9, 8, 7, 6, 5, 4, 3]\n",
      "x =  [10, 9, 8, 7, 6, 5, 4, 3, 2]\n",
      "x =  [7, 6, 5, 4, 3, 2]\n"
     ]
    }
   ],
   "source": [
    "# Questão 13\n",
    "x =[ ]\n",
    "for i in range(10,1,-1):\n",
    "    x.append(i)\n",
    "    print(\"x = \", x)\n",
    "    \n",
    "cont= (x[3:])\n",
    "print(\"x = \", cont)"
   ]
  },
  {
   "cell_type": "code",
   "execution_count": null,
   "id": "ba280f03",
   "metadata": {},
   "outputs": [],
   "source": [
    "# Questão 14\n",
    "lista = []\n",
    "lista_par = []\n",
    "lista_impar = []\n",
    "\n",
    "for i in range(20):\n",
    "    num = int(input(\"Escreva um número: \"))\n",
    "    lista.append(num)\n",
    "    \n",
    "for i in range(20):\n",
    "    if lista[i] % 2 == 0:\n",
    "        lista_par.append(lista[i])\n",
    "    else:\n",
    "        lista_impar.append(lista[i])\n",
    "        \n",
    "print(lista_par)\n",
    "print(lista_impar)"
   ]
  },
  {
   "cell_type": "code",
   "execution_count": null,
   "id": "40e20c97",
   "metadata": {},
   "outputs": [],
   "source": [
    "# Questão 15\n",
    "temperatura_ano = []\n",
    "meses = [\"Janeiro\", \"Fevereiro\", \"Março\", \"Abril\", \"Maio\", \"Junho\", \"Julho\", \"Agosto\", \"Setembro\", \"Outubro\", \"Novembro\", \"Dezembro\"]\n",
    "soma_temperatura = 0\n",
    "\n",
    "for i in range(12):\n",
    "    temperatura_mes = int(input(\"Escreva um número: \"))\n",
    "    temperatura_ano.append(temperatura_mes)\n",
    "    soma_temperatura = soma_temperatura + temperatura_mes\n",
    "\n",
    "media_temperatura = soma_temperatura / 12\n",
    "\n",
    "print(\"A média das temperaturas calculadas é: \", media_temperatura)\n",
    "\n",
    "contador = 1\n",
    "for i in range(12):\n",
    "    if temperatura_ano[i] > media_temperatura:\n",
    "        print(contador, \" \", meses[i])\n",
    "        contador = contador + 1"
   ]
  },
  {
   "cell_type": "code",
   "execution_count": null,
   "id": "9d5daf36",
   "metadata": {},
   "outputs": [],
   "source": [
    "# Questão 16 a)\n",
    "n = 10 # inicializa a variável n\n",
    "x1 = 0 # inicializa a variável x1\n",
    "x2 = 1 # inicializa a variável x2\n",
    "\n",
    "print(x1) # mostra o valor de x1\n",
    "print(x2) # mostra o valor de x2\n",
    "\n",
    "for k in range(n - 2): # incia um loop de 0 até n - 2\n",
    "    x_next = x1 + x2   # passa o valor de x1 + x2 para x_next\n",
    "    x1 = x2            # passa o valor de x2 para x1\n",
    "    x2 = x_next        # passa o valor de x_next para x2\n",
    "    print(x_next)      # mostra o valor de x_next"
   ]
  },
  {
   "cell_type": "code",
   "execution_count": null,
   "id": "e25a1742",
   "metadata": {},
   "outputs": [],
   "source": [
    "# Questão 16 b)\n",
    "n = 10 # inicializa a variável n\n",
    "x = [] # inicializa a lista x\n",
    "\n",
    "for k in range(n): # inicia um loop de 0 até n\n",
    "    x.append(0)    # adiciona um 0 em x\n",
    "    \n",
    "x[0] = 0 # adiciona 0 no valor na posição 0\n",
    "x[1] = 1 # adiciona 0 no valor na posição 1\n",
    "\n",
    "print(x[0])\n",
    "print(x[1])\n",
    "\n",
    "for k in range(n - 2): # inicia o loop de 0 até n-2\n",
    "    x[k + 2] = x[k + 1] + x[k] # em cada k+2 espaços adiciona k+1 e k\n",
    "    print(x[k+2])\n",
    "print(x) # print x\n",
    "\n",
    "\n",
    "# Os dois códigos servem para criar a sequência fibbonacci. O primeiro código é\n",
    "# feito com variável temporária e o segundo é feito com lista."
   ]
  },
  {
   "cell_type": "code",
   "execution_count": null,
   "id": "4cb282de",
   "metadata": {},
   "outputs": [],
   "source": [
    "# Questão 17\n",
    "def potencia(a, b):\n",
    "    return pow(a, b)"
   ]
  },
  {
   "cell_type": "code",
   "execution_count": null,
   "id": "6b5aa064",
   "metadata": {},
   "outputs": [],
   "source": [
    "# Questão 18\n",
    "def soma_inv(num1, num2, num3):\n",
    "    return (1 / num1) + (1 / num2) + (1 / num3)"
   ]
  },
  {
   "cell_type": "code",
   "execution_count": null,
   "id": "423f920a",
   "metadata": {},
   "outputs": [],
   "source": [
    "# Questão 19\n",
    "def maior(a, b, c):\n",
    "    maior = a\n",
    "    \n",
    "    if maior < b:\n",
    "        maior = b\n",
    "    \n",
    "    if maior < c:\n",
    "        maior = c\n",
    "    \n",
    "    return maior"
   ]
  },
  {
   "cell_type": "code",
   "execution_count": null,
   "id": "b87d97ab",
   "metadata": {},
   "outputs": [],
   "source": [
    "# Questão 20\n",
    "def triangulo(lado1, lado2, lado3):\n",
    "    if lado1 == lado2 and lado2 == lado3:\n",
    "        print(\"Equilátero\")\n",
    "    elif (lado1 == lado2 and lado1 != lado3) or (lado1 == lado3 and lado1 != lado2) or (lado2 == lado3 and lado1 != lado3):\n",
    "        print(\"Isosceles\")\n",
    "    else:\n",
    "        print(\"Escaleno\")"
   ]
  },
  {
   "cell_type": "code",
   "execution_count": null,
   "id": "147394df",
   "metadata": {},
   "outputs": [],
   "source": [
    "ic592.py\n",
    "\n",
    "def potencia(a, b):\n",
    "    return pow(a, b)\n",
    "\n",
    "def soma_inv(num1, num2, num3):\n",
    "    return (1 / num1) + (1 / num2) + (1 / num3)\n",
    "\n",
    "def maior(a, b, c):\n",
    "    maior = a\n",
    "    \n",
    "    if maior < b:\n",
    "        maior = b\n",
    "    \n",
    "    if maior < c:\n",
    "        maior = c\n",
    "    \n",
    "    return maior\n",
    "\n",
    "def triangulo(lado1, lado2, lado3):\n",
    "    if lado1 == lado2 and lado2 == lado3:\n",
    "        print(\"Equilátero\")\n",
    "    elif (lado1 == lado2 and lado1 != lado3) or (lado1 == lado3 and lado1 != lado2) or (lado2 == lado3 and lado1 != lado3):\n",
    "        print(\"Isosceles\")\n",
    "    else:\n",
    "        print(\"Escaleno\")"
   ]
  },
  {
   "cell_type": "code",
   "execution_count": null,
   "id": "71cc36f9",
   "metadata": {},
   "outputs": [],
   "source": [
    "# Questão 22\n",
    "import ic592\n",
    "\n",
    "num1 = int(input(\"Insira um número: \"))\n",
    "num2 = int(input(\"Insira um número: \"))\n",
    "num3 = int(input(\"Insira um número: \"))\n",
    "\n",
    "ic592.soma_inv(num1, num2, num3)"
   ]
  }
 ],
 "metadata": {
  "kernelspec": {
   "display_name": "Python 3 (ipykernel)",
   "language": "python",
   "name": "python3"
  },
  "language_info": {
   "codemirror_mode": {
    "name": "ipython",
    "version": 3
   },
   "file_extension": ".py",
   "mimetype": "text/x-python",
   "name": "python",
   "nbconvert_exporter": "python",
   "pygments_lexer": "ipython3",
   "version": "3.9.12"
  }
 },
 "nbformat": 4,
 "nbformat_minor": 5
}
