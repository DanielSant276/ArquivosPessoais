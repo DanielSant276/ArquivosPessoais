{
 "cells": [
  {
   "cell_type": "code",
   "execution_count": null,
   "id": "d80e0e8c",
   "metadata": {},
   "outputs": [],
   "source": [
    "# Questão 1\n",
    "(V) (III) (IV) (II) (I)"
   ]
  },
  {
   "cell_type": "code",
   "execution_count": null,
   "id": "e6c3944b",
   "metadata": {},
   "outputs": [],
   "source": [
    "# Questão 2\n",
    "DM > MP > MC > R"
   ]
  },
  {
   "cell_type": "code",
   "execution_count": null,
   "id": "c884b51b",
   "metadata": {},
   "outputs": [],
   "source": [
    "# Questão 3\n",
    "Unidade Central de Processamento"
   ]
  },
  {
   "cell_type": "code",
   "execution_count": null,
   "id": "baeb4c58",
   "metadata": {},
   "outputs": [],
   "source": [
    "# Questão 4\n",
    "E"
   ]
  },
  {
   "cell_type": "code",
   "execution_count": null,
   "id": "65ed191e",
   "metadata": {},
   "outputs": [],
   "source": [
    "# Questão 5\n",
    "As memórias caches de menor número são mais próximas do processador.\n",
    "Quanto menor e mais rápidas elas são, maior é o curto para produzir uma.\n",
    "Assim, a cache L2 é maior pois ela não é tão rápida quanto a cache L1."
   ]
  },
  {
   "cell_type": "code",
   "execution_count": null,
   "id": "325bda4c",
   "metadata": {},
   "outputs": [],
   "source": [
    "# Questão 6\n",
    "Sim, o tempo de acesso é muito mais rápido nos SSDs. Além disso, os SSDs são mais resistentes que os HDs comuns e \n",
    "também mais leves."
   ]
  },
  {
   "cell_type": "code",
   "execution_count": null,
   "id": "27bcdc92",
   "metadata": {},
   "outputs": [],
   "source": [
    "# Questão 7\n",
    "A"
   ]
  },
  {
   "cell_type": "code",
   "execution_count": null,
   "id": "ea45b4ff",
   "metadata": {},
   "outputs": [],
   "source": [
    "# Questão 8\n",
    "C"
   ]
  },
  {
   "cell_type": "code",
   "execution_count": null,
   "id": "082db18d",
   "metadata": {},
   "outputs": [],
   "source": [
    "# Questão 9\n",
    "14"
   ]
  },
  {
   "cell_type": "code",
   "execution_count": null,
   "id": "0d552c05",
   "metadata": {},
   "outputs": [],
   "source": [
    "# Questão 10\n",
    "5A"
   ]
  }
 ],
 "metadata": {
  "kernelspec": {
   "display_name": "Python 3 (ipykernel)",
   "language": "python",
   "name": "python3"
  },
  "language_info": {
   "codemirror_mode": {
    "name": "ipython",
    "version": 3
   },
   "file_extension": ".py",
   "mimetype": "text/x-python",
   "name": "python",
   "nbconvert_exporter": "python",
   "pygments_lexer": "ipython3",
   "version": "3.9.12"
  }
 },
 "nbformat": 4,
 "nbformat_minor": 5
}
