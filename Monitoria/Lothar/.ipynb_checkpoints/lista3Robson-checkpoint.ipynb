{
 "cells": [
  {
   "cell_type": "code",
   "execution_count": null,
   "id": "6c5480ec",
   "metadata": {},
   "outputs": [],
   "source": [
    "# Questão 1\n",
    "capacitor1 = int(input(\"Digite capacitância de um: \"))\n",
    "capacitor2 = int(input(\"Digite capacitância de dois: \"))\n",
    "capacitor3 = int(input(\"Digite capacitância de tres: \"))"
   ]
  },
  {
   "cell_type": "code",
   "execution_count": 6,
   "id": "a90bfd35",
   "metadata": {},
   "outputs": [
    {
     "name": "stdout",
     "output_type": "stream",
     "text": [
      "Escreva o número: 10\n",
      "Escreva o número: 7\n",
      "12\n"
     ]
    }
   ],
   "source": [
    "# Questão 2\n",
    "num1 = int(input(\"Escreva o número: \"))\n",
    "num2 = int(input(\"Escreva o número: \"))\n",
    "\n",
    "if num1 + num2 > 20:\n",
    "    print(num1 + num2 + 8)\n",
    "else:\n",
    "    print(num1 + num2 - 5)"
   ]
  },
  {
   "cell_type": "code",
   "execution_count": 10,
   "id": "9a8e9230",
   "metadata": {},
   "outputs": [
    {
     "ename": "IndentationError",
     "evalue": "expected an indented block (1233425924.py, line 10)",
     "output_type": "error",
     "traceback": [
      "\u001b[1;36m  Input \u001b[1;32mIn [10]\u001b[1;36m\u001b[0m\n\u001b[1;33m    else:\u001b[0m\n\u001b[1;37m    ^\u001b[0m\n\u001b[1;31mIndentationError\u001b[0m\u001b[1;31m:\u001b[0m expected an indented block\n"
     ]
    }
   ],
   "source": [
    "# Questão 3\n",
    "nota1 = int(input(\"Digite a primeira nota: \"))\n",
    "nota2 = int(input(\"Digite a segunda nota: \"))\n",
    "\n",
    "media = (nota1 + nota2) / 2\n",
    "\n",
    "print(media)\n",
    "\n",
    "if media >= 6:\n",
    "    print(\"Aprovado\")\n",
    "else:\n",
    "    print(\"Reprovado\")"
   ]
  },
  {
   "cell_type": "code",
   "execution_count": 13,
   "id": "868138e3",
   "metadata": {},
   "outputs": [
    {
     "name": "stdout",
     "output_type": "stream",
     "text": [
      "Escreva o número a: 8\n",
      "Escreva o número b: 5\n",
      "Escreva o número c: 9\n",
      "5\n"
     ]
    }
   ],
   "source": [
    "# Questão 4\n",
    "a = int(input(\"Escreva o número a: \"))\n",
    "b = int(input(\"Escreva o número b: \"))\n",
    "c = int(input(\"Escreva o número c: \"))\n",
    "\n",
    "if a > b:\n",
    "    if b > c:\n",
    "        print(c)\n",
    "    else:\n",
    "        print(b)\n",
    "else:\n",
    "    if a > c:\n",
    "        print(c)\n",
    "    else:\n",
    "        print(a)"
   ]
  },
  {
   "cell_type": "code",
   "execution_count": 24,
   "id": "a15f27f1",
   "metadata": {},
   "outputs": [
    {
     "name": "stdout",
     "output_type": "stream",
     "text": [
      "Escreva o primeiro lado: 8\n",
      "Escreva o segundo lado: 7\n",
      "Escreva o terceiro lado: 3\n",
      "Escaleno\n"
     ]
    }
   ],
   "source": [
    "# Questão 7\n",
    "lado1 = int(input(\"Escreva o primeiro lado: \"))\n",
    "lado2 = int(input(\"Escreva o segundo lado: \"))\n",
    "lado3 = int(input(\"Escreva o terceiro lado: \"))\n",
    "\n",
    "if lado1 == lado2 and lado2 == lado3:\n",
    "    print(\"Equilátero\")\n",
    "elif (lado1 == lado2 and lado1 != lado3) or (lado1 == lado3 and lado1 != lado2) or (lado2 == lado3 and lado1 != lado3):\n",
    "    print(\"Isosceles\")\n",
    "else:\n",
    "    print(\"Escaleno\")"
   ]
  },
  {
   "cell_type": "code",
   "execution_count": null,
   "id": "40199dd6",
   "metadata": {},
   "outputs": [],
   "source": []
  },
  {
   "cell_type": "code",
   "execution_count": null,
   "id": "9c56b76d",
   "metadata": {},
   "outputs": [],
   "source": []
  },
  {
   "cell_type": "code",
   "execution_count": null,
   "id": "0d26b5f6",
   "metadata": {},
   "outputs": [],
   "source": []
  },
  {
   "cell_type": "code",
   "execution_count": null,
   "id": "252c5e1a",
   "metadata": {},
   "outputs": [],
   "source": []
  },
  {
   "cell_type": "code",
   "execution_count": null,
   "id": "7092c7f0",
   "metadata": {},
   "outputs": [],
   "source": []
  },
  {
   "cell_type": "code",
   "execution_count": null,
   "id": "789a7224",
   "metadata": {},
   "outputs": [],
   "source": []
  },
  {
   "cell_type": "code",
   "execution_count": null,
   "id": "1a014320",
   "metadata": {},
   "outputs": [],
   "source": []
  }
 ],
 "metadata": {
  "kernelspec": {
   "display_name": "Python 3 (ipykernel)",
   "language": "python",
   "name": "python3"
  },
  "language_info": {
   "codemirror_mode": {
    "name": "ipython",
    "version": 3
   },
   "file_extension": ".py",
   "mimetype": "text/x-python",
   "name": "python",
   "nbconvert_exporter": "python",
   "pygments_lexer": "ipython3",
   "version": "3.9.12"
  }
 },
 "nbformat": 4,
 "nbformat_minor": 5
}
