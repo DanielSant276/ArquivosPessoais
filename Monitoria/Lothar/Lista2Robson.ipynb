{
 "cells": [
  {
   "cell_type": "code",
   "execution_count": 2,
   "id": "f86b6bf2",
   "metadata": {},
   "outputs": [],
   "source": [
    "# Questão 1\n",
    "ano = int(input(\"Escreva qual ano você nasceu: \"))\n",
    "idade = 2022 - ano\n",
    "\n",
    "print(\"Você terá \", idade, \" anos em 31/12/2022\")"
   ]
  },
  {
   "cell_type": "code",
   "execution_count": 3,
   "id": "60de490c",
   "metadata": {},
   "outputs": [],
   "source": [
    "# Questão 2\n",
    "temperaturaC = int(input(\"Insira a temperatura em Celsius: \"))\n",
    "\n",
    "temperaturaF = (temperaturaC * 9 / 5) + 32 \n",
    "temperaturaK = temperaturaC + 273\n",
    "\n",
    "print(temperaturaF)\n",
    "print(temperaturaK)"
   ]
  },
  {
   "cell_type": "code",
   "execution_count": 4,
   "id": "60abc14e",
   "metadata": {},
   "outputs": [],
   "source": [
    "# Questão 3\n",
    "num = int (input(\"Insira um número: \"))\n",
    "\n",
    "print(\"Seu antecessor é \", num - 1)\n",
    "print(\"Seu sucessor é \", num + 1)"
   ]
  },
  {
   "cell_type": "code",
   "execution_count": 5,
   "id": "fba60376",
   "metadata": {},
   "outputs": [],
   "source": [
    "# Questão 4\n",
    "nota1 = int(input(\"Digite a primeira nota: \"))\n",
    "nota2 = int(input(\"Digite a segunda nota: \"))\n",
    "nota3 = int(input(\"Digite a terceira nota: \"))\n",
    "\n",
    "media = (nota1 + nota2 + nota3) / 3\n",
    "mediaPonderada = (nota1 * 2 + nota2 * 3 + nota3 * 5) / 10\n",
    "\n",
    "print(\"A média é: \", media)\n",
    "print(\"A média ponderada é: \", mediaPonderada)"
   ]
  },
  {
   "cell_type": "code",
   "execution_count": 6,
   "id": "f099930d",
   "metadata": {},
   "outputs": [],
   "source": [
    "# Questão 5\n",
    "pX1 = int(input(\"Digite o valor de x do ponto 1: \"))\n",
    "pY1 = int(input(\"Digite o valor de y do ponto 1: \"))\n",
    "pX2 = int(input(\"Digite o valor de x do ponto 2: \"))\n",
    "pY2 = int(input(\"Digite o valor de y do ponto 2: \"))\n",
    "\n",
    "distancia = sqrt(pow(x2 - x1, 2) + pow(y2 - y1, 2))\n",
    "\n",
    "print(\"A distância é: \", distancia)"
   ]
  },
  {
   "cell_type": "code",
   "execution_count": 7,
   "id": "c3e499a8",
   "metadata": {},
   "outputs": [],
   "source": [
    "# Questão 6\n",
    "sombra_pessoa = float(input(\"Insira a sombra da pessoa: \"))\n",
    "sombra_predio = float(input(\"Insira a sombra do prédio: \"))\n",
    "altura_pessoa = float(input(\"Insira a sua altura: \"))\n",
    "\n",
    "altura_predio = (altura_pessoa * sombra_predio) / sombra_pessoa\n",
    "\n",
    "print(\"A altura do prédio é: \", altura_predio)"
   ]
  },
  {
   "cell_type": "code",
   "execution_count": 8,
   "id": "8c1420b7",
   "metadata": {},
   "outputs": [],
   "source": [
    "# Questão 7\n",
    "num = int(input(\"Insira um número: \"))\n",
    "\n",
    "if num % 2 == 0:\n",
    "    print(\"Número é par\")\n",
    "else:\n",
    "    print(\"Número é impar\")"
   ]
  },
  {
   "cell_type": "code",
   "execution_count": 2,
   "id": "cbcb243e",
   "metadata": {},
   "outputs": [
    {
     "name": "stdout",
     "output_type": "stream",
     "text": [
      "Digite o comprimento do lado do quadrado: 3\n",
      "12\n",
      "9\n"
     ]
    }
   ],
   "source": [
    "# Questão 8\n",
    "lado = int(input(\"Digite o comprimento do lado do quadrado: \"))\n",
    "\n",
    "perimetro = lado + lado + lado + lado\n",
    "area = lado * lado\n",
    "\n",
    "print(perimetro)\n",
    "print(area)"
   ]
  },
  {
   "cell_type": "code",
   "execution_count": 10,
   "id": "79bfc3a4",
   "metadata": {},
   "outputs": [],
   "source": [
    "# Questão 9\n",
    "a = int(input(\"Escreva o a: \"))\n",
    "b = int(input(\"Escreva o b: \"))\n",
    "c = int(input(\"Escreva o c: \"))\n",
    "\n",
    "delta = b**2 - (4 * a * c)\n",
    "\n",
    "if delta == 0:\n",
    "    x = (-b + sqrt(delta)) / (2 * a)\n",
    "    print(\"O valor da raiz é: \", x1)\n",
    "elif delta > 0:\n",
    "    x1 = (-b + sqrt(delta)) / (2 * a)\n",
    "    x2 = (-b - sqrt(delta)) / (2 * a)\n",
    "    print(\"O valor da primeira raiz é: \", x1)\n",
    "    print(\"O valor da segunda raiz é: \", x2)\n",
    "else:\n",
    "    print(\"Não tem raiz real\")\n",
    "    "
   ]
  },
  {
   "cell_type": "code",
   "execution_count": 11,
   "id": "bbaffb49",
   "metadata": {},
   "outputs": [],
   "source": [
    "# Questão 10\n",
    "num1 = int(input(\"Insira um número: \"))\n",
    "num2 = int(input(\"Insira um número: \"))\n",
    "num3 = int(input(\"Insira um número: \"))\n",
    "\n",
    "soma = num1 + num2 + num3\n",
    "\n",
    "print(soma)"
   ]
  },
  {
   "cell_type": "code",
   "execution_count": 12,
   "id": "b6aa15eb",
   "metadata": {},
   "outputs": [],
   "source": [
    "# Questão 11\n",
    "(V) (V) (F)"
   ]
  },
  {
   "cell_type": "code",
   "execution_count": 13,
   "id": "cf03019c",
   "metadata": {},
   "outputs": [],
   "source": [
    "# Questão 12\n",
    "nome = input(\"insira seu nome: \")\n",
    "\n",
    "print(nome, \" seja bem-vindo ao mundo fantástico do Python....\")"
   ]
  },
  {
   "cell_type": "code",
   "execution_count": 14,
   "id": "12067c55",
   "metadata": {},
   "outputs": [],
   "source": [
    "# Questão 13\n",
    "qtd_alunos = int(input(\"Insira a quantidade de alunos: \"))\n",
    "\n",
    "vacinas = qtd_alunos * 3\n",
    "\n",
    "print(\"Serão necessárias \", vacinas, \"doses de vacinas\")"
   ]
  },
  {
   "cell_type": "code",
   "execution_count": 15,
   "id": "890eb495",
   "metadata": {},
   "outputs": [],
   "source": [
    "# Questão 14\n",
    "num1 = int(input(\"Insira um número: \"))\n",
    "num2 = int(input(\"Insira um número: \"))\n",
    "num3 = int(input(\"Insira um número: \"))\n",
    "\n",
    "inversos = (1 / num1) + (1 / num2) + (1 / num3)\n",
    "\n",
    "print(inversos)"
   ]
  },
  {
   "cell_type": "code",
   "execution_count": null,
   "id": "8a071d51",
   "metadata": {},
   "outputs": [],
   "source": [
    "# Questão 15\n",
    "raio = 2\n",
    "lado_retangulo = 5\n",
    "base_retangulo = 7\n",
    "\n",
    "area_circulo = 3.14 * (r**2)\n",
    "area_retangulo = lado_retangulo * base_retangulo\n",
    "\n",
    "area_vazia = area_retangulo - area_circulo\n",
    "\n",
    "print(\"A área não ocupada é de: \", area_vazia)\n"
   ]
  }
 ],
 "metadata": {
  "kernelspec": {
   "display_name": "Python 3 (ipykernel)",
   "language": "python",
   "name": "python3"
  },
  "language_info": {
   "codemirror_mode": {
    "name": "ipython",
    "version": 3
   },
   "file_extension": ".py",
   "mimetype": "text/x-python",
   "name": "python",
   "nbconvert_exporter": "python",
   "pygments_lexer": "ipython3",
   "version": "3.9.12"
  }
 },
 "nbformat": 4,
 "nbformat_minor": 5
}
