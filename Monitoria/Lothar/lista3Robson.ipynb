{
 "cells": [
  {
   "cell_type": "code",
   "execution_count": null,
   "id": "fc08b971",
   "metadata": {},
   "outputs": [],
   "source": [
    "# Questão 1\n",
    "capacitor1 = int(input(\"Digite capacitância de um: \"))\n",
    "capacitor2 = int(input(\"Digite capacitância de dois: \"))\n",
    "capacitor3 = int(input(\"Digite capacitância de tres: \"))\n",
    "\n",
    "serie = 1 / ((1 / capacitor1) + (1 / capacitor2) + (1 / capacitor3)) \n",
    "paralelo = capacitor1 + capacitor2 + capacitor3\n",
    "\n",
    "print(\"capacitancia em série: \", serie)\n",
    "print(\"capacitancia em paralelo: \", paralelo)"
   ]
  },
  {
   "cell_type": "code",
   "execution_count": null,
   "id": "a90bfd35",
   "metadata": {},
   "outputs": [],
   "source": [
    "# Questão 2\n",
    "num1 = int(input(\"Escreva o número: \"))\n",
    "num2 = int(input(\"Escreva o número: \"))\n",
    "\n",
    "if num1 + num2 > 20:\n",
    "    print(num1 + num2 + 8)\n",
    "else:\n",
    "    print(num1 + num2 - 5)"
   ]
  },
  {
   "cell_type": "code",
   "execution_count": null,
   "id": "9a8e9230",
   "metadata": {},
   "outputs": [],
   "source": [
    "# Questão 3\n",
    "nota1 = int(input(\"Digite a primeira nota: \"))\n",
    "nota2 = int(input(\"Digite a segunda nota: \"))\n",
    "\n",
    "media = (nota1 + nota2) / 2\n",
    "\n",
    "print(media)\n",
    "\n",
    "if media >= 6:\n",
    "    print(\"Aprovado\")\n",
    "else:\n",
    "    print(\"Reprovado\")"
   ]
  },
  {
   "cell_type": "code",
   "execution_count": null,
   "id": "868138e3",
   "metadata": {},
   "outputs": [],
   "source": [
    "# Questão 4\n",
    "a = int(input(\"Escreva o número a: \"))\n",
    "b = int(input(\"Escreva o número b: \"))\n",
    "c = int(input(\"Escreva o número c: \"))\n",
    "\n",
    "if a > b:\n",
    "    if b > c:\n",
    "        print(c)\n",
    "    else:\n",
    "        print(b)\n",
    "else:\n",
    "    if a > c:\n",
    "        print(c)\n",
    "    else:\n",
    "        print(a)"
   ]
  },
  {
   "cell_type": "code",
   "execution_count": null,
   "id": "40199dd6",
   "metadata": {},
   "outputs": [],
   "source": [
    "# Questão 5\n",
    "a = int(input(\"Escreva o a: \"))\n",
    "b = int(input(\"Escreva o b: \"))\n",
    "c = int(input(\"Escreva o c: \"))\n",
    "\n",
    "if (a == 13 or b == 13 or c == 13):\n",
    "    if a == 13:\n",
    "        print(0)\n",
    "    elif b == 13:\n",
    "        print(a)\n",
    "    else:\n",
    "        print(a + b)\n",
    "else:\n",
    "    print(a + b + c)"
   ]
  },
  {
   "cell_type": "code",
   "execution_count": null,
   "id": "9c56b76d",
   "metadata": {},
   "outputs": [],
   "source": [
    "# Questão 6\n",
    "num = int(input(\"Escreva um número: \"))\n",
    "c =  int(num / 100)\n",
    "d = int((num - (c * 100)) / 10) \n",
    "u = int((num - (d * 10) - (c * 100)) / 1)\n",
    "\n",
    "if c > 0:\n",
    "    print(c, \"centenas\", end=\", \")\n",
    "if d >= 0:\n",
    "    print(d, \"dezenas \", end=\"e \")\n",
    "if u >= 0:\n",
    "    print(u, \"unidades.\")    "
   ]
  },
  {
   "cell_type": "code",
   "execution_count": null,
   "id": "a15f27f1",
   "metadata": {},
   "outputs": [],
   "source": [
    "# Questão 7\n",
    "lado1 = int(input(\"Escreva o primeiro lado: \"))\n",
    "lado2 = int(input(\"Escreva o segundo lado: \"))\n",
    "lado3 = int(input(\"Escreva o terceiro lado: \"))\n",
    "\n",
    "if lado1 == lado2 and lado2 == lado3:\n",
    "    print(\"Equilátero\")\n",
    "elif (lado1 == lado2 and lado1 != lado3) or (lado1 == lado3 and lado1 != lado2) or (lado2 == lado3 and lado1 != lado3):\n",
    "    print(\"Isosceles\")\n",
    "else:\n",
    "    print(\"Escaleno\")"
   ]
  },
  {
   "cell_type": "code",
   "execution_count": null,
   "id": "0d26b5f6",
   "metadata": {},
   "outputs": [],
   "source": [
    "# Questão 8\n",
    "valor_final = int(input(\"Digite um número\"))\n",
    "soma = 0\n",
    "\n",
    "for i in range(valor_final + 1):\n",
    "    soma = soma + i**2\n",
    "\n",
    "print(soma)"
   ]
  },
  {
   "cell_type": "code",
   "execution_count": null,
   "id": "252c5e1a",
   "metadata": {},
   "outputs": [],
   "source": [
    "# Questão 9\n",
    "for n in range(2,10):\n",
    "    for x in range(2,n):\n",
    "        if (n % x == 0):\n",
    "            print (\"%d = %d x %.0f\" % (n, x, n/x))\n",
    "            break\n",
    "        else:\n",
    "            print(n)"
   ]
  },
  {
   "cell_type": "code",
   "execution_count": 1,
   "id": "7092c7f0",
   "metadata": {},
   "outputs": [
    {
     "ename": "NameError",
     "evalue": "name 'x' is not defined",
     "output_type": "error",
     "traceback": [
      "\u001b[1;31m---------------------------------------------------------------------------\u001b[0m",
      "\u001b[1;31mNameError\u001b[0m                                 Traceback (most recent call last)",
      "Input \u001b[1;32mIn [1]\u001b[0m, in \u001b[0;36m<cell line: 5>\u001b[1;34m()\u001b[0m\n\u001b[0;32m      3\u001b[0m contador \u001b[38;5;241m=\u001b[39m \u001b[38;5;241m50\u001b[39m\n\u001b[0;32m      5\u001b[0m \u001b[38;5;28;01mwhile\u001b[39;00m contador \u001b[38;5;241m>\u001b[39m \u001b[38;5;241m0\u001b[39m:\n\u001b[1;32m----> 6\u001b[0m     s \u001b[38;5;241m=\u001b[39m s \u001b[38;5;241m+\u001b[39m \u001b[43mx\u001b[49m\n\u001b[0;32m      7\u001b[0m     contador \u001b[38;5;241m=\u001b[39m contador \u001b[38;5;241m-\u001b[39m \u001b[38;5;241m1\u001b[39m\n",
      "\u001b[1;31mNameError\u001b[0m: name 'x' is not defined"
     ]
    }
   ],
   "source": [
    "# Questão 9\n",
    "s = 0\n",
    "contador = 0\n",
    "\n",
    "while contador < 50:\n",
    "    s = s + contador\n",
    "    contador = contador + 1 "
   ]
  },
  {
   "cell_type": "code",
   "execution_count": 2,
   "id": "789a7224",
   "metadata": {},
   "outputs": [
    {
     "name": "stdout",
     "output_type": "stream",
     "text": [
      "a =  1\n",
      "b =  1\n",
      "\n",
      "a =  1\n",
      "b =  2\n",
      "\n",
      "a =  2\n",
      "b =  3\n",
      "\n",
      "a =  3\n",
      "b =  5\n",
      "\n",
      "a =  5\n",
      "b =  8\n",
      "\n",
      "a =  8\n",
      "b =  13\n",
      "\n"
     ]
    }
   ],
   "source": [
    "# Questão 10\n",
    "a, b = 0, 1\n",
    "while b < 10:\n",
    "    a, b = b, a+b\n",
    "    print(\"a = \", a)\n",
    "    print(\"b = \", b)\n",
    "    print()"
   ]
  },
  {
   "cell_type": "code",
   "execution_count": null,
   "id": "1a014320",
   "metadata": {},
   "outputs": [],
   "source": [
    "# Questão 11\n",
    "num = int(input(\"Escreva um número:\"))\n",
    "soma = 1\n",
    "\n",
    "for i in range(2, num + 1):\n",
    "    soma = soma + (1/i)\n",
    "\n",
    "print(soma)"
   ]
  }
 ],
 "metadata": {
  "kernelspec": {
   "display_name": "Python 3 (ipykernel)",
   "language": "python",
   "name": "python3"
  },
  "language_info": {
   "codemirror_mode": {
    "name": "ipython",
    "version": 3
   },
   "file_extension": ".py",
   "mimetype": "text/x-python",
   "name": "python",
   "nbconvert_exporter": "python",
   "pygments_lexer": "ipython3",
   "version": "3.9.12"
  }
 },
 "nbformat": 4,
 "nbformat_minor": 5
}
