{
 "cells": [
  {
   "cell_type": "code",
   "execution_count": 26,
   "metadata": {},
   "outputs": [
    {
     "name": "stdout",
     "output_type": "stream",
     "text": [
      "20.0\n"
     ]
    }
   ],
   "source": [
    "import math\n",
    "\n",
    "from numpy import subtract\n",
    "\n",
    "def dot(x, y):\n",
    "  return sum(x_i * y_i for x_i, y_i in zip(x, y))\n",
    "\n",
    "def sum_of_squares(x):\n",
    "  return dot(x, x)\n",
    "\n",
    "def squared_distance(x, y):\n",
    "  return sum_of_squares(subtract(x, y))\n",
    "\n",
    "def magnitude(x):\n",
    "  return math.sqrt(sum_of_squares(x))\n",
    "\n",
    "print(magnitude([12, 16]))"
   ]
  },
  {
   "cell_type": "code",
   "execution_count": null,
   "metadata": {},
   "outputs": [],
   "source": []
  }
 ],
 "metadata": {
  "kernelspec": {
   "display_name": "Python 3.9.12 ('base')",
   "language": "python",
   "name": "python3"
  },
  "language_info": {
   "codemirror_mode": {
    "name": "ipython",
    "version": 3
   },
   "file_extension": ".py",
   "mimetype": "text/x-python",
   "name": "python",
   "nbconvert_exporter": "python",
   "pygments_lexer": "ipython3",
   "version": "3.9.12"
  },
  "orig_nbformat": 4,
  "vscode": {
   "interpreter": {
    "hash": "92d1c8824dd9ed58f2e2fe7d35df9188f2132fcf69312c535170a29d4fbf29a8"
   }
  }
 },
 "nbformat": 4,
 "nbformat_minor": 2
}
